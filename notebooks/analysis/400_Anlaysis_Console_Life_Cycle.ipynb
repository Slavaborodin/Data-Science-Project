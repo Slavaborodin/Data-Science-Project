{
 "cells": [
  {
   "cell_type": "markdown",
   "metadata": {},
   "source": [
    "# 400_Console_Life_Cycle"
   ]
  },
  {
   "cell_type": "markdown",
   "metadata": {},
   "source": [
    "## Purpose"
   ]
  },
  {
   "cell_type": "markdown",
   "metadata": {},
   "source": [
    "This notebook will do the analysis to answer our fourth research question based on the life cycle of a console."
   ]
  },
  {
   "cell_type": "markdown",
   "metadata": {},
   "source": [
    "## Datasets"
   ]
  },
  {
   "cell_type": "markdown",
   "metadata": {},
   "source": [
    "- Input: Console_Sales_2008-2017.pkl && Console_Sales_All_Time && Clean_Games_Sales_Total.pkl\n",
    "- output: 400_Console_Life_Yearly_Data.pkl && 400_Console_Sales.pkl && 400_Total_Console_Sales.pkl"
   ]
  },
  {
   "cell_type": "code",
   "execution_count": 1,
   "metadata": {},
   "outputs": [],
   "source": [
    "import os \n",
    "import sys\n",
    "import pandas as pd\n",
    "import numpy as np \n",
    "import hashlib \n",
    "import seaborn as sns\n",
    "import matplotlib.pylab as plt \n",
    "\n",
    "%matplotlib inline "
   ]
  },
  {
   "cell_type": "code",
   "execution_count": 2,
   "metadata": {},
   "outputs": [],
   "source": [
    "sns.set_style(\"whitegrid\")\n",
    "sns.set_style(\"ticks\")\n",
    "sns.set_palette(\"muted\")\n",
    "sns.set_context(\"poster\")\n",
    "\n",
    "# Text, linees, and markers...\n",
    "plt.rcParams['text.color'] = 'k'\n",
    "plt.rcParams['axes.labelcolor'] = 'k'\n",
    "\n",
    "plt.rcParams['axes.titlesize'] = 28\n",
    "plt.rcParams['axes.titleweight'] = 'bold'\n",
    "plt.rcParams['axes.labelsize'] = 28\n",
    "plt.rcParams['axes.labelweight'] = 'bold'\n",
    "\n",
    "plt.rcParams['xtick.labelsize'] = 15\n",
    "plt.rcParams['ytick.labelsize'] = 15\n",
    "\n",
    "plt.rcParams['axes.grid'] = True\n",
    "\n",
    "plt.rcParams['lines.markersize'] = 15\n",
    "plt.rcParams['lines.markeredgewidth'] = 1\n",
    "plt.rcParams['lines.linewidth'] = 2\n",
    "\n",
    "plt.rcParams['legend.fontsize'] = 22\n",
    "\n",
    "fig_size = plt.rcParams[\"figure.figsize\"]\n",
    "\n",
    "\n",
    "fig_size[0] = 10\n",
    "fig_size[1] = 10\n",
    "plt.rcParams[\"figure.figsize\"] = fig_size"
   ]
  },
  {
   "cell_type": "code",
   "execution_count": 3,
   "metadata": {},
   "outputs": [],
   "source": [
    "if not os.path.exists(\"../../data/prep/Console_Sales_2008-2017.pkl\"):\n",
    "    print(\"Missing Dataset File\")"
   ]
  },
  {
   "cell_type": "code",
   "execution_count": 4,
   "metadata": {},
   "outputs": [],
   "source": [
    "if not os.path.exists(\"../../data/prep/Console_Sales_All_Time.pkl\"):\n",
    "    print(\"Missing Dataset File\")"
   ]
  },
  {
   "cell_type": "code",
   "execution_count": 5,
   "metadata": {},
   "outputs": [],
   "source": [
    "if not os.path.exists(\"../../data/prep/Clean_Games_Sales_Total.pkl\"):\n",
    "    print(\"Missing Dataset File\")"
   ]
  },
  {
   "cell_type": "markdown",
   "metadata": {},
   "source": [
    "## Loading the datasets"
   ]
  },
  {
   "cell_type": "code",
   "execution_count": 6,
   "metadata": {},
   "outputs": [
    {
     "data": {
      "text/plain": [
       "(11, 12)"
      ]
     },
     "execution_count": 6,
     "metadata": {},
     "output_type": "execute_result"
    }
   ],
   "source": [
    "consoles = pd.read_pickle(\"../../data/prep/Console_Sales_2008-2017.pkl\")\n",
    "consoles.shape"
   ]
  },
  {
   "cell_type": "code",
   "execution_count": 7,
   "metadata": {},
   "outputs": [
    {
     "data": {
      "text/plain": [
       "(26, 9)"
      ]
     },
     "execution_count": 7,
     "metadata": {},
     "output_type": "execute_result"
    }
   ],
   "source": [
    "consoles_all = pd.read_pickle(\"../../data/prep/Console_Sales_All_Time.pkl\")\n",
    "consoles_all.shape"
   ]
  },
  {
   "cell_type": "code",
   "execution_count": 8,
   "metadata": {},
   "outputs": [
    {
     "data": {
      "text/plain": [
       "(16444, 11)"
      ]
     },
     "execution_count": 8,
     "metadata": {},
     "output_type": "execute_result"
    }
   ],
   "source": [
    "videogames = pd.read_pickle(\"../../data/prep/Clean_Games_Sales_Total.pkl\")\n",
    "videogames.shape"
   ]
  },
  {
   "cell_type": "markdown",
   "metadata": {},
   "source": [
    "## Overview of datasets"
   ]
  },
  {
   "cell_type": "markdown",
   "metadata": {},
   "source": [
    "Taking a brief overview of the datasets to see the data contained in them."
   ]
  },
  {
   "cell_type": "code",
   "execution_count": 9,
   "metadata": {},
   "outputs": [
    {
     "data": {
      "text/html": [
       "<div>\n",
       "<style>\n",
       "    .dataframe thead tr:only-child th {\n",
       "        text-align: right;\n",
       "    }\n",
       "\n",
       "    .dataframe thead th {\n",
       "        text-align: left;\n",
       "    }\n",
       "\n",
       "    .dataframe tbody tr th {\n",
       "        vertical-align: top;\n",
       "    }\n",
       "</style>\n",
       "<table border=\"1\" class=\"dataframe\">\n",
       "  <thead>\n",
       "    <tr style=\"text-align: right;\">\n",
       "      <th></th>\n",
       "      <th>Console</th>\n",
       "      <th>Abbreviation</th>\n",
       "      <th>Sales_2008</th>\n",
       "      <th>Sales_2009</th>\n",
       "      <th>Sales_2010</th>\n",
       "      <th>Sales_2011</th>\n",
       "      <th>Sales_2012</th>\n",
       "      <th>Sales_2013</th>\n",
       "      <th>Sales_2014</th>\n",
       "      <th>Sales_2015</th>\n",
       "      <th>Sales_2016</th>\n",
       "      <th>Sales_2017</th>\n",
       "    </tr>\n",
       "  </thead>\n",
       "  <tbody>\n",
       "    <tr>\n",
       "      <th>0</th>\n",
       "      <td>Playstation 4</td>\n",
       "      <td>PS4</td>\n",
       "      <td>NaN</td>\n",
       "      <td>NaN</td>\n",
       "      <td>NaN</td>\n",
       "      <td>NaN</td>\n",
       "      <td>NaN</td>\n",
       "      <td>4.49</td>\n",
       "      <td>14.59</td>\n",
       "      <td>17.51</td>\n",
       "      <td>17.59</td>\n",
       "      <td>19.64</td>\n",
       "    </tr>\n",
       "    <tr>\n",
       "      <th>1</th>\n",
       "      <td>Nintendo switch</td>\n",
       "      <td>NS</td>\n",
       "      <td>NaN</td>\n",
       "      <td>NaN</td>\n",
       "      <td>NaN</td>\n",
       "      <td>NaN</td>\n",
       "      <td>NaN</td>\n",
       "      <td>NaN</td>\n",
       "      <td>NaN</td>\n",
       "      <td>NaN</td>\n",
       "      <td>NaN</td>\n",
       "      <td>11.85</td>\n",
       "    </tr>\n",
       "    <tr>\n",
       "      <th>2</th>\n",
       "      <td>Xbox one</td>\n",
       "      <td>XOne</td>\n",
       "      <td>NaN</td>\n",
       "      <td>NaN</td>\n",
       "      <td>NaN</td>\n",
       "      <td>NaN</td>\n",
       "      <td>NaN</td>\n",
       "      <td>3.08</td>\n",
       "      <td>7.91</td>\n",
       "      <td>8.63</td>\n",
       "      <td>8.37</td>\n",
       "      <td>8.21</td>\n",
       "    </tr>\n",
       "    <tr>\n",
       "      <th>3</th>\n",
       "      <td>Nintendo 3ds</td>\n",
       "      <td>3DS</td>\n",
       "      <td>NaN</td>\n",
       "      <td>NaN</td>\n",
       "      <td>NaN</td>\n",
       "      <td>12.56</td>\n",
       "      <td>13.48</td>\n",
       "      <td>14.31</td>\n",
       "      <td>9.74</td>\n",
       "      <td>7.33</td>\n",
       "      <td>7.59</td>\n",
       "      <td>6.19</td>\n",
       "    </tr>\n",
       "    <tr>\n",
       "      <th>4</th>\n",
       "      <td>Playstation vita</td>\n",
       "      <td>PSV</td>\n",
       "      <td>NaN</td>\n",
       "      <td>NaN</td>\n",
       "      <td>NaN</td>\n",
       "      <td>0.48</td>\n",
       "      <td>3.69</td>\n",
       "      <td>4.30</td>\n",
       "      <td>2.30</td>\n",
       "      <td>2.68</td>\n",
       "      <td>2.04</td>\n",
       "      <td>0.72</td>\n",
       "    </tr>\n",
       "  </tbody>\n",
       "</table>\n",
       "</div>"
      ],
      "text/plain": [
       "            Console Abbreviation  Sales_2008  Sales_2009  Sales_2010  \\\n",
       "0     Playstation 4          PS4         NaN         NaN         NaN   \n",
       "1   Nintendo switch           NS         NaN         NaN         NaN   \n",
       "2          Xbox one         XOne         NaN         NaN         NaN   \n",
       "3      Nintendo 3ds          3DS         NaN         NaN         NaN   \n",
       "4  Playstation vita          PSV         NaN         NaN         NaN   \n",
       "\n",
       "   Sales_2011  Sales_2012  Sales_2013  Sales_2014  Sales_2015  Sales_2016  \\\n",
       "0         NaN         NaN        4.49       14.59       17.51       17.59   \n",
       "1         NaN         NaN         NaN         NaN         NaN         NaN   \n",
       "2         NaN         NaN        3.08        7.91        8.63        8.37   \n",
       "3       12.56       13.48       14.31        9.74        7.33        7.59   \n",
       "4        0.48        3.69        4.30        2.30        2.68        2.04   \n",
       "\n",
       "   Sales_2017  \n",
       "0       19.64  \n",
       "1       11.85  \n",
       "2        8.21  \n",
       "3        6.19  \n",
       "4        0.72  "
      ]
     },
     "execution_count": 9,
     "metadata": {},
     "output_type": "execute_result"
    }
   ],
   "source": [
    "consoles.head()"
   ]
  },
  {
   "cell_type": "code",
   "execution_count": 10,
   "metadata": {},
   "outputs": [
    {
     "data": {
      "text/plain": [
       "array(['PS4', 'NS', 'XOne', '3DS', 'PSV', 'PS3', 'WiiU', 'X360', 'PSP',\n",
       "       'Wii', 'DS'], dtype=object)"
      ]
     },
     "execution_count": 10,
     "metadata": {},
     "output_type": "execute_result"
    }
   ],
   "source": [
    "consoles['Abbreviation'].unique()"
   ]
  },
  {
   "cell_type": "code",
   "execution_count": 11,
   "metadata": {},
   "outputs": [
    {
     "data": {
      "text/html": [
       "<div>\n",
       "<style>\n",
       "    .dataframe thead tr:only-child th {\n",
       "        text-align: right;\n",
       "    }\n",
       "\n",
       "    .dataframe thead th {\n",
       "        text-align: left;\n",
       "    }\n",
       "\n",
       "    .dataframe tbody tr th {\n",
       "        vertical-align: top;\n",
       "    }\n",
       "</style>\n",
       "<table border=\"1\" class=\"dataframe\">\n",
       "  <thead>\n",
       "    <tr style=\"text-align: right;\">\n",
       "      <th></th>\n",
       "      <th>Console</th>\n",
       "      <th>Abbreviation</th>\n",
       "      <th>Sales_NA</th>\n",
       "      <th>Sales_Europe</th>\n",
       "      <th>Sales_Japan</th>\n",
       "      <th>Sales_Rest_Of_World</th>\n",
       "      <th>Sales_Total</th>\n",
       "      <th>Release_Year</th>\n",
       "      <th>Developer</th>\n",
       "    </tr>\n",
       "  </thead>\n",
       "  <tbody>\n",
       "    <tr>\n",
       "      <th>0</th>\n",
       "      <td>Playstation 2</td>\n",
       "      <td>PS2</td>\n",
       "      <td>53.65</td>\n",
       "      <td>55.28</td>\n",
       "      <td>23.18</td>\n",
       "      <td>25.57</td>\n",
       "      <td>157.68</td>\n",
       "      <td>2000</td>\n",
       "      <td>Sony</td>\n",
       "    </tr>\n",
       "    <tr>\n",
       "      <th>1</th>\n",
       "      <td>Nintendo DS</td>\n",
       "      <td>DS</td>\n",
       "      <td>57.39</td>\n",
       "      <td>52.07</td>\n",
       "      <td>33.01</td>\n",
       "      <td>12.43</td>\n",
       "      <td>154.90</td>\n",
       "      <td>2004</td>\n",
       "      <td>Nintendo</td>\n",
       "    </tr>\n",
       "    <tr>\n",
       "      <th>2</th>\n",
       "      <td>Game Boy</td>\n",
       "      <td>GB</td>\n",
       "      <td>43.18</td>\n",
       "      <td>40.05</td>\n",
       "      <td>32.47</td>\n",
       "      <td>2.99</td>\n",
       "      <td>118.69</td>\n",
       "      <td>1989</td>\n",
       "      <td>Nintendo</td>\n",
       "    </tr>\n",
       "    <tr>\n",
       "      <th>3</th>\n",
       "      <td>Playstation</td>\n",
       "      <td>PS</td>\n",
       "      <td>38.94</td>\n",
       "      <td>36.91</td>\n",
       "      <td>19.36</td>\n",
       "      <td>9.04</td>\n",
       "      <td>104.25</td>\n",
       "      <td>1994</td>\n",
       "      <td>Sony</td>\n",
       "    </tr>\n",
       "    <tr>\n",
       "      <th>4</th>\n",
       "      <td>Nintendo Wii</td>\n",
       "      <td>Wii</td>\n",
       "      <td>45.51</td>\n",
       "      <td>33.88</td>\n",
       "      <td>12.77</td>\n",
       "      <td>9.48</td>\n",
       "      <td>101.64</td>\n",
       "      <td>2006</td>\n",
       "      <td>Nintendo</td>\n",
       "    </tr>\n",
       "  </tbody>\n",
       "</table>\n",
       "</div>"
      ],
      "text/plain": [
       "         Console Abbreviation  Sales_NA  Sales_Europe  Sales_Japan  \\\n",
       "0  Playstation 2          PS2     53.65         55.28        23.18   \n",
       "1    Nintendo DS           DS     57.39         52.07        33.01   \n",
       "2       Game Boy           GB     43.18         40.05        32.47   \n",
       "3   Playstation            PS     38.94         36.91        19.36   \n",
       "4   Nintendo Wii          Wii     45.51         33.88        12.77   \n",
       "\n",
       "   Sales_Rest_Of_World  Sales_Total  Release_Year Developer  \n",
       "0                25.57       157.68          2000      Sony  \n",
       "1                12.43       154.90          2004  Nintendo  \n",
       "2                 2.99       118.69          1989  Nintendo  \n",
       "3                 9.04       104.25          1994      Sony  \n",
       "4                 9.48       101.64          2006  Nintendo  "
      ]
     },
     "execution_count": 11,
     "metadata": {},
     "output_type": "execute_result"
    }
   ],
   "source": [
    "consoles_all.head()"
   ]
  },
  {
   "cell_type": "code",
   "execution_count": 12,
   "metadata": {},
   "outputs": [
    {
     "data": {
      "text/plain": [
       "array(['Sony', 'Nintendo', 'Microsoft', 'Sega', 'Atari'], dtype=object)"
      ]
     },
     "execution_count": 12,
     "metadata": {},
     "output_type": "execute_result"
    }
   ],
   "source": [
    "consoles_all['Developer'].unique()"
   ]
  },
  {
   "cell_type": "code",
   "execution_count": 13,
   "metadata": {},
   "outputs": [
    {
     "data": {
      "text/plain": [
       "array(['PS2', 'DS', 'GB', 'PS', 'Wii', 'PS3', 'X360', 'GBA', 'PSP', 'PS4',\n",
       "       '3DS', 'NES', 'SNES', 'XOne', 'N64', 'GEN', '2600', 'XB', 'GC',\n",
       "       'PSV', 'NS', 'WiiU', 'GG', 'SAT', 'DC', '7800'], dtype=object)"
      ]
     },
     "execution_count": 13,
     "metadata": {},
     "output_type": "execute_result"
    }
   ],
   "source": [
    "consoles_all['Abbreviation'].unique()"
   ]
  },
  {
   "cell_type": "code",
   "execution_count": 14,
   "metadata": {},
   "outputs": [
    {
     "data": {
      "text/html": [
       "<div>\n",
       "<style>\n",
       "    .dataframe thead tr:only-child th {\n",
       "        text-align: right;\n",
       "    }\n",
       "\n",
       "    .dataframe thead th {\n",
       "        text-align: left;\n",
       "    }\n",
       "\n",
       "    .dataframe tbody tr th {\n",
       "        vertical-align: top;\n",
       "    }\n",
       "</style>\n",
       "<table border=\"1\" class=\"dataframe\">\n",
       "  <thead>\n",
       "    <tr style=\"text-align: right;\">\n",
       "      <th></th>\n",
       "      <th>Name</th>\n",
       "      <th>Platform</th>\n",
       "      <th>Year_of_Release</th>\n",
       "      <th>Genre</th>\n",
       "      <th>Publisher</th>\n",
       "      <th>NA_Sales</th>\n",
       "      <th>EU_Sales</th>\n",
       "      <th>JP_Sales</th>\n",
       "      <th>Other_Sales</th>\n",
       "      <th>Global_Sales</th>\n",
       "      <th>Developer</th>\n",
       "    </tr>\n",
       "  </thead>\n",
       "  <tbody>\n",
       "    <tr>\n",
       "      <th>0</th>\n",
       "      <td>Wii Sports</td>\n",
       "      <td>Wii</td>\n",
       "      <td>2006.0</td>\n",
       "      <td>Sports</td>\n",
       "      <td>Nintendo</td>\n",
       "      <td>41.36</td>\n",
       "      <td>28.96</td>\n",
       "      <td>3.77</td>\n",
       "      <td>8.45</td>\n",
       "      <td>82.53</td>\n",
       "      <td>Nintendo</td>\n",
       "    </tr>\n",
       "    <tr>\n",
       "      <th>1</th>\n",
       "      <td>Super Mario Bros.</td>\n",
       "      <td>NES</td>\n",
       "      <td>1985.0</td>\n",
       "      <td>Platform</td>\n",
       "      <td>Nintendo</td>\n",
       "      <td>29.08</td>\n",
       "      <td>3.58</td>\n",
       "      <td>6.81</td>\n",
       "      <td>0.77</td>\n",
       "      <td>40.24</td>\n",
       "      <td>NaN</td>\n",
       "    </tr>\n",
       "    <tr>\n",
       "      <th>2</th>\n",
       "      <td>Mario Kart Wii</td>\n",
       "      <td>Wii</td>\n",
       "      <td>2008.0</td>\n",
       "      <td>Racing</td>\n",
       "      <td>Nintendo</td>\n",
       "      <td>15.68</td>\n",
       "      <td>12.76</td>\n",
       "      <td>3.79</td>\n",
       "      <td>3.29</td>\n",
       "      <td>35.52</td>\n",
       "      <td>Nintendo</td>\n",
       "    </tr>\n",
       "    <tr>\n",
       "      <th>3</th>\n",
       "      <td>Wii Sports Resort</td>\n",
       "      <td>Wii</td>\n",
       "      <td>2009.0</td>\n",
       "      <td>Sports</td>\n",
       "      <td>Nintendo</td>\n",
       "      <td>15.61</td>\n",
       "      <td>10.93</td>\n",
       "      <td>3.28</td>\n",
       "      <td>2.95</td>\n",
       "      <td>32.77</td>\n",
       "      <td>Nintendo</td>\n",
       "    </tr>\n",
       "    <tr>\n",
       "      <th>4</th>\n",
       "      <td>Pokemon Red/Pokemon Blue</td>\n",
       "      <td>GB</td>\n",
       "      <td>1996.0</td>\n",
       "      <td>Role-Playing</td>\n",
       "      <td>Nintendo</td>\n",
       "      <td>11.27</td>\n",
       "      <td>8.89</td>\n",
       "      <td>10.22</td>\n",
       "      <td>1.00</td>\n",
       "      <td>31.37</td>\n",
       "      <td>NaN</td>\n",
       "    </tr>\n",
       "  </tbody>\n",
       "</table>\n",
       "</div>"
      ],
      "text/plain": [
       "                       Name Platform  Year_of_Release         Genre Publisher  \\\n",
       "0                Wii Sports      Wii           2006.0        Sports  Nintendo   \n",
       "1         Super Mario Bros.      NES           1985.0      Platform  Nintendo   \n",
       "2            Mario Kart Wii      Wii           2008.0        Racing  Nintendo   \n",
       "3         Wii Sports Resort      Wii           2009.0        Sports  Nintendo   \n",
       "4  Pokemon Red/Pokemon Blue       GB           1996.0  Role-Playing  Nintendo   \n",
       "\n",
       "   NA_Sales  EU_Sales  JP_Sales  Other_Sales  Global_Sales Developer  \n",
       "0     41.36     28.96      3.77         8.45         82.53  Nintendo  \n",
       "1     29.08      3.58      6.81         0.77         40.24       NaN  \n",
       "2     15.68     12.76      3.79         3.29         35.52  Nintendo  \n",
       "3     15.61     10.93      3.28         2.95         32.77  Nintendo  \n",
       "4     11.27      8.89     10.22         1.00         31.37       NaN  "
      ]
     },
     "execution_count": 14,
     "metadata": {},
     "output_type": "execute_result"
    }
   ],
   "source": [
    "videogames.head()"
   ]
  },
  {
   "cell_type": "code",
   "execution_count": 15,
   "metadata": {},
   "outputs": [
    {
     "data": {
      "text/plain": [
       "array(['Wii', 'NES', 'GB', 'DS', 'X360', 'PS3', 'PS2', 'SNES', 'GBA',\n",
       "       'PS4', '3DS', 'N64', 'PS', 'XB', 'PC', '2600', 'PSP', 'XOne',\n",
       "       'WiiU', 'GC', 'GEN', 'DC', 'PSV', 'SAT', 'SCD', 'WS', 'NG', 'TG16',\n",
       "       '3DO', 'GG', 'PCFX'], dtype=object)"
      ]
     },
     "execution_count": 15,
     "metadata": {},
     "output_type": "execute_result"
    }
   ],
   "source": [
    " videogames['Platform'].unique()"
   ]
  },
  {
   "cell_type": "markdown",
   "metadata": {},
   "source": [
    "# Console life cycle analysis"
   ]
  },
  {
   "cell_type": "markdown",
   "metadata": {},
   "source": [
    "## Yearly developer console releases"
   ]
  },
  {
   "cell_type": "markdown",
   "metadata": {},
   "source": [
    "Getting each year that a developer released a new console"
   ]
  },
  {
   "cell_type": "code",
   "execution_count": 16,
   "metadata": {},
   "outputs": [],
   "source": [
    "console_count = videogames.groupby('Year_of_Release', as_index = False)['Global_Sales'].sum()\n",
    "console_count = console_count.set_index('Year_of_Release')"
   ]
  },
  {
   "cell_type": "code",
   "execution_count": 17,
   "metadata": {},
   "outputs": [],
   "source": [
    "sony = consoles_all[consoles_all['Developer'] == 'Sony']\n",
    "tmp = sony.groupby('Release_Year')['Abbreviation'].count()\n",
    "console_count['Sony'] = tmp"
   ]
  },
  {
   "cell_type": "code",
   "execution_count": 18,
   "metadata": {},
   "outputs": [],
   "source": [
    "nintendo = consoles_all[consoles_all['Developer'] == 'Nintendo']\n",
    "tmp = nintendo.groupby('Release_Year')['Abbreviation'].count()\n",
    "console_count['Nintendo'] = tmp"
   ]
  },
  {
   "cell_type": "code",
   "execution_count": 19,
   "metadata": {},
   "outputs": [],
   "source": [
    "microsoft = consoles_all[consoles_all['Developer'] == 'Microsoft']\n",
    "tmp = microsoft.groupby('Release_Year')['Abbreviation'].count()\n",
    "console_count['Microsoft'] = tmp"
   ]
  },
  {
   "cell_type": "code",
   "execution_count": 20,
   "metadata": {},
   "outputs": [],
   "source": [
    "sega = consoles_all[consoles_all['Developer'] == 'Sega']\n",
    "tmp = sega.groupby('Release_Year')['Abbreviation'].count()\n",
    "console_count['Sega'] = tmp"
   ]
  },
  {
   "cell_type": "code",
   "execution_count": 21,
   "metadata": {},
   "outputs": [],
   "source": [
    "atari = consoles_all[consoles_all['Developer'] == 'Atari']\n",
    "tmp = atari.groupby('Release_Year')['Abbreviation'].count()\n",
    "console_count['Atari'] = tmp"
   ]
  },
  {
   "cell_type": "code",
   "execution_count": 22,
   "metadata": {},
   "outputs": [
    {
     "data": {
      "text/html": [
       "<div>\n",
       "<style>\n",
       "    .dataframe thead tr:only-child th {\n",
       "        text-align: right;\n",
       "    }\n",
       "\n",
       "    .dataframe thead th {\n",
       "        text-align: left;\n",
       "    }\n",
       "\n",
       "    .dataframe tbody tr th {\n",
       "        vertical-align: top;\n",
       "    }\n",
       "</style>\n",
       "<table border=\"1\" class=\"dataframe\">\n",
       "  <thead>\n",
       "    <tr style=\"text-align: right;\">\n",
       "      <th></th>\n",
       "      <th>Sony</th>\n",
       "      <th>Nintendo</th>\n",
       "      <th>Microsoft</th>\n",
       "      <th>Sega</th>\n",
       "      <th>Atari</th>\n",
       "    </tr>\n",
       "    <tr>\n",
       "      <th>Year_of_Release</th>\n",
       "      <th></th>\n",
       "      <th></th>\n",
       "      <th></th>\n",
       "      <th></th>\n",
       "      <th></th>\n",
       "    </tr>\n",
       "  </thead>\n",
       "  <tbody>\n",
       "    <tr>\n",
       "      <th>1980.0</th>\n",
       "      <td>NaN</td>\n",
       "      <td>NaN</td>\n",
       "      <td>NaN</td>\n",
       "      <td>NaN</td>\n",
       "      <td>NaN</td>\n",
       "    </tr>\n",
       "    <tr>\n",
       "      <th>1981.0</th>\n",
       "      <td>NaN</td>\n",
       "      <td>NaN</td>\n",
       "      <td>NaN</td>\n",
       "      <td>NaN</td>\n",
       "      <td>NaN</td>\n",
       "    </tr>\n",
       "    <tr>\n",
       "      <th>1982.0</th>\n",
       "      <td>NaN</td>\n",
       "      <td>NaN</td>\n",
       "      <td>NaN</td>\n",
       "      <td>NaN</td>\n",
       "      <td>NaN</td>\n",
       "    </tr>\n",
       "    <tr>\n",
       "      <th>1983.0</th>\n",
       "      <td>NaN</td>\n",
       "      <td>1.0</td>\n",
       "      <td>NaN</td>\n",
       "      <td>NaN</td>\n",
       "      <td>NaN</td>\n",
       "    </tr>\n",
       "    <tr>\n",
       "      <th>1984.0</th>\n",
       "      <td>NaN</td>\n",
       "      <td>NaN</td>\n",
       "      <td>NaN</td>\n",
       "      <td>NaN</td>\n",
       "      <td>NaN</td>\n",
       "    </tr>\n",
       "  </tbody>\n",
       "</table>\n",
       "</div>"
      ],
      "text/plain": [
       "                 Sony  Nintendo  Microsoft  Sega  Atari\n",
       "Year_of_Release                                        \n",
       "1980.0            NaN       NaN        NaN   NaN    NaN\n",
       "1981.0            NaN       NaN        NaN   NaN    NaN\n",
       "1982.0            NaN       NaN        NaN   NaN    NaN\n",
       "1983.0            NaN       1.0        NaN   NaN    NaN\n",
       "1984.0            NaN       NaN        NaN   NaN    NaN"
      ]
     },
     "execution_count": 22,
     "metadata": {},
     "output_type": "execute_result"
    }
   ],
   "source": [
    "del console_count['Global_Sales']\n",
    "console_count.head()"
   ]
  },
  {
   "cell_type": "code",
   "execution_count": 23,
   "metadata": {},
   "outputs": [
    {
     "data": {
      "text/plain": [
       "Developer\n",
       "Atari         31.94\n",
       "Microsoft    147.07\n",
       "Nintendo     722.50\n",
       "Sega          57.18\n",
       "Sony         521.16\n",
       "Name: Sales_Total, dtype: float64"
      ]
     },
     "execution_count": 23,
     "metadata": {},
     "output_type": "execute_result"
    }
   ],
   "source": [
    "console_Sales = consoles_all.groupby('Developer')['Sales_Total'].sum()\n",
    "console_Sales"
   ]
  },
  {
   "cell_type": "code",
   "execution_count": 24,
   "metadata": {},
   "outputs": [
    {
     "data": {
      "text/plain": [
       "Text(0,0.5,'Sales in millions')"
      ]
     },
     "execution_count": 24,
     "metadata": {},
     "output_type": "execute_result"
    },
    {
     "data": {
      "image/png": "[encoded data removed]",
      "text/plain": [
       "<matplotlib.figure.Figure at 0x166b2d90c88>"
      ]
     },
     "metadata": {},
     "output_type": "display_data"
    }
   ],
   "source": [
    "ax = console_Sales.plot( kind = 'bar',color = 'b', title = 'Console sales by developer')\n",
    "ax.set_xlabel(\"Developer\")\n",
    "ax.set_ylabel(\"Sales in millions\")"
   ]
  },
  {
   "cell_type": "code",
   "execution_count": 25,
   "metadata": {},
   "outputs": [
    {
     "data": {
      "text/plain": [
       "<matplotlib.legend.Legend at 0x166b2e24438>"
      ]
     },
     "execution_count": 25,
     "metadata": {},
     "output_type": "execute_result"
    },
    {
     "data": {
      "image/png": "[encoded data removed]",
      "text/plain": [
       "<matplotlib.figure.Figure at 0x166b2e24240>"
      ]
     },
     "metadata": {},
     "output_type": "display_data"
    }
   ],
   "source": [
    "ax = console_count.plot(y = ['Sony', 'Nintendo', 'Microsoft','Sega', 'Atari'], kind = 'bar',figsize = (20,10))\n",
    "ax.set_xlabel(\"Year\")\n",
    "ax.set_ylabel(\"Number of consoles released\")\n",
    "ax.legend( frameon=True, ncol=2, loc='upper left')"
   ]
  },
  {
   "cell_type": "markdown",
   "metadata": {},
   "source": [
    "## Yearly console sales"
   ]
  },
  {
   "cell_type": "markdown",
   "metadata": {},
   "source": [
    "Graphing the yearly sales of each console in the consoles dataset"
   ]
  },
  {
   "cell_type": "code",
   "execution_count": 26,
   "metadata": {},
   "outputs": [],
   "source": [
    "consoles1 = consoles\n",
    "del consoles1['Abbreviation']\n",
    "consoles1 = consoles1.set_index('Console')\n",
    "consoles1.rename(columns={'Sales_2008': 2008}, inplace=True)\n",
    "consoles1.rename(columns={'Sales_2009': 2009}, inplace=True)\n",
    "consoles1.rename(columns={'Sales_2010': 2010}, inplace=True)\n",
    "consoles1.rename(columns={'Sales_2011': 2011}, inplace=True)\n",
    "consoles1.rename(columns={'Sales_2012': 2012}, inplace=True)\n",
    "consoles1.rename(columns={'Sales_2013': 2013}, inplace=True)\n",
    "consoles1.rename(columns={'Sales_2014': 2014}, inplace=True)\n",
    "consoles1.rename(columns={'Sales_2015': 2015}, inplace=True)\n",
    "consoles1.rename(columns={'Sales_2016': 2016}, inplace=True)\n",
    "consoles1.rename(columns={'Sales_2017': 2017}, inplace=True)\n",
    "consoles1 = consoles1.transpose()\n",
    "consoles1.index.name = 'Year'"
   ]
  },
  {
   "cell_type": "code",
   "execution_count": 27,
   "metadata": {},
   "outputs": [
    {
     "data": {
      "text/plain": [
       "array(['Playstation 4', 'Nintendo switch', 'Xbox one', 'Nintendo 3ds',\n",
       "       'Playstation vita', 'Playstation 3', 'Nintendo wii u', 'Xbox 360',\n",
       "       'PSP', 'Nintendo wii', 'Nintendo ds'], dtype=object)"
      ]
     },
     "execution_count": 27,
     "metadata": {},
     "output_type": "execute_result"
    }
   ],
   "source": [
    "consoles1.columns.values"
   ]
  },
  {
   "cell_type": "code",
   "execution_count": 28,
   "metadata": {},
   "outputs": [
    {
     "data": {
      "text/plain": [
       "<matplotlib.axes._subplots.AxesSubplot at 0x166b3868da0>"
      ]
     },
     "execution_count": 28,
     "metadata": {},
     "output_type": "execute_result"
    },
    {
     "data": {
      "image/png": "[encoded data removed]",
      "text/plain": [
       "<matplotlib.figure.Figure at 0x166b380c780>"
      ]
     },
     "metadata": {},
     "output_type": "display_data"
    }
   ],
   "source": [
    "consoles1.plot(y = ['Playstation 4', 'Nintendo switch', 'Xbox one', 'Nintendo 3ds', 'Playstation vita', 'Playstation 3', 'Nintendo wii u',\n",
    "               'Xbox 360', 'PSP', 'Nintendo wii', 'Nintendo ds'], kind = 'line', title = 'Yearly console sales', figsize = (20,10))"
   ]
  },
  {
   "cell_type": "markdown",
   "metadata": {},
   "source": [
    "From aove we can see the sales of different consoles over a 10 year period. It looks a bit messy but gives us a good insight into what we should use while doing our results."
   ]
  },
  {
   "cell_type": "markdown",
   "metadata": {},
   "source": [
    "## Yearly game sales per console"
   ]
  },
  {
   "cell_type": "markdown",
   "metadata": {},
   "source": [
    "Getting the yearly sales of games for each console."
   ]
  },
  {
   "cell_type": "code",
   "execution_count": 29,
   "metadata": {},
   "outputs": [],
   "source": [
    "console = videogames.groupby('Year_of_Release', as_index = False)['Global_Sales'].sum()\n",
    "console = console.set_index('Year_of_Release')"
   ]
  },
  {
   "cell_type": "code",
   "execution_count": 30,
   "metadata": {},
   "outputs": [],
   "source": [
    "nes = videogames[videogames['Platform'] == 'NES']\n",
    "tmp = nes.groupby('Year_of_Release')['Global_Sales'].sum()\n",
    "console['NES'] = tmp"
   ]
  },
  {
   "cell_type": "code",
   "execution_count": 31,
   "metadata": {},
   "outputs": [],
   "source": [
    "wii = videogames[videogames['Platform'] == 'Wii']\n",
    "tmp = wii.groupby('Year_of_Release')['Global_Sales'].sum()\n",
    "console['Wii'] = tmp"
   ]
  },
  {
   "cell_type": "code",
   "execution_count": 32,
   "metadata": {},
   "outputs": [],
   "source": [
    "gb = videogames[videogames['Platform'] == 'GB']\n",
    "tmp = gb.groupby('Year_of_Release')['Global_Sales'].sum()\n",
    "console['GB'] = tmp"
   ]
  },
  {
   "cell_type": "code",
   "execution_count": 33,
   "metadata": {},
   "outputs": [],
   "source": [
    "ds = videogames[videogames['Platform'] == 'DS']\n",
    "tmp = ds.groupby('Year_of_Release')['Global_Sales'].sum()\n",
    "console['DS'] = tmp"
   ]
  },
  {
   "cell_type": "code",
   "execution_count": 34,
   "metadata": {},
   "outputs": [],
   "source": [
    "x360 = videogames[videogames['Platform'] == 'X360']\n",
    "tmp = x360.groupby('Year_of_Release')['Global_Sales'].sum()\n",
    "console['X360'] = tmp"
   ]
  },
  {
   "cell_type": "code",
   "execution_count": 35,
   "metadata": {},
   "outputs": [],
   "source": [
    "ps3 = videogames[videogames['Platform'] == 'PS3']\n",
    "tmp = ps3.groupby('Year_of_Release')['Global_Sales'].sum()\n",
    "console['PS3'] = tmp"
   ]
  },
  {
   "cell_type": "code",
   "execution_count": 36,
   "metadata": {},
   "outputs": [],
   "source": [
    "ps2 = videogames[videogames['Platform'] == 'PS2']\n",
    "tmp = ps2.groupby('Year_of_Release')['Global_Sales'].sum()\n",
    "console['PS2'] = tmp"
   ]
  },
  {
   "cell_type": "code",
   "execution_count": 37,
   "metadata": {},
   "outputs": [],
   "source": [
    "snes = videogames[videogames['Platform'] == 'SNES']\n",
    "tmp = snes.groupby('Year_of_Release')['Global_Sales'].sum()\n",
    "console['SNES'] = tmp"
   ]
  },
  {
   "cell_type": "code",
   "execution_count": 38,
   "metadata": {},
   "outputs": [],
   "source": [
    "gba = videogames[videogames['Platform'] == 'GBA']\n",
    "tmp = gba.groupby('Year_of_Release')['Global_Sales'].sum()\n",
    "console['GBA'] = tmp"
   ]
  },
  {
   "cell_type": "code",
   "execution_count": 39,
   "metadata": {},
   "outputs": [],
   "source": [
    "ps4 = videogames[videogames['Platform'] == 'PS4']\n",
    "tmp = ps4.groupby('Year_of_Release')['Global_Sales'].sum()\n",
    "console['PS4'] = tmp"
   ]
  },
  {
   "cell_type": "code",
   "execution_count": 40,
   "metadata": {},
   "outputs": [],
   "source": [
    "tds = videogames[videogames['Platform'] == '3DS']\n",
    "tmp = tds.groupby('Year_of_Release')['Global_Sales'].sum()\n",
    "console['3DS'] = tmp"
   ]
  },
  {
   "cell_type": "code",
   "execution_count": 41,
   "metadata": {},
   "outputs": [],
   "source": [
    "n64 = videogames[videogames['Platform'] == 'N64']\n",
    "tmp = n64.groupby('Year_of_Release')['Global_Sales'].sum()\n",
    "console['N64'] = tmp"
   ]
  },
  {
   "cell_type": "code",
   "execution_count": 42,
   "metadata": {},
   "outputs": [],
   "source": [
    "ps = videogames[videogames['Platform'] == 'PS']\n",
    "tmp = ps.groupby('Year_of_Release')['Global_Sales'].sum()\n",
    "console['PS'] = tmp"
   ]
  },
  {
   "cell_type": "code",
   "execution_count": 43,
   "metadata": {},
   "outputs": [],
   "source": [
    "xb = videogames[videogames['Platform'] == 'XB']\n",
    "tmp = xb.groupby('Year_of_Release')['Global_Sales'].sum()\n",
    "console['XB'] = tmp"
   ]
  },
  {
   "cell_type": "code",
   "execution_count": 44,
   "metadata": {},
   "outputs": [],
   "source": [
    "pc = videogames[videogames['Platform'] == 'PC']\n",
    "tmp = pc.groupby('Year_of_Release')['Global_Sales'].sum()\n",
    "console['PC'] = tmp"
   ]
  },
  {
   "cell_type": "code",
   "execution_count": 45,
   "metadata": {},
   "outputs": [],
   "source": [
    "a2600 = videogames[videogames['Platform'] == '2600']\n",
    "tmp = a2600.groupby('Year_of_Release')['Global_Sales'].sum()\n",
    "console['2600'] = tmp"
   ]
  },
  {
   "cell_type": "code",
   "execution_count": 46,
   "metadata": {},
   "outputs": [],
   "source": [
    "psp = videogames[videogames['Platform'] == 'PSP']\n",
    "tmp = psp.groupby('Year_of_Release')['Global_Sales'].sum()\n",
    "console['PSP'] = tmp"
   ]
  },
  {
   "cell_type": "code",
   "execution_count": 47,
   "metadata": {},
   "outputs": [],
   "source": [
    "xone = videogames[videogames['Platform'] == 'XOne']\n",
    "tmp = xone.groupby('Year_of_Release')['Global_Sales'].sum()\n",
    "console['XOne'] = tmp"
   ]
  },
  {
   "cell_type": "code",
   "execution_count": 48,
   "metadata": {},
   "outputs": [],
   "source": [
    "wiiu = videogames[videogames['Platform'] == 'WiiU']\n",
    "tmp = wiiu.groupby('Year_of_Release')['Global_Sales'].sum()\n",
    "console['WiiU'] = tmp"
   ]
  },
  {
   "cell_type": "code",
   "execution_count": 49,
   "metadata": {},
   "outputs": [],
   "source": [
    "gc = videogames[videogames['Platform'] == 'GC']\n",
    "tmp = gc.groupby('Year_of_Release')['Global_Sales'].sum()\n",
    "console['GC'] = tmp"
   ]
  },
  {
   "cell_type": "code",
   "execution_count": 50,
   "metadata": {},
   "outputs": [],
   "source": [
    "gen = videogames[videogames['Platform'] == 'GEN']\n",
    "tmp = gen.groupby('Year_of_Release')['Global_Sales'].sum()\n",
    "console['GEN'] = tmp"
   ]
  },
  {
   "cell_type": "code",
   "execution_count": 51,
   "metadata": {},
   "outputs": [],
   "source": [
    "dc = videogames[videogames['Platform'] == 'DC']\n",
    "tmp = dc.groupby('Year_of_Release')['Global_Sales'].sum()\n",
    "console['DC'] = tmp"
   ]
  },
  {
   "cell_type": "code",
   "execution_count": 52,
   "metadata": {},
   "outputs": [],
   "source": [
    "psv = videogames[videogames['Platform'] == 'PSV']\n",
    "tmp = psv.groupby('Year_of_Release')['Global_Sales'].sum()\n",
    "console['PSV'] = tmp"
   ]
  },
  {
   "cell_type": "code",
   "execution_count": 53,
   "metadata": {},
   "outputs": [],
   "source": [
    "sat = videogames[videogames['Platform'] == 'SAT']\n",
    "tmp = sat.groupby('Year_of_Release')['Global_Sales'].sum()\n",
    "console['SAT'] = tmp"
   ]
  },
  {
   "cell_type": "code",
   "execution_count": 54,
   "metadata": {},
   "outputs": [],
   "source": [
    "scd = videogames[videogames['Platform'] == 'SCD']\n",
    "tmp = scd.groupby('Year_of_Release')['Global_Sales'].sum()\n",
    "console['SCD'] = tmp"
   ]
  },
  {
   "cell_type": "code",
   "execution_count": 55,
   "metadata": {},
   "outputs": [],
   "source": [
    "ws = videogames[videogames['Platform'] == 'WS']\n",
    "tmp = ws.groupby('Year_of_Release')['Global_Sales'].sum()\n",
    "console['WS'] = tmp"
   ]
  },
  {
   "cell_type": "code",
   "execution_count": 56,
   "metadata": {},
   "outputs": [],
   "source": [
    "ng = videogames[videogames['Platform'] == 'NG']\n",
    "tmp = ng.groupby('Year_of_Release')['Global_Sales'].sum()\n",
    "console['NG'] = tmp"
   ]
  },
  {
   "cell_type": "code",
   "execution_count": 57,
   "metadata": {},
   "outputs": [],
   "source": [
    "tg16 = videogames[videogames['Platform'] == 'TG16']\n",
    "tmp = tg16.groupby('Year_of_Release')['Global_Sales'].sum()\n",
    "console['TG16'] = tmp"
   ]
  },
  {
   "cell_type": "code",
   "execution_count": 58,
   "metadata": {},
   "outputs": [],
   "source": [
    "dO = videogames[videogames['Platform'] == '3DO']\n",
    "tmp = dO.groupby('Year_of_Release')['Global_Sales'].sum()\n",
    "console['3DO'] = tmp"
   ]
  },
  {
   "cell_type": "code",
   "execution_count": 59,
   "metadata": {},
   "outputs": [],
   "source": [
    "gg = videogames[videogames['Platform'] == 'GG']\n",
    "tmp = gg.groupby('Year_of_Release')['Global_Sales'].sum()\n",
    "console['GG'] = tmp"
   ]
  },
  {
   "cell_type": "code",
   "execution_count": 60,
   "metadata": {},
   "outputs": [],
   "source": [
    "pcfx = videogames[videogames['Platform'] == 'PCFX']\n",
    "tmp = pcfx.groupby('Year_of_Release')['Global_Sales'].sum()\n",
    "console['PCFX'] = tmp"
   ]
  },
  {
   "cell_type": "code",
   "execution_count": 61,
   "metadata": {},
   "outputs": [],
   "source": [
    "del console['Global_Sales']"
   ]
  },
  {
   "cell_type": "code",
   "execution_count": 62,
   "metadata": {},
   "outputs": [
    {
     "data": {
      "text/html": [
       "<div>\n",
       "<style>\n",
       "    .dataframe thead tr:only-child th {\n",
       "        text-align: right;\n",
       "    }\n",
       "\n",
       "    .dataframe thead th {\n",
       "        text-align: left;\n",
       "    }\n",
       "\n",
       "    .dataframe tbody tr th {\n",
       "        vertical-align: top;\n",
       "    }\n",
       "</style>\n",
       "<table border=\"1\" class=\"dataframe\">\n",
       "  <thead>\n",
       "    <tr style=\"text-align: right;\">\n",
       "      <th></th>\n",
       "      <th>NES</th>\n",
       "      <th>Wii</th>\n",
       "      <th>GB</th>\n",
       "      <th>DS</th>\n",
       "      <th>X360</th>\n",
       "      <th>PS3</th>\n",
       "      <th>PS2</th>\n",
       "      <th>SNES</th>\n",
       "      <th>GBA</th>\n",
       "      <th>PS4</th>\n",
       "      <th>...</th>\n",
       "      <th>DC</th>\n",
       "      <th>PSV</th>\n",
       "      <th>SAT</th>\n",
       "      <th>SCD</th>\n",
       "      <th>WS</th>\n",
       "      <th>NG</th>\n",
       "      <th>TG16</th>\n",
       "      <th>3DO</th>\n",
       "      <th>GG</th>\n",
       "      <th>PCFX</th>\n",
       "    </tr>\n",
       "    <tr>\n",
       "      <th>Year_of_Release</th>\n",
       "      <th></th>\n",
       "      <th></th>\n",
       "      <th></th>\n",
       "      <th></th>\n",
       "      <th></th>\n",
       "      <th></th>\n",
       "      <th></th>\n",
       "      <th></th>\n",
       "      <th></th>\n",
       "      <th></th>\n",
       "      <th></th>\n",
       "      <th></th>\n",
       "      <th></th>\n",
       "      <th></th>\n",
       "      <th></th>\n",
       "      <th></th>\n",
       "      <th></th>\n",
       "      <th></th>\n",
       "      <th></th>\n",
       "      <th></th>\n",
       "      <th></th>\n",
       "    </tr>\n",
       "  </thead>\n",
       "  <tbody>\n",
       "    <tr>\n",
       "      <th>1980.0</th>\n",
       "      <td>NaN</td>\n",
       "      <td>NaN</td>\n",
       "      <td>NaN</td>\n",
       "      <td>NaN</td>\n",
       "      <td>NaN</td>\n",
       "      <td>NaN</td>\n",
       "      <td>NaN</td>\n",
       "      <td>NaN</td>\n",
       "      <td>NaN</td>\n",
       "      <td>NaN</td>\n",
       "      <td>...</td>\n",
       "      <td>NaN</td>\n",
       "      <td>NaN</td>\n",
       "      <td>NaN</td>\n",
       "      <td>NaN</td>\n",
       "      <td>NaN</td>\n",
       "      <td>NaN</td>\n",
       "      <td>NaN</td>\n",
       "      <td>NaN</td>\n",
       "      <td>NaN</td>\n",
       "      <td>NaN</td>\n",
       "    </tr>\n",
       "    <tr>\n",
       "      <th>1981.0</th>\n",
       "      <td>NaN</td>\n",
       "      <td>NaN</td>\n",
       "      <td>NaN</td>\n",
       "      <td>NaN</td>\n",
       "      <td>NaN</td>\n",
       "      <td>NaN</td>\n",
       "      <td>NaN</td>\n",
       "      <td>NaN</td>\n",
       "      <td>NaN</td>\n",
       "      <td>NaN</td>\n",
       "      <td>...</td>\n",
       "      <td>NaN</td>\n",
       "      <td>NaN</td>\n",
       "      <td>NaN</td>\n",
       "      <td>NaN</td>\n",
       "      <td>NaN</td>\n",
       "      <td>NaN</td>\n",
       "      <td>NaN</td>\n",
       "      <td>NaN</td>\n",
       "      <td>NaN</td>\n",
       "      <td>NaN</td>\n",
       "    </tr>\n",
       "    <tr>\n",
       "      <th>1982.0</th>\n",
       "      <td>NaN</td>\n",
       "      <td>NaN</td>\n",
       "      <td>NaN</td>\n",
       "      <td>NaN</td>\n",
       "      <td>NaN</td>\n",
       "      <td>NaN</td>\n",
       "      <td>NaN</td>\n",
       "      <td>NaN</td>\n",
       "      <td>NaN</td>\n",
       "      <td>NaN</td>\n",
       "      <td>...</td>\n",
       "      <td>NaN</td>\n",
       "      <td>NaN</td>\n",
       "      <td>NaN</td>\n",
       "      <td>NaN</td>\n",
       "      <td>NaN</td>\n",
       "      <td>NaN</td>\n",
       "      <td>NaN</td>\n",
       "      <td>NaN</td>\n",
       "      <td>NaN</td>\n",
       "      <td>NaN</td>\n",
       "    </tr>\n",
       "    <tr>\n",
       "      <th>1983.0</th>\n",
       "      <td>10.96</td>\n",
       "      <td>NaN</td>\n",
       "      <td>NaN</td>\n",
       "      <td>NaN</td>\n",
       "      <td>NaN</td>\n",
       "      <td>NaN</td>\n",
       "      <td>NaN</td>\n",
       "      <td>NaN</td>\n",
       "      <td>NaN</td>\n",
       "      <td>NaN</td>\n",
       "      <td>...</td>\n",
       "      <td>NaN</td>\n",
       "      <td>NaN</td>\n",
       "      <td>NaN</td>\n",
       "      <td>NaN</td>\n",
       "      <td>NaN</td>\n",
       "      <td>NaN</td>\n",
       "      <td>NaN</td>\n",
       "      <td>NaN</td>\n",
       "      <td>NaN</td>\n",
       "      <td>NaN</td>\n",
       "    </tr>\n",
       "    <tr>\n",
       "      <th>1984.0</th>\n",
       "      <td>50.09</td>\n",
       "      <td>NaN</td>\n",
       "      <td>NaN</td>\n",
       "      <td>NaN</td>\n",
       "      <td>NaN</td>\n",
       "      <td>NaN</td>\n",
       "      <td>NaN</td>\n",
       "      <td>NaN</td>\n",
       "      <td>NaN</td>\n",
       "      <td>NaN</td>\n",
       "      <td>...</td>\n",
       "      <td>NaN</td>\n",
       "      <td>NaN</td>\n",
       "      <td>NaN</td>\n",
       "      <td>NaN</td>\n",
       "      <td>NaN</td>\n",
       "      <td>NaN</td>\n",
       "      <td>NaN</td>\n",
       "      <td>NaN</td>\n",
       "      <td>NaN</td>\n",
       "      <td>NaN</td>\n",
       "    </tr>\n",
       "  </tbody>\n",
       "</table>\n",
       "<p>5 rows × 31 columns</p>\n",
       "</div>"
      ],
      "text/plain": [
       "                   NES  Wii  GB  DS  X360  PS3  PS2  SNES  GBA  PS4  ...   DC  \\\n",
       "Year_of_Release                                                      ...        \n",
       "1980.0             NaN  NaN NaN NaN   NaN  NaN  NaN   NaN  NaN  NaN  ...  NaN   \n",
       "1981.0             NaN  NaN NaN NaN   NaN  NaN  NaN   NaN  NaN  NaN  ...  NaN   \n",
       "1982.0             NaN  NaN NaN NaN   NaN  NaN  NaN   NaN  NaN  NaN  ...  NaN   \n",
       "1983.0           10.96  NaN NaN NaN   NaN  NaN  NaN   NaN  NaN  NaN  ...  NaN   \n",
       "1984.0           50.09  NaN NaN NaN   NaN  NaN  NaN   NaN  NaN  NaN  ...  NaN   \n",
       "\n",
       "                 PSV  SAT  SCD  WS  NG  TG16  3DO  GG  PCFX  \n",
       "Year_of_Release                                              \n",
       "1980.0           NaN  NaN  NaN NaN NaN   NaN  NaN NaN   NaN  \n",
       "1981.0           NaN  NaN  NaN NaN NaN   NaN  NaN NaN   NaN  \n",
       "1982.0           NaN  NaN  NaN NaN NaN   NaN  NaN NaN   NaN  \n",
       "1983.0           NaN  NaN  NaN NaN NaN   NaN  NaN NaN   NaN  \n",
       "1984.0           NaN  NaN  NaN NaN NaN   NaN  NaN NaN   NaN  \n",
       "\n",
       "[5 rows x 31 columns]"
      ]
     },
     "execution_count": 62,
     "metadata": {},
     "output_type": "execute_result"
    }
   ],
   "source": [
    "console.head()"
   ]
  },
  {
   "cell_type": "markdown",
   "metadata": {},
   "source": [
    "The above is a dataframe of the yearly game sales on each console. It can be used in our results notebook to compare one console with another"
   ]
  },
  {
   "cell_type": "markdown",
   "metadata": {},
   "source": [
    "## Merging dataframes"
   ]
  },
  {
   "cell_type": "code",
   "execution_count": 63,
   "metadata": {},
   "outputs": [],
   "source": [
    "frames = [console,console_count]\n",
    "console_yearly = pd.concat(frames, axis = 1)"
   ]
  },
  {
   "cell_type": "markdown",
   "metadata": {},
   "source": [
    "## Saving to a pickle"
   ]
  },
  {
   "cell_type": "code",
   "execution_count": 64,
   "metadata": {},
   "outputs": [],
   "source": [
    "console_yearly.to_pickle(\"../../data/analysis/400_Console_Life_Yearly_Data.pkl\")\n",
    "consoles1.to_pickle(\"../../data/analysis/400_Console_Sales.pkl\")\n",
    "console_Sales.to_pickle(\"../../data/analysis/400_Total_Console_Sales.pkl\")"
   ]
  },
  {
   "cell_type": "code",
   "execution_count": null,
   "metadata": {},
   "outputs": [],
   "source": [
    "import types\n",
    "def imports():\n",
    "    for name, val in globals().items():\n",
    "        if isinstance(val, types.ModuleType):\n",
    "            yield val.__name__\n",
    "list(imports())"
   ]
  }
 ],
 "metadata": {
  "kernelspec": {
   "display_name": "Python 3",
   "language": "python",
   "name": "python3"
  },
  "language_info": {
   "codemirror_mode": {
    "name": "ipython",
    "version": 3
   },
   "file_extension": ".py",
   "mimetype": "text/x-python",
   "name": "python",
   "nbconvert_exporter": "python",
   "pygments_lexer": "ipython3",
   "version": "3.6.3"
  }
 },
 "nbformat": 4,
 "nbformat_minor": 2
}
