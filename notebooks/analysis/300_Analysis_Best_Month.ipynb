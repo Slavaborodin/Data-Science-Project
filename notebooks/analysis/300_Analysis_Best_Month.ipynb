{
 "cells": [
  {
   "cell_type": "markdown",
   "metadata": {},
   "source": [
    "# 300_Analysis"
   ]
  },
  {
   "cell_type": "markdown",
   "metadata": {},
   "source": [
    "## Purpose"
   ]
  },
  {
   "cell_type": "markdown",
   "metadata": {},
   "source": [
    "In this notebook we will take our fourth research question and begin the analysis of the fourth research question. Which is \"What month has the highest release rate and does this correlate with overall sales and performance of a game\". In this notebook what we will analyse is \n",
    "- yearly sales\n",
    "- monthly sales across each year\n",
    "- monthly sales combined \n",
    "- genres by region \n",
    "- Average game sales \n",
    "- Average game reviews\n",
    "- top 5 games do they always come out in the highest month\n",
    "- correlation between global sales and scores by month and year\n",
    "- correlation between global sales and games releases by year"
   ]
  },
  {
   "cell_type": "markdown",
   "metadata": {},
   "source": [
    "### Datasets"
   ]
  },
  {
   "cell_type": "markdown",
   "metadata": {},
   "source": [
    "- Input : Clean_Combined.pkl && Clean_Game_Sales_Total.pkl\n",
    "- Output : N/A"
   ]
  },
  {
   "cell_type": "code",
   "execution_count": 1,
   "metadata": {
    "collapsed": true
   },
   "outputs": [],
   "source": [
    "import os \n",
    "import pandas as pd\n",
    "import numpy as np \n",
    "import matplotlib.pylab as plt \n",
    "\n",
    "%matplotlib inline "
   ]
  },
  {
   "cell_type": "code",
   "execution_count": 2,
   "metadata": {
    "collapsed": true
   },
   "outputs": [],
   "source": [
    "# check if the datasets exists otherwise error produced\n",
    "if not os.path.exists(\"../../data/prep/Clean_Combined.pkl\"):\n",
    "    print(\"Missing Dataset File\")"
   ]
  },
  {
   "cell_type": "code",
   "execution_count": 3,
   "metadata": {
    "collapsed": true
   },
   "outputs": [],
   "source": [
    "# Check if the datasets exists otherwise error prodced\n",
    "if not os.path.exists(\"../../data/prep/Clean_Games_Sales_Total.pkl\"):\n",
    "    print(\"Missing Dataset File\")"
   ]
  },
  {
   "cell_type": "markdown",
   "metadata": {},
   "source": [
    "## Analysis "
   ]
  },
  {
   "cell_type": "markdown",
   "metadata": {},
   "source": [
    "Let's begin with the analysis to see what month had the highest release rate. "
   ]
  },
  {
   "cell_type": "code",
   "execution_count": 4,
   "metadata": {},
   "outputs": [
    {
     "data": {
      "text/plain": [
       "(6434, 12)"
      ]
     },
     "execution_count": 4,
     "metadata": {},
     "output_type": "execute_result"
    }
   ],
   "source": [
    "# check the dataset exists and check it loads using .shape \n",
    "combined = pd.read_pickle(\"../../data/prep/Clean_Combined.pkl\")\n",
    "combined.shape"
   ]
  },
  {
   "cell_type": "code",
   "execution_count": 5,
   "metadata": {},
   "outputs": [
    {
     "data": {
      "text/html": [
       "<div>\n",
       "<style>\n",
       "    .dataframe thead tr:only-child th {\n",
       "        text-align: right;\n",
       "    }\n",
       "\n",
       "    .dataframe thead th {\n",
       "        text-align: left;\n",
       "    }\n",
       "\n",
       "    .dataframe tbody tr th {\n",
       "        vertical-align: top;\n",
       "    }\n",
       "</style>\n",
       "<table border=\"1\" class=\"dataframe\">\n",
       "  <thead>\n",
       "    <tr style=\"text-align: right;\">\n",
       "      <th></th>\n",
       "      <th>Name</th>\n",
       "      <th>Platform</th>\n",
       "      <th>Genre</th>\n",
       "      <th>Publisher</th>\n",
       "      <th>NA_Sales</th>\n",
       "      <th>EU_Sales</th>\n",
       "      <th>JP_Sales</th>\n",
       "      <th>Other_Sales</th>\n",
       "      <th>Global_Sales</th>\n",
       "      <th>score_phrase</th>\n",
       "      <th>score</th>\n",
       "      <th>editors_choice</th>\n",
       "    </tr>\n",
       "    <tr>\n",
       "      <th>Date</th>\n",
       "      <th></th>\n",
       "      <th></th>\n",
       "      <th></th>\n",
       "      <th></th>\n",
       "      <th></th>\n",
       "      <th></th>\n",
       "      <th></th>\n",
       "      <th></th>\n",
       "      <th></th>\n",
       "      <th></th>\n",
       "      <th></th>\n",
       "      <th></th>\n",
       "    </tr>\n",
       "  </thead>\n",
       "  <tbody>\n",
       "    <tr>\n",
       "      <th>2006-11-13</th>\n",
       "      <td>Wii Sports</td>\n",
       "      <td>Wii</td>\n",
       "      <td>Sports</td>\n",
       "      <td>Nintendo</td>\n",
       "      <td>41.36</td>\n",
       "      <td>28.96</td>\n",
       "      <td>3.77</td>\n",
       "      <td>8.45</td>\n",
       "      <td>82.53</td>\n",
       "      <td>Good</td>\n",
       "      <td>7.5</td>\n",
       "      <td>N</td>\n",
       "    </tr>\n",
       "    <tr>\n",
       "      <th>2008-04-20</th>\n",
       "      <td>Mario Kart Wii</td>\n",
       "      <td>Wii</td>\n",
       "      <td>Racing</td>\n",
       "      <td>Nintendo</td>\n",
       "      <td>15.68</td>\n",
       "      <td>12.76</td>\n",
       "      <td>3.79</td>\n",
       "      <td>3.29</td>\n",
       "      <td>35.52</td>\n",
       "      <td>Great</td>\n",
       "      <td>8.5</td>\n",
       "      <td>Y</td>\n",
       "    </tr>\n",
       "    <tr>\n",
       "      <th>2009-07-16</th>\n",
       "      <td>Wii Sports Resort</td>\n",
       "      <td>Wii</td>\n",
       "      <td>Sports</td>\n",
       "      <td>Nintendo</td>\n",
       "      <td>15.61</td>\n",
       "      <td>10.93</td>\n",
       "      <td>3.28</td>\n",
       "      <td>2.95</td>\n",
       "      <td>32.77</td>\n",
       "      <td>Good</td>\n",
       "      <td>7.7</td>\n",
       "      <td>N</td>\n",
       "    </tr>\n",
       "    <tr>\n",
       "      <th>2006-05-06</th>\n",
       "      <td>New Super Mario Bros.</td>\n",
       "      <td>DS</td>\n",
       "      <td>Platform</td>\n",
       "      <td>Nintendo</td>\n",
       "      <td>11.28</td>\n",
       "      <td>9.14</td>\n",
       "      <td>6.50</td>\n",
       "      <td>2.88</td>\n",
       "      <td>29.80</td>\n",
       "      <td>Amazing</td>\n",
       "      <td>9.5</td>\n",
       "      <td>Y</td>\n",
       "    </tr>\n",
       "    <tr>\n",
       "      <th>2009-11-13</th>\n",
       "      <td>New Super Mario Bros. Wii</td>\n",
       "      <td>Wii</td>\n",
       "      <td>Platform</td>\n",
       "      <td>Nintendo</td>\n",
       "      <td>14.44</td>\n",
       "      <td>6.94</td>\n",
       "      <td>4.70</td>\n",
       "      <td>2.24</td>\n",
       "      <td>28.32</td>\n",
       "      <td>Great</td>\n",
       "      <td>8.9</td>\n",
       "      <td>Y</td>\n",
       "    </tr>\n",
       "  </tbody>\n",
       "</table>\n",
       "</div>"
      ],
      "text/plain": [
       "                                 Name Platform     Genre Publisher  NA_Sales  \\\n",
       "Date                                                                           \n",
       "2006-11-13                 Wii Sports      Wii    Sports  Nintendo     41.36   \n",
       "2008-04-20             Mario Kart Wii      Wii    Racing  Nintendo     15.68   \n",
       "2009-07-16          Wii Sports Resort      Wii    Sports  Nintendo     15.61   \n",
       "2006-05-06      New Super Mario Bros.       DS  Platform  Nintendo     11.28   \n",
       "2009-11-13  New Super Mario Bros. Wii      Wii  Platform  Nintendo     14.44   \n",
       "\n",
       "            EU_Sales  JP_Sales  Other_Sales  Global_Sales score_phrase  score  \\\n",
       "Date                                                                            \n",
       "2006-11-13     28.96      3.77         8.45         82.53         Good    7.5   \n",
       "2008-04-20     12.76      3.79         3.29         35.52        Great    8.5   \n",
       "2009-07-16     10.93      3.28         2.95         32.77         Good    7.7   \n",
       "2006-05-06      9.14      6.50         2.88         29.80      Amazing    9.5   \n",
       "2009-11-13      6.94      4.70         2.24         28.32        Great    8.9   \n",
       "\n",
       "           editors_choice  \n",
       "Date                       \n",
       "2006-11-13              N  \n",
       "2008-04-20              Y  \n",
       "2009-07-16              N  \n",
       "2006-05-06              Y  \n",
       "2009-11-13              Y  "
      ]
     },
     "execution_count": 5,
     "metadata": {},
     "output_type": "execute_result"
    }
   ],
   "source": [
    "# print the first 5 lines\n",
    "combined.head()"
   ]
  },
  {
   "cell_type": "code",
   "execution_count": 6,
   "metadata": {},
   "outputs": [
    {
     "data": {
      "text/plain": [
       "(16444, 11)"
      ]
     },
     "execution_count": 6,
     "metadata": {},
     "output_type": "execute_result"
    }
   ],
   "source": [
    "# check dataset loads in using .shape\n",
    "sales = pd.read_pickle(\"../../data/prep/Clean_Games_Sales_Total.pkl\")\n",
    "sales.shape"
   ]
  },
  {
   "cell_type": "code",
   "execution_count": 7,
   "metadata": {},
   "outputs": [
    {
     "data": {
      "text/html": [
       "<div>\n",
       "<style>\n",
       "    .dataframe thead tr:only-child th {\n",
       "        text-align: right;\n",
       "    }\n",
       "\n",
       "    .dataframe thead th {\n",
       "        text-align: left;\n",
       "    }\n",
       "\n",
       "    .dataframe tbody tr th {\n",
       "        vertical-align: top;\n",
       "    }\n",
       "</style>\n",
       "<table border=\"1\" class=\"dataframe\">\n",
       "  <thead>\n",
       "    <tr style=\"text-align: right;\">\n",
       "      <th></th>\n",
       "      <th>Name</th>\n",
       "      <th>Platform</th>\n",
       "      <th>Year_of_Release</th>\n",
       "      <th>Genre</th>\n",
       "      <th>Publisher</th>\n",
       "      <th>NA_Sales</th>\n",
       "      <th>EU_Sales</th>\n",
       "      <th>JP_Sales</th>\n",
       "      <th>Other_Sales</th>\n",
       "      <th>Global_Sales</th>\n",
       "      <th>Developer</th>\n",
       "    </tr>\n",
       "  </thead>\n",
       "  <tbody>\n",
       "    <tr>\n",
       "      <th>0</th>\n",
       "      <td>Wii Sports</td>\n",
       "      <td>Wii</td>\n",
       "      <td>2006.0</td>\n",
       "      <td>Sports</td>\n",
       "      <td>Nintendo</td>\n",
       "      <td>41.36</td>\n",
       "      <td>28.96</td>\n",
       "      <td>3.77</td>\n",
       "      <td>8.45</td>\n",
       "      <td>82.53</td>\n",
       "      <td>Nintendo</td>\n",
       "    </tr>\n",
       "    <tr>\n",
       "      <th>1</th>\n",
       "      <td>Super Mario Bros.</td>\n",
       "      <td>NES</td>\n",
       "      <td>1985.0</td>\n",
       "      <td>Platform</td>\n",
       "      <td>Nintendo</td>\n",
       "      <td>29.08</td>\n",
       "      <td>3.58</td>\n",
       "      <td>6.81</td>\n",
       "      <td>0.77</td>\n",
       "      <td>40.24</td>\n",
       "      <td>NaN</td>\n",
       "    </tr>\n",
       "    <tr>\n",
       "      <th>2</th>\n",
       "      <td>Mario Kart Wii</td>\n",
       "      <td>Wii</td>\n",
       "      <td>2008.0</td>\n",
       "      <td>Racing</td>\n",
       "      <td>Nintendo</td>\n",
       "      <td>15.68</td>\n",
       "      <td>12.76</td>\n",
       "      <td>3.79</td>\n",
       "      <td>3.29</td>\n",
       "      <td>35.52</td>\n",
       "      <td>Nintendo</td>\n",
       "    </tr>\n",
       "    <tr>\n",
       "      <th>3</th>\n",
       "      <td>Wii Sports Resort</td>\n",
       "      <td>Wii</td>\n",
       "      <td>2009.0</td>\n",
       "      <td>Sports</td>\n",
       "      <td>Nintendo</td>\n",
       "      <td>15.61</td>\n",
       "      <td>10.93</td>\n",
       "      <td>3.28</td>\n",
       "      <td>2.95</td>\n",
       "      <td>32.77</td>\n",
       "      <td>Nintendo</td>\n",
       "    </tr>\n",
       "    <tr>\n",
       "      <th>4</th>\n",
       "      <td>Pokemon Red/Pokemon Blue</td>\n",
       "      <td>GB</td>\n",
       "      <td>1996.0</td>\n",
       "      <td>Role-Playing</td>\n",
       "      <td>Nintendo</td>\n",
       "      <td>11.27</td>\n",
       "      <td>8.89</td>\n",
       "      <td>10.22</td>\n",
       "      <td>1.00</td>\n",
       "      <td>31.37</td>\n",
       "      <td>NaN</td>\n",
       "    </tr>\n",
       "  </tbody>\n",
       "</table>\n",
       "</div>"
      ],
      "text/plain": [
       "                       Name Platform  Year_of_Release         Genre Publisher  \\\n",
       "0                Wii Sports      Wii           2006.0        Sports  Nintendo   \n",
       "1         Super Mario Bros.      NES           1985.0      Platform  Nintendo   \n",
       "2            Mario Kart Wii      Wii           2008.0        Racing  Nintendo   \n",
       "3         Wii Sports Resort      Wii           2009.0        Sports  Nintendo   \n",
       "4  Pokemon Red/Pokemon Blue       GB           1996.0  Role-Playing  Nintendo   \n",
       "\n",
       "   NA_Sales  EU_Sales  JP_Sales  Other_Sales  Global_Sales Developer  \n",
       "0     41.36     28.96      3.77         8.45         82.53  Nintendo  \n",
       "1     29.08      3.58      6.81         0.77         40.24       NaN  \n",
       "2     15.68     12.76      3.79         3.29         35.52  Nintendo  \n",
       "3     15.61     10.93      3.28         2.95         32.77  Nintendo  \n",
       "4     11.27      8.89     10.22         1.00         31.37       NaN  "
      ]
     },
     "execution_count": 7,
     "metadata": {},
     "output_type": "execute_result"
    }
   ],
   "source": [
    "# first 5 lines of the loaded in dataset \n",
    "sales.head()"
   ]
  },
  {
   "cell_type": "markdown",
   "metadata": {},
   "source": [
    "### Monthly Analysis "
   ]
  },
  {
   "cell_type": "markdown",
   "metadata": {},
   "source": [
    "For the monthly analysis we will be analysing the combined data as this one contains the monthly details of each game. We will have to split the information by year more than likely and then one we have it in the year format we will be able to split it into the monthly format. "
   ]
  },
  {
   "cell_type": "code",
   "execution_count": 8,
   "metadata": {},
   "outputs": [
    {
     "data": {
      "text/plain": [
       "Date\n",
       "1996-12-31     43\n",
       "1997-12-31    120\n",
       "1998-12-31    141\n",
       "1999-12-31    210\n",
       "2000-12-29    259\n",
       "2001-12-31    219\n",
       "2002-12-31    405\n",
       "2003-12-31    429\n",
       "2004-12-31    415\n",
       "2005-12-30    455\n",
       "2006-12-29    417\n",
       "2007-12-31    554\n",
       "2008-12-31    741\n",
       "2009-12-31    581\n",
       "2010-12-31    382\n",
       "2011-12-30    348\n",
       "2012-12-31    232\n",
       "2013-12-31    208\n",
       "2014-12-31    144\n",
       "2015-12-31     84\n",
       "2016-12-30     47\n",
       "Freq: BA-DEC, Name: Platform, dtype: int64"
      ]
     },
     "execution_count": 8,
     "metadata": {},
     "output_type": "execute_result"
    }
   ],
   "source": [
    "# Here we are resample by the business year end. To calculate the yearly releases.\n",
    "combined['Platform'].resample(\"BA\").count()"
   ]
  },
  {
   "cell_type": "markdown",
   "metadata": {},
   "source": [
    "As seen above again we get 2008 as our highest year in terms of Platform releases with a total of 741 platforms during that year. "
   ]
  },
  {
   "cell_type": "code",
   "execution_count": 9,
   "metadata": {},
   "outputs": [
    {
     "data": {
      "text/plain": [
       "Date\n",
       "1996-09-30     2\n",
       "1996-10-31     0\n",
       "1996-11-30    31\n",
       "1996-12-31    10\n",
       "1997-01-31    10\n",
       "Freq: M, Name: Platform, dtype: int64"
      ]
     },
     "execution_count": 9,
     "metadata": {},
     "output_type": "execute_result"
    }
   ],
   "source": [
    "# Then we will resample by months for each year\n",
    "gamestotal_bymonth = combined['Platform'].resample(\"M\").count()\n",
    "gamestotal_bymonth.head()"
   ]
  },
  {
   "cell_type": "markdown",
   "metadata": {},
   "source": [
    "As seen above we have analysed on a monthly basis for each year and calculated the number of publishers per year and then divided it per month for that year. What we would like to do now is count the total amount of publishers for each month over the 20 years. This will help us tell which month has the highest release rate because it will group by the publishers. "
   ]
  },
  {
   "cell_type": "code",
   "execution_count": 10,
   "metadata": {},
   "outputs": [
    {
     "data": {
      "text/plain": [
       "April         354\n",
       "August        413\n",
       "December      479\n",
       "February      453\n",
       "January       286\n",
       "July          266\n",
       "June          460\n",
       "March         594\n",
       "May           348\n",
       "November     1101\n",
       "October      1005\n",
       "September     674\n",
       "Name: Publisher, dtype: int64"
      ]
     },
     "execution_count": 10,
     "metadata": {},
     "output_type": "execute_result"
    }
   ],
   "source": [
    "# Then we will use strftime to convert the index column into full month names as a string. \n",
    "# Gotten from stack overflow: \"https://stackoverflow.com/questions/49896920/pandas-yearly-analyses-and-then-by-month\".\n",
    "combined.groupby(combined.index.strftime('%B'))['Publisher'].count()"
   ]
  },
  {
   "cell_type": "markdown",
   "metadata": {},
   "source": [
    "As seen above November has the highest release rate in terms of publishers which is interesting as this is a good month financially to release a game as this is the month before christmas, meaning more people will be buying games at this time of the year."
   ]
  },
  {
   "cell_type": "markdown",
   "metadata": {},
   "source": [
    "### Analysing Monthly Sales across Regions"
   ]
  },
  {
   "cell_type": "markdown",
   "metadata": {},
   "source": [
    "As above we will now divide the data into our 4 regions. Eu , Japan, Global and North American sales. We will again divide everything up into business end years, months by year and then convert it into full month names and count the highest month name in terms of sale for that region. "
   ]
  },
  {
   "cell_type": "markdown",
   "metadata": {},
   "source": [
    "###### NA_Sales"
   ]
  },
  {
   "cell_type": "code",
   "execution_count": 11,
   "metadata": {},
   "outputs": [
    {
     "data": {
      "text/plain": [
       "Date\n",
       "1996-12-31     30.44\n",
       "1997-12-31     60.15\n",
       "1998-12-31     67.21\n",
       "1999-12-31     95.03\n",
       "2000-12-29     78.30\n",
       "2001-12-31     99.94\n",
       "2002-12-31    138.82\n",
       "2003-12-31    125.08\n",
       "2004-12-31    147.29\n",
       "2005-12-30    125.45\n",
       "2006-12-29    182.76\n",
       "2007-12-31    224.38\n",
       "2008-12-31    268.09\n",
       "2009-12-31    242.62\n",
       "2010-12-31    185.96\n",
       "2011-12-30    168.94\n",
       "2012-12-31    120.91\n",
       "2013-12-31    115.54\n",
       "2014-12-31     55.05\n",
       "2015-12-31     35.50\n",
       "2016-12-30     13.99\n",
       "Freq: BA-DEC, Name: NA_Sales, dtype: float64"
      ]
     },
     "execution_count": 11,
     "metadata": {},
     "output_type": "execute_result"
    }
   ],
   "source": [
    "# resample the north american sales to business year end and sum the sales for each year\n",
    "combined['NA_Sales'].resample(\"BA\").sum()"
   ]
  },
  {
   "cell_type": "code",
   "execution_count": 12,
   "metadata": {},
   "outputs": [
    {
     "data": {
      "text/plain": [
       "Date\n",
       "1996-09-30     7.47\n",
       "1996-10-31      NaN\n",
       "1996-11-30    16.52\n",
       "1996-12-31     6.45\n",
       "1997-01-31     4.75\n",
       "Freq: M, Name: NA_Sales, dtype: float64"
      ]
     },
     "execution_count": 12,
     "metadata": {},
     "output_type": "execute_result"
    }
   ],
   "source": [
    "# resample the north american sales by month for each year \n",
    "NA_bymonth = combined['NA_Sales'].resample(\"M\").sum()\n",
    "NA_bymonth.head()"
   ]
  },
  {
   "cell_type": "code",
   "execution_count": 13,
   "metadata": {},
   "outputs": [
    {
     "data": {
      "text/plain": [
       "April        112.34\n",
       "August       187.00\n",
       "December     132.98\n",
       "February     127.96\n",
       "January       83.36\n",
       "July          88.11\n",
       "June         127.52\n",
       "March        168.71\n",
       "May          136.50\n",
       "November     679.61\n",
       "October      446.35\n",
       "September    291.01\n",
       "Name: NA_Sales, dtype: float64"
      ]
     },
     "execution_count": 13,
     "metadata": {},
     "output_type": "execute_result"
    }
   ],
   "source": [
    "# convert the string into a full month name and get a total overview for the best selling month in North America\n",
    "combined.groupby(combined.index.strftime('%B'))['NA_Sales'].sum()"
   ]
  },
  {
   "cell_type": "markdown",
   "metadata": {},
   "source": [
    "As we can see November is the highest selling month in north america followed by octover and september. The worst months to release a game is january and july. "
   ]
  },
  {
   "cell_type": "markdown",
   "metadata": {},
   "source": [
    "##### EU_Sales"
   ]
  },
  {
   "cell_type": "markdown",
   "metadata": {},
   "source": [
    "Now lets analyse the European yearly sales, sales by year and the highest overall month "
   ]
  },
  {
   "cell_type": "code",
   "execution_count": 14,
   "metadata": {},
   "outputs": [
    {
     "data": {
      "text/plain": [
       "Date\n",
       "1996-12-31     13.82\n",
       "1997-12-31     26.24\n",
       "1998-12-31     30.52\n",
       "1999-12-31     44.35\n",
       "2000-12-29     41.78\n",
       "2001-12-31     51.91\n",
       "2002-12-31     69.24\n",
       "2003-12-31     70.77\n",
       "2004-12-31     71.34\n",
       "2005-12-30     53.30\n",
       "2006-12-29     94.25\n",
       "2007-12-31    110.47\n",
       "2008-12-31    141.06\n",
       "2009-12-31    137.81\n",
       "2010-12-31    114.68\n",
       "2011-12-30    115.47\n",
       "2012-12-31     92.15\n",
       "2013-12-31     91.85\n",
       "2014-12-31     61.47\n",
       "2015-12-31     40.66\n",
       "2016-12-30     17.85\n",
       "Freq: BA-DEC, Name: EU_Sales, dtype: float64"
      ]
     },
     "execution_count": 14,
     "metadata": {},
     "output_type": "execute_result"
    }
   ],
   "source": [
    "# Resample by business year end to find the sum of the sales for each year\n",
    "combined['EU_Sales'].resample(\"BA\").sum()"
   ]
  },
  {
   "cell_type": "code",
   "execution_count": 15,
   "metadata": {},
   "outputs": [
    {
     "data": {
      "text/plain": [
       "Date\n",
       "1996-09-30    3.09\n",
       "1996-10-31     NaN\n",
       "1996-11-30    8.38\n",
       "1996-12-31    2.35\n",
       "1997-01-31    1.34\n",
       "Freq: M, Name: EU_Sales, dtype: float64"
      ]
     },
     "execution_count": 15,
     "metadata": {},
     "output_type": "execute_result"
    }
   ],
   "source": [
    "# get the sales by monthly basis for each year\n",
    "EU_bymonth = combined['EU_Sales'].resample(\"M\").sum()\n",
    "EU_bymonth.head()"
   ]
  },
  {
   "cell_type": "code",
   "execution_count": 16,
   "metadata": {},
   "outputs": [
    {
     "data": {
      "text/plain": [
       "April         70.71\n",
       "August        72.50\n",
       "December      79.14\n",
       "February      74.73\n",
       "January       43.76\n",
       "July          39.82\n",
       "June          82.23\n",
       "March         93.76\n",
       "May           93.77\n",
       "November     410.05\n",
       "October      249.14\n",
       "September    181.38\n",
       "Name: EU_Sales, dtype: float64"
      ]
     },
     "execution_count": 16,
     "metadata": {},
     "output_type": "execute_result"
    }
   ],
   "source": [
    "# convert the string to a full month name and find the highest sold months\n",
    "combined.groupby(combined.index.strftime('%B'))['EU_Sales'].sum()"
   ]
  },
  {
   "cell_type": "markdown",
   "metadata": {},
   "source": [
    "As we can see we resampled by month by year, yearly and then by full month to see what month had the highest sold months. We can see November and October and September again dominates the highest sold months. \n"
   ]
  },
  {
   "cell_type": "markdown",
   "metadata": {},
   "source": [
    "##### JP_Sales"
   ]
  },
  {
   "cell_type": "markdown",
   "metadata": {},
   "source": [
    "Now we will analyse the japanese market and check the sales by business year, then by month for each year, and then by full month names. "
   ]
  },
  {
   "cell_type": "code",
   "execution_count": 17,
   "metadata": {},
   "outputs": [
    {
     "data": {
      "text/plain": [
       "Date\n",
       "1996-12-31     7.11\n",
       "1997-12-31    16.17\n",
       "1998-12-31    16.40\n",
       "1999-12-31    21.72\n",
       "2000-12-29    23.42\n",
       "2001-12-31    16.45\n",
       "2002-12-31    13.54\n",
       "2003-12-31    13.43\n",
       "2004-12-31     9.89\n",
       "2005-12-30    23.30\n",
       "2006-12-29    38.94\n",
       "2007-12-31    28.74\n",
       "2008-12-31    33.28\n",
       "2009-12-31    29.22\n",
       "2010-12-31    24.60\n",
       "2011-12-30    20.84\n",
       "2012-12-31    18.74\n",
       "2013-12-31    19.81\n",
       "2014-12-31    14.12\n",
       "2015-12-31    11.22\n",
       "2016-12-30     3.06\n",
       "Freq: BA-DEC, Name: JP_Sales, dtype: float64"
      ]
     },
     "execution_count": 17,
     "metadata": {},
     "output_type": "execute_result"
    }
   ],
   "source": [
    "# Japanese sales by business year\n",
    "combined['JP_Sales'].resample(\"BA\").sum()"
   ]
  },
  {
   "cell_type": "code",
   "execution_count": 18,
   "metadata": {},
   "outputs": [
    {
     "data": {
      "text/plain": [
       "Date\n",
       "1996-09-30    2.21\n",
       "1996-10-31     NaN\n",
       "1996-11-30    3.97\n",
       "1996-12-31    0.93\n",
       "1997-01-31    0.03\n",
       "Freq: M, Name: JP_Sales, dtype: float64"
      ]
     },
     "execution_count": 18,
     "metadata": {},
     "output_type": "execute_result"
    }
   ],
   "source": [
    "# check the monthly sales by year \n",
    "JP_bymonth = combined['JP_Sales'].resample(\"M\").sum()\n",
    "JP_bymonth.head()"
   ]
  },
  {
   "cell_type": "code",
   "execution_count": 19,
   "metadata": {},
   "outputs": [
    {
     "data": {
      "text/plain": [
       "April        20.89\n",
       "August       23.30\n",
       "December     23.11\n",
       "February     32.67\n",
       "January      12.01\n",
       "July         17.16\n",
       "June         21.64\n",
       "March        40.66\n",
       "May          30.51\n",
       "November     90.67\n",
       "October      45.22\n",
       "September    46.16\n",
       "Name: JP_Sales, dtype: float64"
      ]
     },
     "execution_count": 19,
     "metadata": {},
     "output_type": "execute_result"
    }
   ],
   "source": [
    "# convert to a full month name to check highest sold months \n",
    "combined.groupby(combined.index.strftime('%B'))['JP_Sales'].sum()"
   ]
  },
  {
   "cell_type": "markdown",
   "metadata": {},
   "source": [
    "As we can see again November , October and September again dominate the highest sold months in the japanese regions"
   ]
  },
  {
   "cell_type": "markdown",
   "metadata": {},
   "source": [
    "##### Global Sales"
   ]
  },
  {
   "cell_type": "markdown",
   "metadata": {},
   "source": [
    "Check the Global sales by business year, months by year and by full month names"
   ]
  },
  {
   "cell_type": "code",
   "execution_count": 20,
   "metadata": {},
   "outputs": [
    {
     "data": {
      "text/plain": [
       "Date\n",
       "1996-12-31     53.28\n",
       "1997-12-31    107.31\n",
       "1998-12-31    118.91\n",
       "1999-12-31    168.00\n",
       "2000-12-29    151.59\n",
       "Freq: BA-DEC, Name: Global_Sales, dtype: float64"
      ]
     },
     "execution_count": 20,
     "metadata": {},
     "output_type": "execute_result"
    }
   ],
   "source": [
    "# Check the yearly sales figures\n",
    "globally = combined['Global_Sales'].resample(\"BA\").sum()\n",
    "globally.head()"
   ]
  },
  {
   "cell_type": "code",
   "execution_count": 21,
   "metadata": {},
   "outputs": [
    {
     "data": {
      "text/plain": [
       "Date\n",
       "1996-09-30    13.01\n",
       "1996-10-31      NaN\n",
       "1996-11-30    30.16\n",
       "1996-12-31    10.11\n",
       "1997-01-31     6.38\n",
       "Freq: M, Name: Global_Sales, dtype: float64"
      ]
     },
     "execution_count": 21,
     "metadata": {},
     "output_type": "execute_result"
    }
   ],
   "source": [
    "# check the monthly sales by year\n",
    "global_bymonth = combined['Global_Sales'].resample(\"M\").sum()\n",
    "global_bymonth.head()"
   ]
  },
  {
   "cell_type": "code",
   "execution_count": 22,
   "metadata": {},
   "outputs": [
    {
     "data": {
      "text/plain": [
       "April         224.97\n",
       "August        309.55\n",
       "December      257.19\n",
       "February      270.50\n",
       "January       152.54\n",
       "July          158.69\n",
       "June          256.77\n",
       "March         336.30\n",
       "May           289.56\n",
       "November     1309.46\n",
       "October       839.92\n",
       "September     579.40\n",
       "Name: Global_Sales, dtype: float64"
      ]
     },
     "execution_count": 22,
     "metadata": {},
     "output_type": "execute_result"
    }
   ],
   "source": [
    "# check the sales for each month \n",
    "combined.groupby(combined.index.strftime('%B'))['Global_Sales'].sum()"
   ]
  },
  {
   "cell_type": "markdown",
   "metadata": {},
   "source": [
    "November , October and September are the top selling regions as seen above globally. They are also the top selling months for each separate region. The trend is the same across each region. "
   ]
  },
  {
   "cell_type": "markdown",
   "metadata": {},
   "source": [
    "#### Getting average of game sales released per month "
   ]
  },
  {
   "cell_type": "markdown",
   "metadata": {},
   "source": [
    "What we want to do now is calculate the total global sales for each month. We then need to calculate the number of games released per month. Once we have both of these we will need to divide the global sales per month by the games per month to find the average. "
   ]
  },
  {
   "cell_type": "code",
   "execution_count": 23,
   "metadata": {},
   "outputs": [
    {
     "data": {
      "text/plain": [
       "April         354\n",
       "August        413\n",
       "December      479\n",
       "February      453\n",
       "January       286\n",
       "July          266\n",
       "June          460\n",
       "March         594\n",
       "May           348\n",
       "November     1102\n",
       "October      1005\n",
       "September     674\n",
       "Name: Genre, dtype: int64"
      ]
     },
     "execution_count": 23,
     "metadata": {},
     "output_type": "execute_result"
    }
   ],
   "source": [
    "# count the number of games released per month \n",
    "games_by_month = combined.groupby(combined.index.strftime('%B'))['Genre'].count()\n",
    "games_by_month "
   ]
  },
  {
   "cell_type": "code",
   "execution_count": 24,
   "metadata": {},
   "outputs": [
    {
     "data": {
      "text/plain": [
       "April         224.97\n",
       "August        309.55\n",
       "December      257.19\n",
       "February      270.50\n",
       "January       152.54\n",
       "July          158.69\n",
       "June          256.77\n",
       "March         336.30\n",
       "May           289.56\n",
       "November     1309.46\n",
       "October       839.92\n",
       "September     579.40\n",
       "Name: Global_Sales, dtype: float64"
      ]
     },
     "execution_count": 24,
     "metadata": {},
     "output_type": "execute_result"
    }
   ],
   "source": [
    "# sum the global sales for each month \n",
    "Global = combined.groupby(combined.index.strftime('%B'))['Global_Sales'].sum()\n",
    "Global"
   ]
  },
  {
   "cell_type": "markdown",
   "metadata": {},
   "source": [
    "Average of global sales divided by the number of releases that month. This represents on average the sales per month. As seen below the best month in terms of sales is November"
   ]
  },
  {
   "cell_type": "code",
   "execution_count": 25,
   "metadata": {},
   "outputs": [
    {
     "data": {
      "text/plain": [
       "April        0.635508\n",
       "August       0.749516\n",
       "December     0.536931\n",
       "February     0.597130\n",
       "January      0.533357\n",
       "July         0.596579\n",
       "June         0.558196\n",
       "March        0.566162\n",
       "May          0.832069\n",
       "November     1.188258\n",
       "October      0.835741\n",
       "September    0.859644\n",
       "dtype: float64"
      ]
     },
     "execution_count": 25,
     "metadata": {},
     "output_type": "execute_result"
    }
   ],
   "source": [
    "# divide the global sales by the number of games released each month to get an average release per month\n",
    "avg_games = Global / games_by_month\n",
    "avg_games"
   ]
  },
  {
   "cell_type": "markdown",
   "metadata": {},
   "source": [
    "#### Monthly Score review"
   ]
  },
  {
   "cell_type": "markdown",
   "metadata": {},
   "source": [
    "Lets analyse the average score per month. We have already stored the amount of games per month. Now lets sum the total scores per month. Once we get this we will divide the total score figure by the number of releases per month. "
   ]
  },
  {
   "cell_type": "code",
   "execution_count": 26,
   "metadata": {},
   "outputs": [
    {
     "data": {
      "text/plain": [
       "April        2389.2\n",
       "August       2987.7\n",
       "December     3026.8\n",
       "February     3261.4\n",
       "January      1897.6\n",
       "July         1823.3\n",
       "June         3192.7\n",
       "March        4230.0\n",
       "May          2365.4\n",
       "November     7844.3\n",
       "October      7207.2\n",
       "September    5062.1\n",
       "Name: score, dtype: float64"
      ]
     },
     "execution_count": 26,
     "metadata": {},
     "output_type": "execute_result"
    }
   ],
   "source": [
    "# find the highest scored month \n",
    "month = combined.groupby(combined.index.strftime('%B'))['score'].sum()\n",
    "month"
   ]
  },
  {
   "cell_type": "code",
   "execution_count": 27,
   "metadata": {},
   "outputs": [
    {
     "data": {
      "text/plain": [
       "April        6.749153\n",
       "August       7.234140\n",
       "December     6.318998\n",
       "February     7.199558\n",
       "January      6.634965\n",
       "July         6.854511\n",
       "June         6.940652\n",
       "March        7.121212\n",
       "May          6.797126\n",
       "November     7.118240\n",
       "October      7.171343\n",
       "September    7.510534\n",
       "dtype: float64"
      ]
     },
     "execution_count": 27,
     "metadata": {},
     "output_type": "execute_result"
    }
   ],
   "source": [
    "# get the average score by dividing the monthly scores by the number of releases to find the average score per month \n",
    "month / games_by_month "
   ]
  },
  {
   "cell_type": "markdown",
   "metadata": {},
   "source": [
    "As we can see we have divided our total scores for each month which is stored in a dataframe called month. We will then divide this by the dataframe called c which will give us the average rating per month. From the analysis above on average September has the highest rated average which is interesting to note as November has been at the highest for all of our other analysis. "
   ]
  },
  {
   "cell_type": "markdown",
   "metadata": {},
   "source": [
    "### Genre by Regions"
   ]
  },
  {
   "cell_type": "markdown",
   "metadata": {},
   "source": [
    "Checking the performance of genre in each region in terms of sales and both in terms of reviews. We will  calculate the highest sold genres in each region and see if there is much of a difference in them. "
   ]
  },
  {
   "cell_type": "markdown",
   "metadata": {},
   "source": [
    "#### Number 1 genre in EU"
   ]
  },
  {
   "cell_type": "code",
   "execution_count": 28,
   "metadata": {},
   "outputs": [
    {
     "data": {
      "text/plain": [
       "Genre\n",
       "Sports          28.96\n",
       "Racing          12.76\n",
       "Platform         9.14\n",
       "Action           9.09\n",
       "Misc             9.20\n",
       "Puzzle           5.35\n",
       "Shooter          5.73\n",
       "Fighting         2.55\n",
       "Simulation       6.42\n",
       "Role-Playing     6.21\n",
       "Adventure        2.00\n",
       "Strategy         1.89\n",
       "Name: EU_Sales, dtype: float64"
      ]
     },
     "execution_count": 28,
     "metadata": {},
     "output_type": "execute_result"
    }
   ],
   "source": [
    "# Finding the number 1 genre in EU\n",
    "combined.groupby(['Genre'], sort = False)['EU_Sales'].max()\n"
   ]
  },
  {
   "cell_type": "markdown",
   "metadata": {},
   "source": [
    "#### Number 1 genre Japan"
   ]
  },
  {
   "cell_type": "code",
   "execution_count": 29,
   "metadata": {},
   "outputs": [
    {
     "data": {
      "text/plain": [
       "Genre\n",
       "Sports          3.77\n",
       "Racing          4.13\n",
       "Platform        6.50\n",
       "Action          1.54\n",
       "Misc            4.16\n",
       "Puzzle          5.32\n",
       "Shooter         1.46\n",
       "Fighting        2.66\n",
       "Simulation      5.33\n",
       "Role-Playing    4.35\n",
       "Adventure       1.06\n",
       "Strategy        0.94\n",
       "Name: JP_Sales, dtype: float64"
      ]
     },
     "execution_count": 29,
     "metadata": {},
     "output_type": "execute_result"
    }
   ],
   "source": [
    "# finding the numbe 1 genre in Japan \n",
    "combined.groupby(['Genre'], sort = False)['JP_Sales'].max()\n"
   ]
  },
  {
   "cell_type": "markdown",
   "metadata": {},
   "source": [
    "#### Number 1 genre Globally"
   ]
  },
  {
   "cell_type": "code",
   "execution_count": 30,
   "metadata": {},
   "outputs": [
    {
     "data": {
      "text/plain": [
       "Genre\n",
       "Sports          82.53\n",
       "Racing          35.52\n",
       "Platform        29.80\n",
       "Action          21.04\n",
       "Misc            20.15\n",
       "Puzzle          15.29\n",
       "Shooter         14.73\n",
       "Fighting        12.84\n",
       "Simulation      12.13\n",
       "Role-Playing     9.72\n",
       "Adventure        5.54\n",
       "Strategy         5.45\n",
       "Name: Global_Sales, dtype: float64"
      ]
     },
     "execution_count": 30,
     "metadata": {},
     "output_type": "execute_result"
    }
   ],
   "source": [
    "# best selling genre globally\n",
    "combined.groupby(['Genre'], sort = False)['Global_Sales'].max()\n",
    " "
   ]
  },
  {
   "cell_type": "markdown",
   "metadata": {},
   "source": [
    "#### Number 1 genre North America"
   ]
  },
  {
   "cell_type": "code",
   "execution_count": 31,
   "metadata": {},
   "outputs": [
    {
     "data": {
      "text/plain": [
       "Genre\n",
       "Sports          41.36\n",
       "Racing          15.68\n",
       "Platform        14.44\n",
       "Action           9.66\n",
       "Misc             5.95\n",
       "Puzzle           3.43\n",
       "Shooter          9.70\n",
       "Fighting         6.62\n",
       "Simulation       3.07\n",
       "Role-Playing     5.05\n",
       "Adventure        3.28\n",
       "Strategy         3.18\n",
       "Name: NA_Sales, dtype: float64"
      ]
     },
     "execution_count": 31,
     "metadata": {},
     "output_type": "execute_result"
    }
   ],
   "source": [
    "# best selling genre in north america\n",
    "combined.groupby(['Genre'], sort = False)['NA_Sales'].max()\n"
   ]
  },
  {
   "cell_type": "markdown",
   "metadata": {},
   "source": [
    "As we can see above the genres for each region are similar enough except for Japan. In each other region it is the sports region which is at it's highest. However for japan it is the platform genre which performed best. "
   ]
  },
  {
   "cell_type": "markdown",
   "metadata": {},
   "source": [
    "#### Highest scored genre"
   ]
  },
  {
   "cell_type": "code",
   "execution_count": 32,
   "metadata": {},
   "outputs": [
    {
     "data": {
      "text/plain": [
       "Genre\n",
       "Sports           9.7\n",
       "Racing           9.8\n",
       "Platform        10.0\n",
       "Action          10.0\n",
       "Misc             9.7\n",
       "Puzzle           9.1\n",
       "Shooter          9.8\n",
       "Fighting         9.6\n",
       "Simulation       9.6\n",
       "Role-Playing     9.9\n",
       "Adventure        9.7\n",
       "Strategy         9.7\n",
       "Name: score, dtype: float64"
      ]
     },
     "execution_count": 32,
     "metadata": {},
     "output_type": "execute_result"
    }
   ],
   "source": [
    "# the highest scored genre that are scored\n",
    "combined.groupby(['Genre'], sort = False)['score'].max()"
   ]
  },
  {
   "cell_type": "code",
   "execution_count": 33,
   "metadata": {},
   "outputs": [
    {
     "data": {
      "text/plain": [
       "Name\n",
       "Wii Sports                                       82.53\n",
       "Mario Kart Wii                                   35.52\n",
       "Wii Sports Resort                                32.77\n",
       "New Super Mario Bros.                            29.80\n",
       "New Super Mario Bros. Wii                        28.32\n",
       "Mario Kart DS                                    23.21\n",
       "Wii Fit                                          22.70\n",
       "Wii Fit Plus                                     21.79\n",
       "Grand Theft Auto V                               21.04\n",
       "Grand Theft Auto: San Andreas                    20.81\n",
       "Brain Age: Train Your Brain in Minutes a Day     20.15\n",
       "Grand Theft Auto: Vice City                      16.15\n",
       "Brain Age 2: More Training in Minutes a Day      15.29\n",
       "Call of Duty: Modern Warfare 3                   14.73\n",
       "Call of Duty: Black Ops                          14.61\n",
       "Call of Duty: Black Ops II                       13.79\n",
       "Call of Duty: Modern Warfare 2                   13.47\n",
       "Grand Theft Auto III                             13.10\n",
       "Super Smash Bros. Brawl                          12.84\n",
       "Mario Kart 7                                     12.66\n",
       "Animal Crossing: Wild World                      12.13\n",
       "Halo 3                                           12.12\n",
       "Super Mario 64                                   11.89\n",
       "Gran Turismo 4                                   11.66\n",
       "Super Mario Galaxy                               11.35\n",
       "Grand Theft Auto IV                              11.01\n",
       "Super Mario 3D Land                              10.81\n",
       "Gran Turismo 5                                   10.70\n",
       "Call of Duty: Ghosts                             10.25\n",
       "Just Dance 3                                     10.12\n",
       "                                                 ...  \n",
       "The Technomancer                                  0.01\n",
       "Vanark                                            0.01\n",
       "Furious Karting                                   0.01\n",
       "IL-2 Sturmovik                                    0.01\n",
       "Doki-Doki Universe                                0.01\n",
       "K-1 Grand Prix                                    0.01\n",
       "BattleForge                                       0.01\n",
       "Groovin' Blocks                                   0.01\n",
       "Rail Simulator                                    0.01\n",
       "F.E.A.R. Perseus Mandate                          0.01\n",
       "Deus Ex                                           0.01\n",
       "Aquaman: Battle for Atlantis                      0.01\n",
       "Dokuro                                            0.01\n",
       "Monster Bomber                                    0.01\n",
       "Fullmetal Alchemist: Trading Card Game            0.01\n",
       "Darkened Skye                                     0.01\n",
       "Command & Conquer Renegade                        0.01\n",
       "The Wild West                                     0.01\n",
       "World Heroes Anthology                            0.01\n",
       "Icewind Dale II                                   0.01\n",
       "Carmageddon: Max Damage                           0.01\n",
       "Luxor: Pharaoh's Challenge                        0.01\n",
       "Micro Machines V4                                 0.01\n",
       "Trine                                             0.01\n",
       "Original Frisbee Disc Sports: Ultimate & Golf     0.01\n",
       "PGA European Tour                                 0.01\n",
       "Carmageddon 64                                    0.01\n",
       "Breach                                            0.01\n",
       "Mega Brain Boost                                  0.01\n",
       "Plushees                                          0.01\n",
       "Name: Global_Sales, Length: 4243, dtype: float64"
      ]
     },
     "execution_count": 33,
     "metadata": {},
     "output_type": "execute_result"
    }
   ],
   "source": [
    "# highest sold game globally \n",
    "combined.groupby(['Name'], sort=False)['Global_Sales'].max()"
   ]
  },
  {
   "cell_type": "code",
   "execution_count": 34,
   "metadata": {},
   "outputs": [
    {
     "data": {
      "text/html": [
       "<div>\n",
       "<style>\n",
       "    .dataframe thead tr:only-child th {\n",
       "        text-align: right;\n",
       "    }\n",
       "\n",
       "    .dataframe thead th {\n",
       "        text-align: left;\n",
       "    }\n",
       "\n",
       "    .dataframe tbody tr th {\n",
       "        vertical-align: top;\n",
       "    }\n",
       "</style>\n",
       "<table border=\"1\" class=\"dataframe\">\n",
       "  <thead>\n",
       "    <tr style=\"text-align: right;\">\n",
       "      <th></th>\n",
       "      <th>Name</th>\n",
       "      <th>Platform</th>\n",
       "      <th>Genre</th>\n",
       "      <th>Publisher</th>\n",
       "      <th>NA_Sales</th>\n",
       "      <th>EU_Sales</th>\n",
       "      <th>JP_Sales</th>\n",
       "      <th>Other_Sales</th>\n",
       "      <th>Global_Sales</th>\n",
       "      <th>score_phrase</th>\n",
       "      <th>score</th>\n",
       "      <th>editors_choice</th>\n",
       "    </tr>\n",
       "    <tr>\n",
       "      <th>Date</th>\n",
       "      <th></th>\n",
       "      <th></th>\n",
       "      <th></th>\n",
       "      <th></th>\n",
       "      <th></th>\n",
       "      <th></th>\n",
       "      <th></th>\n",
       "      <th></th>\n",
       "      <th></th>\n",
       "      <th></th>\n",
       "      <th></th>\n",
       "      <th></th>\n",
       "    </tr>\n",
       "  </thead>\n",
       "  <tbody>\n",
       "    <tr>\n",
       "      <th>2006-11-13</th>\n",
       "      <td>Wii Sports</td>\n",
       "      <td>Wii</td>\n",
       "      <td>Sports</td>\n",
       "      <td>Nintendo</td>\n",
       "      <td>41.36</td>\n",
       "      <td>28.96</td>\n",
       "      <td>3.77</td>\n",
       "      <td>8.45</td>\n",
       "      <td>82.53</td>\n",
       "      <td>Good</td>\n",
       "      <td>7.5</td>\n",
       "      <td>N</td>\n",
       "    </tr>\n",
       "  </tbody>\n",
       "</table>\n",
       "</div>"
      ],
      "text/plain": [
       "                  Name Platform   Genre Publisher  NA_Sales  EU_Sales  \\\n",
       "Date                                                                    \n",
       "2006-11-13  Wii Sports      Wii  Sports  Nintendo     41.36     28.96   \n",
       "\n",
       "            JP_Sales  Other_Sales  Global_Sales score_phrase  score  \\\n",
       "Date                                                                  \n",
       "2006-11-13      3.77         8.45         82.53         Good    7.5   \n",
       "\n",
       "           editors_choice  \n",
       "Date                       \n",
       "2006-11-13              N  "
      ]
     },
     "execution_count": 34,
     "metadata": {},
     "output_type": "execute_result"
    }
   ],
   "source": [
    "# locate the highest sold game globally\n",
    "combined.loc[combined['Name'] == \"Wii Sports\"]"
   ]
  },
  {
   "cell_type": "markdown",
   "metadata": {},
   "source": [
    "We wanted to see do the top games always come out in November. As seen from our analyses above the best month to release a game was in November. Wii Sports is the number one game and does it match the best month to release a game ? Yes Wii sports was released in November. Lets check the top 5 games. "
   ]
  },
  {
   "cell_type": "code",
   "execution_count": 35,
   "metadata": {},
   "outputs": [
    {
     "data": {
      "text/html": [
       "<div>\n",
       "<style>\n",
       "    .dataframe thead tr:only-child th {\n",
       "        text-align: right;\n",
       "    }\n",
       "\n",
       "    .dataframe thead th {\n",
       "        text-align: left;\n",
       "    }\n",
       "\n",
       "    .dataframe tbody tr th {\n",
       "        vertical-align: top;\n",
       "    }\n",
       "</style>\n",
       "<table border=\"1\" class=\"dataframe\">\n",
       "  <thead>\n",
       "    <tr style=\"text-align: right;\">\n",
       "      <th></th>\n",
       "      <th>Name</th>\n",
       "      <th>Platform</th>\n",
       "      <th>Genre</th>\n",
       "      <th>Publisher</th>\n",
       "      <th>NA_Sales</th>\n",
       "      <th>EU_Sales</th>\n",
       "      <th>JP_Sales</th>\n",
       "      <th>Other_Sales</th>\n",
       "      <th>Global_Sales</th>\n",
       "      <th>score_phrase</th>\n",
       "      <th>score</th>\n",
       "      <th>editors_choice</th>\n",
       "    </tr>\n",
       "    <tr>\n",
       "      <th>Date</th>\n",
       "      <th></th>\n",
       "      <th></th>\n",
       "      <th></th>\n",
       "      <th></th>\n",
       "      <th></th>\n",
       "      <th></th>\n",
       "      <th></th>\n",
       "      <th></th>\n",
       "      <th></th>\n",
       "      <th></th>\n",
       "      <th></th>\n",
       "      <th></th>\n",
       "    </tr>\n",
       "  </thead>\n",
       "  <tbody>\n",
       "    <tr>\n",
       "      <th>2008-04-20</th>\n",
       "      <td>Mario Kart Wii</td>\n",
       "      <td>Wii</td>\n",
       "      <td>Racing</td>\n",
       "      <td>Nintendo</td>\n",
       "      <td>15.68</td>\n",
       "      <td>12.76</td>\n",
       "      <td>3.79</td>\n",
       "      <td>3.29</td>\n",
       "      <td>35.52</td>\n",
       "      <td>Great</td>\n",
       "      <td>8.5</td>\n",
       "      <td>Y</td>\n",
       "    </tr>\n",
       "  </tbody>\n",
       "</table>\n",
       "</div>"
      ],
      "text/plain": [
       "                      Name Platform   Genre Publisher  NA_Sales  EU_Sales  \\\n",
       "Date                                                                        \n",
       "2008-04-20  Mario Kart Wii      Wii  Racing  Nintendo     15.68     12.76   \n",
       "\n",
       "            JP_Sales  Other_Sales  Global_Sales score_phrase  score  \\\n",
       "Date                                                                  \n",
       "2008-04-20      3.79         3.29         35.52        Great    8.5   \n",
       "\n",
       "           editors_choice  \n",
       "Date                       \n",
       "2008-04-20              Y  "
      ]
     },
     "execution_count": 35,
     "metadata": {},
     "output_type": "execute_result"
    }
   ],
   "source": [
    "# looking through the dataset and locating a name that matches mario kart\n",
    "combined.loc[combined['Name'] == \"Mario Kart Wii\"]"
   ]
  },
  {
   "cell_type": "code",
   "execution_count": 36,
   "metadata": {},
   "outputs": [
    {
     "data": {
      "text/html": [
       "<div>\n",
       "<style>\n",
       "    .dataframe thead tr:only-child th {\n",
       "        text-align: right;\n",
       "    }\n",
       "\n",
       "    .dataframe thead th {\n",
       "        text-align: left;\n",
       "    }\n",
       "\n",
       "    .dataframe tbody tr th {\n",
       "        vertical-align: top;\n",
       "    }\n",
       "</style>\n",
       "<table border=\"1\" class=\"dataframe\">\n",
       "  <thead>\n",
       "    <tr style=\"text-align: right;\">\n",
       "      <th></th>\n",
       "      <th>Name</th>\n",
       "      <th>Platform</th>\n",
       "      <th>Genre</th>\n",
       "      <th>Publisher</th>\n",
       "      <th>NA_Sales</th>\n",
       "      <th>EU_Sales</th>\n",
       "      <th>JP_Sales</th>\n",
       "      <th>Other_Sales</th>\n",
       "      <th>Global_Sales</th>\n",
       "      <th>score_phrase</th>\n",
       "      <th>score</th>\n",
       "      <th>editors_choice</th>\n",
       "    </tr>\n",
       "    <tr>\n",
       "      <th>Date</th>\n",
       "      <th></th>\n",
       "      <th></th>\n",
       "      <th></th>\n",
       "      <th></th>\n",
       "      <th></th>\n",
       "      <th></th>\n",
       "      <th></th>\n",
       "      <th></th>\n",
       "      <th></th>\n",
       "      <th></th>\n",
       "      <th></th>\n",
       "      <th></th>\n",
       "    </tr>\n",
       "  </thead>\n",
       "  <tbody>\n",
       "    <tr>\n",
       "      <th>2009-07-16</th>\n",
       "      <td>Wii Sports Resort</td>\n",
       "      <td>Wii</td>\n",
       "      <td>Sports</td>\n",
       "      <td>Nintendo</td>\n",
       "      <td>15.61</td>\n",
       "      <td>10.93</td>\n",
       "      <td>3.28</td>\n",
       "      <td>2.95</td>\n",
       "      <td>32.77</td>\n",
       "      <td>Good</td>\n",
       "      <td>7.7</td>\n",
       "      <td>N</td>\n",
       "    </tr>\n",
       "  </tbody>\n",
       "</table>\n",
       "</div>"
      ],
      "text/plain": [
       "                         Name Platform   Genre Publisher  NA_Sales  EU_Sales  \\\n",
       "Date                                                                           \n",
       "2009-07-16  Wii Sports Resort      Wii  Sports  Nintendo     15.61     10.93   \n",
       "\n",
       "            JP_Sales  Other_Sales  Global_Sales score_phrase  score  \\\n",
       "Date                                                                  \n",
       "2009-07-16      3.28         2.95         32.77         Good    7.7   \n",
       "\n",
       "           editors_choice  \n",
       "Date                       \n",
       "2009-07-16              N  "
      ]
     },
     "execution_count": 36,
     "metadata": {},
     "output_type": "execute_result"
    }
   ],
   "source": [
    "# looking through the dataset and locating a name that matches wii sports resort \n",
    "combined.loc[combined['Name'] == \"Wii Sports Resort\"]"
   ]
  },
  {
   "cell_type": "code",
   "execution_count": 37,
   "metadata": {},
   "outputs": [
    {
     "data": {
      "text/html": [
       "<div>\n",
       "<style>\n",
       "    .dataframe thead tr:only-child th {\n",
       "        text-align: right;\n",
       "    }\n",
       "\n",
       "    .dataframe thead th {\n",
       "        text-align: left;\n",
       "    }\n",
       "\n",
       "    .dataframe tbody tr th {\n",
       "        vertical-align: top;\n",
       "    }\n",
       "</style>\n",
       "<table border=\"1\" class=\"dataframe\">\n",
       "  <thead>\n",
       "    <tr style=\"text-align: right;\">\n",
       "      <th></th>\n",
       "      <th>Name</th>\n",
       "      <th>Platform</th>\n",
       "      <th>Genre</th>\n",
       "      <th>Publisher</th>\n",
       "      <th>NA_Sales</th>\n",
       "      <th>EU_Sales</th>\n",
       "      <th>JP_Sales</th>\n",
       "      <th>Other_Sales</th>\n",
       "      <th>Global_Sales</th>\n",
       "      <th>score_phrase</th>\n",
       "      <th>score</th>\n",
       "      <th>editors_choice</th>\n",
       "    </tr>\n",
       "    <tr>\n",
       "      <th>Date</th>\n",
       "      <th></th>\n",
       "      <th></th>\n",
       "      <th></th>\n",
       "      <th></th>\n",
       "      <th></th>\n",
       "      <th></th>\n",
       "      <th></th>\n",
       "      <th></th>\n",
       "      <th></th>\n",
       "      <th></th>\n",
       "      <th></th>\n",
       "      <th></th>\n",
       "    </tr>\n",
       "  </thead>\n",
       "  <tbody>\n",
       "    <tr>\n",
       "      <th>2006-05-06</th>\n",
       "      <td>New Super Mario Bros.</td>\n",
       "      <td>DS</td>\n",
       "      <td>Platform</td>\n",
       "      <td>Nintendo</td>\n",
       "      <td>11.28</td>\n",
       "      <td>9.14</td>\n",
       "      <td>6.5</td>\n",
       "      <td>2.88</td>\n",
       "      <td>29.8</td>\n",
       "      <td>Amazing</td>\n",
       "      <td>9.5</td>\n",
       "      <td>Y</td>\n",
       "    </tr>\n",
       "  </tbody>\n",
       "</table>\n",
       "</div>"
      ],
      "text/plain": [
       "                             Name Platform     Genre Publisher  NA_Sales  \\\n",
       "Date                                                                       \n",
       "2006-05-06  New Super Mario Bros.       DS  Platform  Nintendo     11.28   \n",
       "\n",
       "            EU_Sales  JP_Sales  Other_Sales  Global_Sales score_phrase  score  \\\n",
       "Date                                                                            \n",
       "2006-05-06      9.14       6.5         2.88          29.8      Amazing    9.5   \n",
       "\n",
       "           editors_choice  \n",
       "Date                       \n",
       "2006-05-06              Y  "
      ]
     },
     "execution_count": 37,
     "metadata": {},
     "output_type": "execute_result"
    }
   ],
   "source": [
    "# looking through the dataset and locating a name that matches super mario bros and show the full row\n",
    "combined.loc[combined['Name'] == \"New Super Mario Bros.\"]"
   ]
  },
  {
   "cell_type": "code",
   "execution_count": 38,
   "metadata": {},
   "outputs": [
    {
     "data": {
      "text/html": [
       "<div>\n",
       "<style>\n",
       "    .dataframe thead tr:only-child th {\n",
       "        text-align: right;\n",
       "    }\n",
       "\n",
       "    .dataframe thead th {\n",
       "        text-align: left;\n",
       "    }\n",
       "\n",
       "    .dataframe tbody tr th {\n",
       "        vertical-align: top;\n",
       "    }\n",
       "</style>\n",
       "<table border=\"1\" class=\"dataframe\">\n",
       "  <thead>\n",
       "    <tr style=\"text-align: right;\">\n",
       "      <th></th>\n",
       "      <th>Name</th>\n",
       "      <th>Platform</th>\n",
       "      <th>Genre</th>\n",
       "      <th>Publisher</th>\n",
       "      <th>NA_Sales</th>\n",
       "      <th>EU_Sales</th>\n",
       "      <th>JP_Sales</th>\n",
       "      <th>Other_Sales</th>\n",
       "      <th>Global_Sales</th>\n",
       "      <th>score_phrase</th>\n",
       "      <th>score</th>\n",
       "      <th>editors_choice</th>\n",
       "    </tr>\n",
       "    <tr>\n",
       "      <th>Date</th>\n",
       "      <th></th>\n",
       "      <th></th>\n",
       "      <th></th>\n",
       "      <th></th>\n",
       "      <th></th>\n",
       "      <th></th>\n",
       "      <th></th>\n",
       "      <th></th>\n",
       "      <th></th>\n",
       "      <th></th>\n",
       "      <th></th>\n",
       "      <th></th>\n",
       "    </tr>\n",
       "  </thead>\n",
       "  <tbody>\n",
       "    <tr>\n",
       "      <th>2009-11-13</th>\n",
       "      <td>New Super Mario Bros. Wii</td>\n",
       "      <td>Wii</td>\n",
       "      <td>Platform</td>\n",
       "      <td>Nintendo</td>\n",
       "      <td>14.44</td>\n",
       "      <td>6.94</td>\n",
       "      <td>4.7</td>\n",
       "      <td>2.24</td>\n",
       "      <td>28.32</td>\n",
       "      <td>Great</td>\n",
       "      <td>8.9</td>\n",
       "      <td>Y</td>\n",
       "    </tr>\n",
       "  </tbody>\n",
       "</table>\n",
       "</div>"
      ],
      "text/plain": [
       "                                 Name Platform     Genre Publisher  NA_Sales  \\\n",
       "Date                                                                           \n",
       "2009-11-13  New Super Mario Bros. Wii      Wii  Platform  Nintendo     14.44   \n",
       "\n",
       "            EU_Sales  JP_Sales  Other_Sales  Global_Sales score_phrase  score  \\\n",
       "Date                                                                            \n",
       "2009-11-13      6.94       4.7         2.24         28.32        Great    8.9   \n",
       "\n",
       "           editors_choice  \n",
       "Date                       \n",
       "2009-11-13              Y  "
      ]
     },
     "execution_count": 38,
     "metadata": {},
     "output_type": "execute_result"
    }
   ],
   "source": [
    "# looking through the dataset and locating a name that matches new super mario bros wii and return the row \n",
    "combined.loc[combined['Name'] == \"New Super Mario Bros. Wii\"]"
   ]
  },
  {
   "cell_type": "markdown",
   "metadata": {},
   "source": [
    "As we can see from the searches above , we have searched the top 5 games that were sold globally. What we wanted to visualise was does the highest release month match with the highest sold game. What we mean by this are the top 5 games always released in the highest sales month which is November ? As we can see only 2/5 games are released in November. The others are released across different months. "
   ]
  },
  {
   "cell_type": "markdown",
   "metadata": {},
   "source": [
    "### Scores"
   ]
  },
  {
   "cell_type": "markdown",
   "metadata": {},
   "source": [
    "### Correlation between Global sales and monthly scores "
   ]
  },
  {
   "cell_type": "markdown",
   "metadata": {},
   "source": [
    "We will check the correlation between the global monthly sales vs the monthly scores. We expect there will be a a positive correlation as it is expected that the more games released per month the higher the scores will be. The correlation will be a postive and should indicate a value close to 1. "
   ]
  },
  {
   "cell_type": "code",
   "execution_count": 39,
   "metadata": {
    "collapsed": true
   },
   "outputs": [],
   "source": [
    "# store the sum of scores for each month in d\n",
    "d = combined.groupby(combined.index.strftime('%B'))['score'].sum()\n",
    "# store the sum of global sales for each month in w\n",
    "w = combined.groupby(combined.index.strftime('%B'))['Global_Sales'].sum()"
   ]
  },
  {
   "cell_type": "code",
   "execution_count": 40,
   "metadata": {},
   "outputs": [
    {
     "data": {
      "text/plain": [
       "array([[ 1.        ,  0.95027668],\n",
       "       [ 0.95027668,  1.        ]])"
      ]
     },
     "execution_count": 40,
     "metadata": {},
     "output_type": "execute_result"
    }
   ],
   "source": [
    "# use np.corrcoef to find the correlation between monthy scores and monthly sales\n",
    "np.corrcoef(w,d)"
   ]
  },
  {
   "cell_type": "markdown",
   "metadata": {},
   "source": [
    "The correlation is 0.9503, which is a strong positive correlation. This means that the more games sold globally the more scores there wil be. The scatter plot below demonstrates this on a monthly basis."
   ]
  },
  {
   "cell_type": "code",
   "execution_count": 41,
   "metadata": {},
   "outputs": [
    {
     "data": {
      "image/png": "[encoded data removed]",
      "text/plain": [
       "<matplotlib.figure.Figure at 0x1ee428f4fd0>"
      ]
     },
     "metadata": {},
     "output_type": "display_data"
    }
   ],
   "source": [
    "# plot a scatter plot to show correlation\n",
    "plt.scatter(w,d)\n",
    "plt.title('Monthly Sales vs Monthly Scores',size=12)\n",
    "plt.ylabel('Sum of Sales per month')\n",
    "plt.xlabel('Sum of Monthly scores')\n",
    "plt.show()"
   ]
  },
  {
   "cell_type": "markdown",
   "metadata": {},
   "source": [
    "### Correlation between Yearly scores and Yearly Sales"
   ]
  },
  {
   "cell_type": "markdown",
   "metadata": {},
   "source": [
    "Lets check the correlation between yearly scores and the yearly sales. The expected outcome is that the more games that are released per month the more scores there should be. The expected correlation should be positive as it makes sense that the more games released by year increases the score counts by year. "
   ]
  },
  {
   "cell_type": "code",
   "execution_count": 42,
   "metadata": {
    "collapsed": true
   },
   "outputs": [],
   "source": [
    "# yearly scores sum stored in q\n",
    "q = combined.groupby(combined.index.strftime('%Y'))['score'].sum()\n",
    "# yearly global sales stored in f\n",
    "f = combined.groupby(combined.index.strftime('%Y'))['Global_Sales'].sum()\n"
   ]
  },
  {
   "cell_type": "code",
   "execution_count": 43,
   "metadata": {},
   "outputs": [
    {
     "data": {
      "text/plain": [
       "array([[ 1.        ,  0.89826326],\n",
       "       [ 0.89826326,  1.        ]])"
      ]
     },
     "execution_count": 43,
     "metadata": {},
     "output_type": "execute_result"
    }
   ],
   "source": [
    "# use np.corrcoef to find the correlation between yearly scores and yearly sales\n",
    "np.corrcoef(f,q)"
   ]
  },
  {
   "cell_type": "markdown",
   "metadata": {},
   "source": [
    "So now we used strftime to convert the index to a Year string and find the sum of the scores and the sum of the global sales per year. As seen above we use np.corrcoef to find the correlation matrix. We are finding the correltion matrix between global sales vs the scores by year. We will then plot the results of the findings below. We are plotting the global sales sum with the scores sum. Yearly sales will be on the Y axis and the scores on the X axis. As we can see below the graph is pretty linear meaning there is a correlation. "
   ]
  },
  {
   "cell_type": "code",
   "execution_count": 44,
   "metadata": {
    "collapsed": true
   },
   "outputs": [],
   "source": [
    "# pre define the colours that are going to be used on the scatter plot\n",
    "colors = (\"red\",\"green\")"
   ]
  },
  {
   "cell_type": "code",
   "execution_count": 45,
   "metadata": {},
   "outputs": [
    {
     "data": {
      "image/png": "[encoded data removed]",
      "text/plain": [
       "<matplotlib.figure.Figure at 0x1ee42925080>"
      ]
     },
     "metadata": {},
     "output_type": "display_data"
    }
   ],
   "source": [
    "# plot the scatter plot and use the pre defined colours to plot\n",
    "plt.scatter(f,q,  c=colors )\n",
    "plt.title('Global yearly sales vs Scores')\n",
    "plt.xlabel('scores')\n",
    "plt.ylabel('Yearly Sales')\n",
    "plt.show()"
   ]
  },
  {
   "cell_type": "markdown",
   "metadata": {},
   "source": [
    "### Correlation between Games made vs Sales"
   ]
  },
  {
   "cell_type": "markdown",
   "metadata": {},
   "source": [
    "So far we have found a correlation between global sales and the yearly scores. What we want to analyse and visualise now is if there is a correlation between the games made by year vs the sales made by year. The obvious result is that the more games there is made per year the more sales there will be. The expected correlation should be positive because the more games made the higher the sales should be. "
   ]
  },
  {
   "cell_type": "code",
   "execution_count": 46,
   "metadata": {
    "collapsed": true
   },
   "outputs": [],
   "source": [
    "# count the number of game released per year\n",
    "g = combined.groupby(combined.index.strftime('%Y'))['Genre'].count()\n"
   ]
  },
  {
   "cell_type": "code",
   "execution_count": 47,
   "metadata": {
    "collapsed": true
   },
   "outputs": [],
   "source": [
    "# sum the global sales for a yearly basis\n",
    "s = combined.groupby(combined.index.strftime('%Y'))['Global_Sales'].sum()\n"
   ]
  },
  {
   "cell_type": "code",
   "execution_count": 48,
   "metadata": {},
   "outputs": [
    {
     "data": {
      "text/plain": [
       "array([[ 1.        ,  0.91084335],\n",
       "       [ 0.91084335,  1.        ]])"
      ]
     },
     "execution_count": 48,
     "metadata": {},
     "output_type": "execute_result"
    }
   ],
   "source": [
    "# again use np.corrcoef to find the correlation between games made and the global sales\n",
    "np.corrcoef(s,g)"
   ]
  },
  {
   "cell_type": "markdown",
   "metadata": {},
   "source": [
    "Again there is a strong positive correlation meaning that the more games released per year the more sales there are. The correlation is at 0.91 meaning that the more games released the higher the sales which is expected. Once again we used strftime to count the number of games released by year then we used it again to find the total global sales by year. Yearly sales in terms of millions is on the Y axis and games by year is on the X axis."
   ]
  },
  {
   "cell_type": "code",
   "execution_count": 49,
   "metadata": {
    "collapsed": true
   },
   "outputs": [],
   "source": [
    "# pre define the colours need to be used \n",
    "color = (\"yellow\",\"blue\")"
   ]
  },
  {
   "cell_type": "code",
   "execution_count": 50,
   "metadata": {},
   "outputs": [
    {
     "data": {
      "image/png": "[encoded data removed]",
      "text/plain": [
       "<matplotlib.figure.Figure at 0x1ee42c0a8d0>"
      ]
     },
     "metadata": {},
     "output_type": "display_data"
    }
   ],
   "source": [
    "# plot a scatter plot of the correlation and use the pre defined colours\n",
    "plt.scatter(g,s,  c=color )\n",
    "plt.title('Global yearly sales vs Games made per year')\n",
    "plt.xlabel('Games per Year')\n",
    "plt.ylabel('Yearly Sales')\n",
    "plt.show()"
   ]
  },
  {
   "cell_type": "code",
   "execution_count": null,
   "metadata": {
    "collapsed": true
   },
   "outputs": [],
   "source": [
    "import types\n",
    "def imports():\n",
    "    for name, val in globals().items():\n",
    "        if isinstance(val, types.ModuleType):\n",
    "            yield val.__name__\n",
    "list(imports())"
   ]
  }
 ],
 "metadata": {
  "kernelspec": {
   "display_name": "Python 3",
   "language": "python",
   "name": "python3"
  },
  "language_info": {
   "codemirror_mode": {
    "name": "ipython",
    "version": 3
   },
   "file_extension": ".py",
   "mimetype": "text/x-python",
   "name": "python",
   "nbconvert_exporter": "python",
   "pygments_lexer": "ipython3",
   "version": "3.6.4"
  }
 },
 "nbformat": 4,
 "nbformat_minor": 2
}
