{
 "cells": [
  {
   "cell_type": "markdown",
   "metadata": {},
   "source": [
    "# 100_Analysis_Golden_Year"
   ]
  },
  {
   "cell_type": "markdown",
   "metadata": {},
   "source": [
    "## Purpose"
   ]
  },
  {
   "cell_type": "markdown",
   "metadata": {},
   "source": [
    "In this notebook we will begin the analyses of our first research question which is \"What was the golden year for the industry in terms of release numbers and overall sales, both globally and in the separate regions\". \n",
    "- Analyse the number of games released per year \n",
    "- Analyse number of genres per year \n",
    "- Highest sold game in each genre\n",
    "- Numeric scores \n",
    "- Score phrase\n",
    "- Avg rating per year \n"
   ]
  },
  {
   "cell_type": "markdown",
   "metadata": {},
   "source": [
    "### Datasets "
   ]
  },
  {
   "cell_type": "markdown",
   "metadata": {},
   "source": [
    "- Input : Clean_Combined.pkl && Clean_Game_Sales_Total.pkl\n",
    "- Output : 100_Golden_Year.pkl"
   ]
  },
  {
   "cell_type": "code",
   "execution_count": 1,
   "metadata": {},
   "outputs": [],
   "source": [
    "import os \n",
    "import sys\n",
    "import pandas as pd\n",
    "import numpy as np \n",
    "import hashlib \n",
    "import matplotlib.pylab as plt\n",
    "import seaborn as sns\n",
    "\n",
    "%matplotlib inline "
   ]
  },
  {
   "cell_type": "code",
   "execution_count": 2,
   "metadata": {
    "collapsed": true
   },
   "outputs": [],
   "source": [
    "# Matplot lib configuation for the drawings of our graphs that we are going to use\n",
    "sns.set_style(\"whitegrid\")\n",
    "sns.set_style(\"ticks\")\n",
    "sns.set_palette(\"muted\")\n",
    "sns.set_context(\"poster\")\n",
    "\n",
    "# Text, linees, and markers...\n",
    "plt.rcParams['text.color'] = 'k'\n",
    "plt.rcParams['axes.labelcolor'] = 'k'\n",
    "\n",
    "plt.rcParams['axes.titlesize'] = 28\n",
    "plt.rcParams['axes.titleweight'] = 'bold'\n",
    "plt.rcParams['axes.labelsize'] = 28\n",
    "plt.rcParams['axes.labelweight'] = 'bold'\n",
    "\n",
    "plt.rcParams['xtick.labelsize'] = 15\n",
    "plt.rcParams['ytick.labelsize'] = 15\n",
    "\n",
    "plt.rcParams['axes.grid'] = True\n",
    "\n",
    "plt.rcParams['lines.markersize'] = 15\n",
    "plt.rcParams['lines.markeredgewidth'] = 1\n",
    "plt.rcParams['lines.linewidth'] = 2\n",
    "\n",
    "plt.rcParams['legend.fontsize'] = 22\n",
    "\n",
    "fig_size = plt.rcParams[\"figure.figsize\"]\n",
    "fig_size[0] = 20\n",
    "fig_size[1] = 10\n",
    "plt.rcParams[\"figure.figsize\"] = fig_size"
   ]
  },
  {
   "cell_type": "code",
   "execution_count": 3,
   "metadata": {
    "collapsed": true
   },
   "outputs": [],
   "source": [
    "# Check the path exists for the two datasets we need, if not print an error message \n",
    "if not os.path.exists(\"../../data/prep/Clean_Combined.pkl\"):\n",
    "    print(\"Missing Dataset File\")\n"
   ]
  },
  {
   "cell_type": "code",
   "execution_count": 4,
   "metadata": {
    "collapsed": true
   },
   "outputs": [],
   "source": [
    "# Check the path exists for the datasets we need otherwise an error message is produced\n",
    "if not os.path.exists(\"../../data/prep/Clean_Games_Sales_Total.pkl\"):\n",
    "    print(\"Missing Dataset File\")"
   ]
  },
  {
   "cell_type": "markdown",
   "metadata": {},
   "source": [
    "## Analysis "
   ]
  },
  {
   "cell_type": "markdown",
   "metadata": {},
   "source": [
    "### Golden Year Industry "
   ]
  },
  {
   "cell_type": "markdown",
   "metadata": {},
   "source": [
    "We want to analyse the golden year in the indusry section. What we mean by this is we want to analyse what was the best year for developers. Which years had the highest ratings , and the number of games that were sold by each develope globally and also in each separate region. We will also analyse the golden years in terms of the gamers perspective. We will analyse the number of games released for the gamer to be able to play on. "
   ]
  },
  {
   "cell_type": "code",
   "execution_count": 5,
   "metadata": {},
   "outputs": [
    {
     "data": {
      "text/plain": [
       "(6434, 12)"
      ]
     },
     "execution_count": 5,
     "metadata": {},
     "output_type": "execute_result"
    }
   ],
   "source": [
    "# store the combined dataset in combined_data , check it loads correctly by using .shape\n",
    "combined_data = pd.read_pickle(\"../../data/prep/Clean_Combined.pkl\")\n",
    "combined_data.shape"
   ]
  },
  {
   "cell_type": "code",
   "execution_count": 6,
   "metadata": {},
   "outputs": [
    {
     "data": {
      "text/plain": [
       "(16444, 11)"
      ]
     },
     "execution_count": 6,
     "metadata": {},
     "output_type": "execute_result"
    }
   ],
   "source": [
    "# Store the clean game sales total in sales, check if it is loaded in correctly using .shape to get the number of columns and rows. \n",
    "sales = pd.read_pickle(\"../../data/prep/Clean_Games_Sales_Total.pkl\")\n",
    "sales.shape"
   ]
  },
  {
   "cell_type": "markdown",
   "metadata": {},
   "source": [
    "Now that all of the data is loaded in we can begin the first part of the analyses of this research question. We will begin the analysing of higest ratings and the year from the combined_data as this is our original IGN and all time game sales combined together containing the ratings for each game. "
   ]
  },
  {
   "cell_type": "code",
   "execution_count": 7,
   "metadata": {},
   "outputs": [
    {
     "data": {
      "text/plain": [
       "Year_of_Release\n",
       "1980.0       9\n",
       "1981.0      46\n",
       "1982.0      36\n",
       "1983.0      17\n",
       "1984.0      14\n",
       "1985.0      14\n",
       "1986.0      21\n",
       "1987.0      16\n",
       "1988.0      15\n",
       "1989.0      17\n",
       "1990.0      16\n",
       "1991.0      40\n",
       "1992.0      41\n",
       "1993.0      59\n",
       "1994.0     117\n",
       "1995.0     215\n",
       "1996.0     258\n",
       "1997.0     282\n",
       "1998.0     364\n",
       "1999.0     326\n",
       "2000.0     325\n",
       "2001.0     428\n",
       "2002.0     631\n",
       "2003.0     546\n",
       "2004.0     550\n",
       "2005.0     657\n",
       "2006.0     773\n",
       "2007.0     884\n",
       "2008.0    1039\n",
       "2009.0    1001\n",
       "2010.0     900\n",
       "2011.0     779\n",
       "2012.0     446\n",
       "2013.0     335\n",
       "2014.0     319\n",
       "2015.0     362\n",
       "2016.0     297\n",
       "Name: Name, dtype: int64"
      ]
     },
     "execution_count": 7,
     "metadata": {},
     "output_type": "execute_result"
    }
   ],
   "source": [
    "# Group the year of release with name and look for non unique values. This shows the number of games released per year\n",
    "videogame_by_year = sales.groupby('Year_of_Release')['Name'].nunique()\n",
    "videogame_by_year"
   ]
  },
  {
   "cell_type": "code",
   "execution_count": 8,
   "metadata": {},
   "outputs": [
    {
     "data": {
      "text/plain": [
       "2008.0"
      ]
     },
     "execution_count": 8,
     "metadata": {},
     "output_type": "execute_result"
    }
   ],
   "source": [
    "# Find the maximum value of the video_game_by_year, 2008 is the highest \n",
    "videogame_by_year.argmax()"
   ]
  },
  {
   "cell_type": "code",
   "execution_count": 9,
   "metadata": {},
   "outputs": [
    {
     "data": {
      "text/plain": [
       "Text(0,0.5,'Number of Releases')"
      ]
     },
     "execution_count": 9,
     "metadata": {},
     "output_type": "execute_result"
    },
    {
     "data": {
      "image/png": "[encoded data removed]",
      "text/plain": [
       "<matplotlib.figure.Figure at 0x19ca1870e80>"
      ]
     },
     "metadata": {},
     "output_type": "display_data"
    }
   ],
   "source": [
    "# Plotting the unique games per year on a bar chart \n",
    "ax = videogame_by_year.plot(kind='bar', title=\"Unique games per year\", figsize=(20,10))\n",
    "ax.set_title('Number Of Unique games per years', size=30)\n",
    "# size set to 30 for consistency\n",
    "ax.set_xlabel(\"Years\", size=30)\n",
    "ax.set_ylabel(\"Number of Releases\",size=30)"
   ]
  },
  {
   "cell_type": "markdown",
   "metadata": {},
   "source": [
    "As seen from the graph above the highest year for video game release was in 2008 followed by 2009. So the Best year to release a video game globally was 2008. Is this always the case ? We will also analyse the separate regions to see if this trend maintains across each region. "
   ]
  },
  {
   "cell_type": "markdown",
   "metadata": {},
   "source": [
    "### Highest Genre Category"
   ]
  },
  {
   "cell_type": "markdown",
   "metadata": {},
   "source": [
    "Lets check to see what the highest genre category overall is. This will help us see which genre releases the most amount of games. As seen below the action Genre is the highest releasing category. "
   ]
  },
  {
   "cell_type": "code",
   "execution_count": 10,
   "metadata": {},
   "outputs": [
    {
     "data": {
      "text/plain": [
       "Genre\n",
       "Action          3307\n",
       "Adventure       1293\n",
       "Fighting         837\n",
       "Misc            1721\n",
       "Platform         878\n",
       "Puzzle           569\n",
       "Racing          1226\n",
       "Role-Playing    1481\n",
       "Shooter         1296\n",
       "Simulation       857\n",
       "Sports          2306\n",
       "Strategy         673\n",
       "Name: Year_of_Release, dtype: int64"
      ]
     },
     "execution_count": 10,
     "metadata": {},
     "output_type": "execute_result"
    }
   ],
   "source": [
    "# genre_by_year = sales.groupby(['Genre', 'Year_of_Release'])['Year_of_Release'].count()\n",
    "# genre_by_year\n",
    "\n",
    "# grouping the amount of genres released across the 30 years and counting them\n",
    "genre_by_year = sales.groupby(['Genre'])['Year_of_Release'].count()\n",
    "genre_by_year"
   ]
  },
  {
   "cell_type": "markdown",
   "metadata": {},
   "source": [
    "As we can see above is the count for all the genre categories that got released. The highest released genre categories are Action, Misc, Adventure , Role-Playing, Sports, Shooter. These are the genre categories with the highest releases. "
   ]
  },
  {
   "cell_type": "markdown",
   "metadata": {},
   "source": [
    "### Sales "
   ]
  },
  {
   "cell_type": "markdown",
   "metadata": {},
   "source": [
    "I would like to analyse the sales now for each region and also for the global overall sales. Lets begin the analyses of global sales first. First lets analyse the number of sales of each genre globally. I will filter the value of the sales to be over 25.00 million so that the list is shorter and shows the top games only. This will give me the highest sales for the global sales. "
   ]
  },
  {
   "cell_type": "code",
   "execution_count": 11,
   "metadata": {},
   "outputs": [
    {
     "data": {
      "text/html": [
       "<div>\n",
       "<style>\n",
       "    .dataframe thead tr:only-child th {\n",
       "        text-align: right;\n",
       "    }\n",
       "\n",
       "    .dataframe thead th {\n",
       "        text-align: left;\n",
       "    }\n",
       "\n",
       "    .dataframe tbody tr th {\n",
       "        vertical-align: top;\n",
       "    }\n",
       "</style>\n",
       "<table border=\"1\" class=\"dataframe\">\n",
       "  <thead>\n",
       "    <tr style=\"text-align: right;\">\n",
       "      <th></th>\n",
       "      <th>Name</th>\n",
       "      <th>Platform</th>\n",
       "      <th>Year_of_Release</th>\n",
       "      <th>Genre</th>\n",
       "      <th>Publisher</th>\n",
       "      <th>NA_Sales</th>\n",
       "      <th>EU_Sales</th>\n",
       "      <th>JP_Sales</th>\n",
       "      <th>Other_Sales</th>\n",
       "      <th>Global_Sales</th>\n",
       "      <th>Developer</th>\n",
       "    </tr>\n",
       "  </thead>\n",
       "  <tbody>\n",
       "    <tr>\n",
       "      <th>0</th>\n",
       "      <td>Wii Sports</td>\n",
       "      <td>Wii</td>\n",
       "      <td>2006.0</td>\n",
       "      <td>Sports</td>\n",
       "      <td>Nintendo</td>\n",
       "      <td>41.36</td>\n",
       "      <td>28.96</td>\n",
       "      <td>3.77</td>\n",
       "      <td>8.45</td>\n",
       "      <td>82.53</td>\n",
       "      <td>Nintendo</td>\n",
       "    </tr>\n",
       "    <tr>\n",
       "      <th>1</th>\n",
       "      <td>Super Mario Bros.</td>\n",
       "      <td>NES</td>\n",
       "      <td>1985.0</td>\n",
       "      <td>Platform</td>\n",
       "      <td>Nintendo</td>\n",
       "      <td>29.08</td>\n",
       "      <td>3.58</td>\n",
       "      <td>6.81</td>\n",
       "      <td>0.77</td>\n",
       "      <td>40.24</td>\n",
       "      <td>NaN</td>\n",
       "    </tr>\n",
       "    <tr>\n",
       "      <th>2</th>\n",
       "      <td>Mario Kart Wii</td>\n",
       "      <td>Wii</td>\n",
       "      <td>2008.0</td>\n",
       "      <td>Racing</td>\n",
       "      <td>Nintendo</td>\n",
       "      <td>15.68</td>\n",
       "      <td>12.76</td>\n",
       "      <td>3.79</td>\n",
       "      <td>3.29</td>\n",
       "      <td>35.52</td>\n",
       "      <td>Nintendo</td>\n",
       "    </tr>\n",
       "    <tr>\n",
       "      <th>3</th>\n",
       "      <td>Wii Sports Resort</td>\n",
       "      <td>Wii</td>\n",
       "      <td>2009.0</td>\n",
       "      <td>Sports</td>\n",
       "      <td>Nintendo</td>\n",
       "      <td>15.61</td>\n",
       "      <td>10.93</td>\n",
       "      <td>3.28</td>\n",
       "      <td>2.95</td>\n",
       "      <td>32.77</td>\n",
       "      <td>Nintendo</td>\n",
       "    </tr>\n",
       "    <tr>\n",
       "      <th>4</th>\n",
       "      <td>Pokemon Red/Pokemon Blue</td>\n",
       "      <td>GB</td>\n",
       "      <td>1996.0</td>\n",
       "      <td>Role-Playing</td>\n",
       "      <td>Nintendo</td>\n",
       "      <td>11.27</td>\n",
       "      <td>8.89</td>\n",
       "      <td>10.22</td>\n",
       "      <td>1.00</td>\n",
       "      <td>31.37</td>\n",
       "      <td>NaN</td>\n",
       "    </tr>\n",
       "    <tr>\n",
       "      <th>5</th>\n",
       "      <td>Tetris</td>\n",
       "      <td>GB</td>\n",
       "      <td>1989.0</td>\n",
       "      <td>Puzzle</td>\n",
       "      <td>Nintendo</td>\n",
       "      <td>23.20</td>\n",
       "      <td>2.26</td>\n",
       "      <td>4.22</td>\n",
       "      <td>0.58</td>\n",
       "      <td>30.26</td>\n",
       "      <td>NaN</td>\n",
       "    </tr>\n",
       "    <tr>\n",
       "      <th>6</th>\n",
       "      <td>New Super Mario Bros.</td>\n",
       "      <td>DS</td>\n",
       "      <td>2006.0</td>\n",
       "      <td>Platform</td>\n",
       "      <td>Nintendo</td>\n",
       "      <td>11.28</td>\n",
       "      <td>9.14</td>\n",
       "      <td>6.50</td>\n",
       "      <td>2.88</td>\n",
       "      <td>29.80</td>\n",
       "      <td>Nintendo</td>\n",
       "    </tr>\n",
       "    <tr>\n",
       "      <th>7</th>\n",
       "      <td>Wii Play</td>\n",
       "      <td>Wii</td>\n",
       "      <td>2006.0</td>\n",
       "      <td>Misc</td>\n",
       "      <td>Nintendo</td>\n",
       "      <td>13.96</td>\n",
       "      <td>9.18</td>\n",
       "      <td>2.93</td>\n",
       "      <td>2.84</td>\n",
       "      <td>28.92</td>\n",
       "      <td>Nintendo</td>\n",
       "    </tr>\n",
       "    <tr>\n",
       "      <th>8</th>\n",
       "      <td>New Super Mario Bros. Wii</td>\n",
       "      <td>Wii</td>\n",
       "      <td>2009.0</td>\n",
       "      <td>Platform</td>\n",
       "      <td>Nintendo</td>\n",
       "      <td>14.44</td>\n",
       "      <td>6.94</td>\n",
       "      <td>4.70</td>\n",
       "      <td>2.24</td>\n",
       "      <td>28.32</td>\n",
       "      <td>Nintendo</td>\n",
       "    </tr>\n",
       "    <tr>\n",
       "      <th>9</th>\n",
       "      <td>Duck Hunt</td>\n",
       "      <td>NES</td>\n",
       "      <td>1984.0</td>\n",
       "      <td>Shooter</td>\n",
       "      <td>Nintendo</td>\n",
       "      <td>26.93</td>\n",
       "      <td>0.63</td>\n",
       "      <td>0.28</td>\n",
       "      <td>0.47</td>\n",
       "      <td>28.31</td>\n",
       "      <td>NaN</td>\n",
       "    </tr>\n",
       "  </tbody>\n",
       "</table>\n",
       "</div>"
      ],
      "text/plain": [
       "                        Name Platform  Year_of_Release         Genre  \\\n",
       "0                 Wii Sports      Wii           2006.0        Sports   \n",
       "1          Super Mario Bros.      NES           1985.0      Platform   \n",
       "2             Mario Kart Wii      Wii           2008.0        Racing   \n",
       "3          Wii Sports Resort      Wii           2009.0        Sports   \n",
       "4   Pokemon Red/Pokemon Blue       GB           1996.0  Role-Playing   \n",
       "5                     Tetris       GB           1989.0        Puzzle   \n",
       "6      New Super Mario Bros.       DS           2006.0      Platform   \n",
       "7                   Wii Play      Wii           2006.0          Misc   \n",
       "8  New Super Mario Bros. Wii      Wii           2009.0      Platform   \n",
       "9                  Duck Hunt      NES           1984.0       Shooter   \n",
       "\n",
       "  Publisher  NA_Sales  EU_Sales  JP_Sales  Other_Sales  Global_Sales Developer  \n",
       "0  Nintendo     41.36     28.96      3.77         8.45         82.53  Nintendo  \n",
       "1  Nintendo     29.08      3.58      6.81         0.77         40.24       NaN  \n",
       "2  Nintendo     15.68     12.76      3.79         3.29         35.52  Nintendo  \n",
       "3  Nintendo     15.61     10.93      3.28         2.95         32.77  Nintendo  \n",
       "4  Nintendo     11.27      8.89     10.22         1.00         31.37       NaN  \n",
       "5  Nintendo     23.20      2.26      4.22         0.58         30.26       NaN  \n",
       "6  Nintendo     11.28      9.14      6.50         2.88         29.80  Nintendo  \n",
       "7  Nintendo     13.96      9.18      2.93         2.84         28.92  Nintendo  \n",
       "8  Nintendo     14.44      6.94      4.70         2.24         28.32  Nintendo  \n",
       "9  Nintendo     26.93      0.63      0.28         0.47         28.31       NaN  "
      ]
     },
     "execution_count": 11,
     "metadata": {},
     "output_type": "execute_result"
    }
   ],
   "source": [
    "# sales_by_year = sales.groupby(['Global_Sales', 'Genre'])['Genre'].agg(['count'])\n",
    "# total = sales_by_year.groupby('Global_Sales').size()\n",
    "# total\n",
    "\n",
    "# Only list sales for the Global sales that are higher than 25 million to filter the top games sold globally. \n",
    "sales22 =  sales[sales['Global_Sales'] >= 25.00]\n",
    "sales22"
   ]
  },
  {
   "cell_type": "markdown",
   "metadata": {},
   "source": [
    "We will now group the new dataframe which filters the sales of over 25 million. We will use a groupby function to groupby the name and the global sales so we can see which game performed best globally. Wii sports and Super Mario Bros performed best globally. We will compare this to see if this is the case across all regions"
   ]
  },
  {
   "cell_type": "code",
   "execution_count": 12,
   "metadata": {},
   "outputs": [
    {
     "data": {
      "text/plain": [
       "Name\n",
       "Duck Hunt                    28.31\n",
       "Mario Kart Wii               35.52\n",
       "New Super Mario Bros.        29.80\n",
       "New Super Mario Bros. Wii    28.32\n",
       "Pokemon Red/Pokemon Blue     31.37\n",
       "Super Mario Bros.            40.24\n",
       "Tetris                       30.26\n",
       "Wii Play                     28.92\n",
       "Wii Sports                   82.53\n",
       "Wii Sports Resort            32.77\n",
       "Name: Global_Sales, dtype: float64"
      ]
     },
     "execution_count": 12,
     "metadata": {},
     "output_type": "execute_result"
    }
   ],
   "source": [
    "# Find the names of the games that had a higher sales sum greater than 25 million. \n",
    "test = sales22.groupby(['Name'])['Global_Sales'].sum()\n",
    "test"
   ]
  },
  {
   "cell_type": "code",
   "execution_count": 13,
   "metadata": {},
   "outputs": [
    {
     "data": {
      "text/plain": [
       "Text(0.5,1,'Highest Global Sale Game Names')"
      ]
     },
     "execution_count": 13,
     "metadata": {},
     "output_type": "execute_result"
    },
    {
     "data": {
      "image/png": "[encoded data removed]",
      "text/plain": [
       "<matplotlib.figure.Figure at 0x19ca203b710>"
      ]
     },
     "metadata": {},
     "output_type": "display_data"
    }
   ],
   "source": [
    "# Plot the best sold games globally on a bar chart\n",
    "ax = test.plot(kind='bar', figsize=(20,10))\n",
    "ax.set_xlabel(\"Game Name\", size=30)\n",
    "ax.set_ylabel(\"Sale Figure\", size=30)\n",
    "ax.set_title(\"Highest Global Sale Game Names\", size=30)\n"
   ]
  },
  {
   "cell_type": "markdown",
   "metadata": {},
   "source": [
    "Lets Analyse the region sales. We will begin with the EU Sales. As seen below the highest game for the EU Sales is WII Sports followed by Mario Kart Wii. Our aim is to see if the number 1 game globally performs best across each region or do they vary. The Eu Sales are smaller than those of global sales so we will only take into consideration games that sold more than 7 million copies worth."
   ]
  },
  {
   "cell_type": "code",
   "execution_count": 14,
   "metadata": {
    "collapsed": true
   },
   "outputs": [],
   "source": [
    "# Filter European sales that have higher than 7 million sales\n",
    "sales1 =  sales[sales['EU_Sales'] >= 7.00]"
   ]
  },
  {
   "cell_type": "code",
   "execution_count": 15,
   "metadata": {},
   "outputs": [
    {
     "data": {
      "text/plain": [
       "Name\n",
       "Brain Age: Train Your Brain in Minutes a Day     9.20\n",
       "Grand Theft Auto V                               9.09\n",
       "Mario Kart DS                                    7.47\n",
       "Mario Kart Wii                                  12.76\n",
       "New Super Mario Bros.                            9.14\n",
       "Nintendogs                                      10.95\n",
       "Pokemon Red/Pokemon Blue                         8.89\n",
       "Wii Fit                                          8.03\n",
       "Wii Fit Plus                                     8.49\n",
       "Wii Play                                         9.18\n",
       "Wii Sports                                      28.96\n",
       "Wii Sports Resort                               10.93\n",
       "Name: EU_Sales, dtype: float64"
      ]
     },
     "execution_count": 15,
     "metadata": {},
     "output_type": "execute_result"
    }
   ],
   "source": [
    "# (['Genre', 'Year_of_Release'])['Year_of_Release']\n",
    "# Group the names of the games with the highest selling values in european region and sum the highest selling games\n",
    "s = sales1.groupby(['Name'])['EU_Sales'].sum()\n",
    "s"
   ]
  },
  {
   "cell_type": "code",
   "execution_count": 16,
   "metadata": {},
   "outputs": [
    {
     "data": {
      "text/plain": [
       "Text(0,0.5,'Sale Figure')"
      ]
     },
     "execution_count": 16,
     "metadata": {},
     "output_type": "execute_result"
    },
    {
     "data": {
      "image/png": "[encoded data removed]",
      "text/plain": [
       "<matplotlib.figure.Figure at 0x19ca230aa58>"
      ]
     },
     "metadata": {},
     "output_type": "display_data"
    }
   ],
   "source": [
    "# Plot the highest sold game names on a bar chart to show the top sold games in EU\n",
    "ax = s.plot(kind='bar', figsize=(20,10))\n",
    "ax.set_xlabel(\"Game Name\", size=30)\n",
    "ax.set_title(\"Highest Eu Sale Game Names\", size=30)\n",
    "ax.set_ylabel(\"Sale Figure\", size=30)\n"
   ]
  },
  {
   "cell_type": "markdown",
   "metadata": {},
   "source": [
    "We will now analyse the Japanese Sales. We will analyse the top 4 regions which are EU, Global, North America and Japan. The sales figures for Japan are considerably smaller than those for Global and EU so we will only filter the sales greater than 4.90 million. "
   ]
  },
  {
   "cell_type": "code",
   "execution_count": 17,
   "metadata": {},
   "outputs": [
    {
     "data": {
      "text/html": [
       "<div>\n",
       "<style>\n",
       "    .dataframe thead tr:only-child th {\n",
       "        text-align: right;\n",
       "    }\n",
       "\n",
       "    .dataframe thead th {\n",
       "        text-align: left;\n",
       "    }\n",
       "\n",
       "    .dataframe tbody tr th {\n",
       "        vertical-align: top;\n",
       "    }\n",
       "</style>\n",
       "<table border=\"1\" class=\"dataframe\">\n",
       "  <thead>\n",
       "    <tr style=\"text-align: right;\">\n",
       "      <th></th>\n",
       "      <th>Name</th>\n",
       "      <th>Platform</th>\n",
       "      <th>Year_of_Release</th>\n",
       "      <th>Genre</th>\n",
       "      <th>Publisher</th>\n",
       "      <th>NA_Sales</th>\n",
       "      <th>EU_Sales</th>\n",
       "      <th>JP_Sales</th>\n",
       "      <th>Other_Sales</th>\n",
       "      <th>Global_Sales</th>\n",
       "      <th>Developer</th>\n",
       "    </tr>\n",
       "  </thead>\n",
       "  <tbody>\n",
       "    <tr>\n",
       "      <th>1</th>\n",
       "      <td>Super Mario Bros.</td>\n",
       "      <td>NES</td>\n",
       "      <td>1985.0</td>\n",
       "      <td>Platform</td>\n",
       "      <td>Nintendo</td>\n",
       "      <td>29.08</td>\n",
       "      <td>3.58</td>\n",
       "      <td>6.81</td>\n",
       "      <td>0.77</td>\n",
       "      <td>40.24</td>\n",
       "      <td>NaN</td>\n",
       "    </tr>\n",
       "    <tr>\n",
       "      <th>4</th>\n",
       "      <td>Pokemon Red/Pokemon Blue</td>\n",
       "      <td>GB</td>\n",
       "      <td>1996.0</td>\n",
       "      <td>Role-Playing</td>\n",
       "      <td>Nintendo</td>\n",
       "      <td>11.27</td>\n",
       "      <td>8.89</td>\n",
       "      <td>10.22</td>\n",
       "      <td>1.00</td>\n",
       "      <td>31.37</td>\n",
       "      <td>NaN</td>\n",
       "    </tr>\n",
       "    <tr>\n",
       "      <th>6</th>\n",
       "      <td>New Super Mario Bros.</td>\n",
       "      <td>DS</td>\n",
       "      <td>2006.0</td>\n",
       "      <td>Platform</td>\n",
       "      <td>Nintendo</td>\n",
       "      <td>11.28</td>\n",
       "      <td>9.14</td>\n",
       "      <td>6.50</td>\n",
       "      <td>2.88</td>\n",
       "      <td>29.80</td>\n",
       "      <td>Nintendo</td>\n",
       "    </tr>\n",
       "    <tr>\n",
       "      <th>12</th>\n",
       "      <td>Pokemon Gold/Pokemon Silver</td>\n",
       "      <td>GB</td>\n",
       "      <td>1999.0</td>\n",
       "      <td>Role-Playing</td>\n",
       "      <td>Nintendo</td>\n",
       "      <td>9.00</td>\n",
       "      <td>6.18</td>\n",
       "      <td>7.20</td>\n",
       "      <td>0.71</td>\n",
       "      <td>23.10</td>\n",
       "      <td>NaN</td>\n",
       "    </tr>\n",
       "    <tr>\n",
       "      <th>20</th>\n",
       "      <td>Pokemon Diamond/Pokemon Pearl</td>\n",
       "      <td>DS</td>\n",
       "      <td>2006.0</td>\n",
       "      <td>Role-Playing</td>\n",
       "      <td>Nintendo</td>\n",
       "      <td>6.38</td>\n",
       "      <td>4.46</td>\n",
       "      <td>6.04</td>\n",
       "      <td>1.36</td>\n",
       "      <td>18.25</td>\n",
       "      <td>NaN</td>\n",
       "    </tr>\n",
       "    <tr>\n",
       "      <th>25</th>\n",
       "      <td>Pokemon Ruby/Pokemon Sapphire</td>\n",
       "      <td>GBA</td>\n",
       "      <td>2002.0</td>\n",
       "      <td>Role-Playing</td>\n",
       "      <td>Nintendo</td>\n",
       "      <td>6.06</td>\n",
       "      <td>3.90</td>\n",
       "      <td>5.38</td>\n",
       "      <td>0.50</td>\n",
       "      <td>15.85</td>\n",
       "      <td>NaN</td>\n",
       "    </tr>\n",
       "    <tr>\n",
       "      <th>26</th>\n",
       "      <td>Brain Age 2: More Training in Minutes a Day</td>\n",
       "      <td>DS</td>\n",
       "      <td>2005.0</td>\n",
       "      <td>Puzzle</td>\n",
       "      <td>Nintendo</td>\n",
       "      <td>3.43</td>\n",
       "      <td>5.35</td>\n",
       "      <td>5.32</td>\n",
       "      <td>1.18</td>\n",
       "      <td>15.29</td>\n",
       "      <td>Nintendo</td>\n",
       "    </tr>\n",
       "    <tr>\n",
       "      <th>27</th>\n",
       "      <td>Pokemon Black/Pokemon White</td>\n",
       "      <td>DS</td>\n",
       "      <td>2010.0</td>\n",
       "      <td>Role-Playing</td>\n",
       "      <td>Nintendo</td>\n",
       "      <td>5.51</td>\n",
       "      <td>3.17</td>\n",
       "      <td>5.65</td>\n",
       "      <td>0.80</td>\n",
       "      <td>15.14</td>\n",
       "      <td>NaN</td>\n",
       "    </tr>\n",
       "    <tr>\n",
       "      <th>43</th>\n",
       "      <td>Animal Crossing: Wild World</td>\n",
       "      <td>DS</td>\n",
       "      <td>2005.0</td>\n",
       "      <td>Simulation</td>\n",
       "      <td>Nintendo</td>\n",
       "      <td>2.50</td>\n",
       "      <td>3.45</td>\n",
       "      <td>5.33</td>\n",
       "      <td>0.86</td>\n",
       "      <td>12.13</td>\n",
       "      <td>Nintendo</td>\n",
       "    </tr>\n",
       "  </tbody>\n",
       "</table>\n",
       "</div>"
      ],
      "text/plain": [
       "                                           Name Platform  Year_of_Release  \\\n",
       "1                             Super Mario Bros.      NES           1985.0   \n",
       "4                      Pokemon Red/Pokemon Blue       GB           1996.0   \n",
       "6                         New Super Mario Bros.       DS           2006.0   \n",
       "12                  Pokemon Gold/Pokemon Silver       GB           1999.0   \n",
       "20                Pokemon Diamond/Pokemon Pearl       DS           2006.0   \n",
       "25                Pokemon Ruby/Pokemon Sapphire      GBA           2002.0   \n",
       "26  Brain Age 2: More Training in Minutes a Day       DS           2005.0   \n",
       "27                  Pokemon Black/Pokemon White       DS           2010.0   \n",
       "43                  Animal Crossing: Wild World       DS           2005.0   \n",
       "\n",
       "           Genre Publisher  NA_Sales  EU_Sales  JP_Sales  Other_Sales  \\\n",
       "1       Platform  Nintendo     29.08      3.58      6.81         0.77   \n",
       "4   Role-Playing  Nintendo     11.27      8.89     10.22         1.00   \n",
       "6       Platform  Nintendo     11.28      9.14      6.50         2.88   \n",
       "12  Role-Playing  Nintendo      9.00      6.18      7.20         0.71   \n",
       "20  Role-Playing  Nintendo      6.38      4.46      6.04         1.36   \n",
       "25  Role-Playing  Nintendo      6.06      3.90      5.38         0.50   \n",
       "26        Puzzle  Nintendo      3.43      5.35      5.32         1.18   \n",
       "27  Role-Playing  Nintendo      5.51      3.17      5.65         0.80   \n",
       "43    Simulation  Nintendo      2.50      3.45      5.33         0.86   \n",
       "\n",
       "    Global_Sales Developer  \n",
       "1          40.24       NaN  \n",
       "4          31.37       NaN  \n",
       "6          29.80  Nintendo  \n",
       "12         23.10       NaN  \n",
       "20         18.25       NaN  \n",
       "25         15.85       NaN  \n",
       "26         15.29  Nintendo  \n",
       "27         15.14       NaN  \n",
       "43         12.13  Nintendo  "
      ]
     },
     "execution_count": 17,
     "metadata": {},
     "output_type": "execute_result"
    }
   ],
   "source": [
    "# Only filter the japanese sales that have a higher sales than 4.90 million\n",
    "sales_japan = sales[sales['JP_Sales'] >= 4.90]\n",
    "sales_japan"
   ]
  },
  {
   "cell_type": "code",
   "execution_count": 18,
   "metadata": {},
   "outputs": [
    {
     "data": {
      "text/plain": [
       "Name\n",
       "Animal Crossing: Wild World                     5.33\n",
       "Brain Age 2: More Training in Minutes a Day     5.32\n",
       "New Super Mario Bros.                           6.50\n",
       "Pokemon Black/Pokemon White                     5.65\n",
       "Pokemon Diamond/Pokemon Pearl                   6.04\n",
       "Pokemon Gold/Pokemon Silver                     7.20\n",
       "Pokemon Red/Pokemon Blue                       10.22\n",
       "Pokemon Ruby/Pokemon Sapphire                   5.38\n",
       "Super Mario Bros.                               6.81\n",
       "Name: JP_Sales, dtype: float64"
      ]
     },
     "execution_count": 18,
     "metadata": {},
     "output_type": "execute_result"
    }
   ],
   "source": [
    "# Find the names of the top sold games in the japanese region and sum the values\n",
    "japan = sales_japan.groupby(['Name'])['JP_Sales'].sum()\n",
    "japan"
   ]
  },
  {
   "cell_type": "code",
   "execution_count": 19,
   "metadata": {},
   "outputs": [
    {
     "data": {
      "text/plain": [
       "Text(0.5,1,'Highest Japanese Sale Game Names')"
      ]
     },
     "execution_count": 19,
     "metadata": {},
     "output_type": "execute_result"
    },
    {
     "data": {
      "image/png": "[encoded data removed]",
      "text/plain": [
       "<matplotlib.figure.Figure at 0x19ca2397dd8>"
      ]
     },
     "metadata": {},
     "output_type": "display_data"
    }
   ],
   "source": [
    "# Plot the highest sold games in Japan for the all time\n",
    "ax = japan.plot(kind='bar', figsize=(20,10))\n",
    "ax.set_xlabel(\"Game Name\")\n",
    "ax.set_ylabel(\"Sale Figure\")\n",
    "ax.set_title(\"Highest Japanese Sale Game Names\")"
   ]
  },
  {
   "cell_type": "markdown",
   "metadata": {},
   "source": [
    "As we can see from the Japanese analysis the sales figures are different to what we have found out so far from the EU and Global sales. The highest game for the Japanese market is Pokemon Red / Pokemon Blue "
   ]
  },
  {
   "cell_type": "markdown",
   "metadata": {},
   "source": [
    "We will now analyse the Sales for the North America region to see if this has the same number 1 game as the other three regions or not.  "
   ]
  },
  {
   "cell_type": "code",
   "execution_count": 20,
   "metadata": {},
   "outputs": [
    {
     "data": {
      "text/html": [
       "<div>\n",
       "<style>\n",
       "    .dataframe thead tr:only-child th {\n",
       "        text-align: right;\n",
       "    }\n",
       "\n",
       "    .dataframe thead th {\n",
       "        text-align: left;\n",
       "    }\n",
       "\n",
       "    .dataframe tbody tr th {\n",
       "        vertical-align: top;\n",
       "    }\n",
       "</style>\n",
       "<table border=\"1\" class=\"dataframe\">\n",
       "  <thead>\n",
       "    <tr style=\"text-align: right;\">\n",
       "      <th></th>\n",
       "      <th>Name</th>\n",
       "      <th>Platform</th>\n",
       "      <th>Year_of_Release</th>\n",
       "      <th>Genre</th>\n",
       "      <th>Publisher</th>\n",
       "      <th>NA_Sales</th>\n",
       "      <th>EU_Sales</th>\n",
       "      <th>JP_Sales</th>\n",
       "      <th>Other_Sales</th>\n",
       "      <th>Global_Sales</th>\n",
       "      <th>Developer</th>\n",
       "    </tr>\n",
       "  </thead>\n",
       "  <tbody>\n",
       "    <tr>\n",
       "      <th>0</th>\n",
       "      <td>Wii Sports</td>\n",
       "      <td>Wii</td>\n",
       "      <td>2006.0</td>\n",
       "      <td>Sports</td>\n",
       "      <td>Nintendo</td>\n",
       "      <td>41.36</td>\n",
       "      <td>28.96</td>\n",
       "      <td>3.77</td>\n",
       "      <td>8.45</td>\n",
       "      <td>82.53</td>\n",
       "      <td>Nintendo</td>\n",
       "    </tr>\n",
       "    <tr>\n",
       "      <th>1</th>\n",
       "      <td>Super Mario Bros.</td>\n",
       "      <td>NES</td>\n",
       "      <td>1985.0</td>\n",
       "      <td>Platform</td>\n",
       "      <td>Nintendo</td>\n",
       "      <td>29.08</td>\n",
       "      <td>3.58</td>\n",
       "      <td>6.81</td>\n",
       "      <td>0.77</td>\n",
       "      <td>40.24</td>\n",
       "      <td>NaN</td>\n",
       "    </tr>\n",
       "    <tr>\n",
       "      <th>2</th>\n",
       "      <td>Mario Kart Wii</td>\n",
       "      <td>Wii</td>\n",
       "      <td>2008.0</td>\n",
       "      <td>Racing</td>\n",
       "      <td>Nintendo</td>\n",
       "      <td>15.68</td>\n",
       "      <td>12.76</td>\n",
       "      <td>3.79</td>\n",
       "      <td>3.29</td>\n",
       "      <td>35.52</td>\n",
       "      <td>Nintendo</td>\n",
       "    </tr>\n",
       "    <tr>\n",
       "      <th>3</th>\n",
       "      <td>Wii Sports Resort</td>\n",
       "      <td>Wii</td>\n",
       "      <td>2009.0</td>\n",
       "      <td>Sports</td>\n",
       "      <td>Nintendo</td>\n",
       "      <td>15.61</td>\n",
       "      <td>10.93</td>\n",
       "      <td>3.28</td>\n",
       "      <td>2.95</td>\n",
       "      <td>32.77</td>\n",
       "      <td>Nintendo</td>\n",
       "    </tr>\n",
       "    <tr>\n",
       "      <th>4</th>\n",
       "      <td>Pokemon Red/Pokemon Blue</td>\n",
       "      <td>GB</td>\n",
       "      <td>1996.0</td>\n",
       "      <td>Role-Playing</td>\n",
       "      <td>Nintendo</td>\n",
       "      <td>11.27</td>\n",
       "      <td>8.89</td>\n",
       "      <td>10.22</td>\n",
       "      <td>1.00</td>\n",
       "      <td>31.37</td>\n",
       "      <td>NaN</td>\n",
       "    </tr>\n",
       "    <tr>\n",
       "      <th>5</th>\n",
       "      <td>Tetris</td>\n",
       "      <td>GB</td>\n",
       "      <td>1989.0</td>\n",
       "      <td>Puzzle</td>\n",
       "      <td>Nintendo</td>\n",
       "      <td>23.20</td>\n",
       "      <td>2.26</td>\n",
       "      <td>4.22</td>\n",
       "      <td>0.58</td>\n",
       "      <td>30.26</td>\n",
       "      <td>NaN</td>\n",
       "    </tr>\n",
       "    <tr>\n",
       "      <th>6</th>\n",
       "      <td>New Super Mario Bros.</td>\n",
       "      <td>DS</td>\n",
       "      <td>2006.0</td>\n",
       "      <td>Platform</td>\n",
       "      <td>Nintendo</td>\n",
       "      <td>11.28</td>\n",
       "      <td>9.14</td>\n",
       "      <td>6.50</td>\n",
       "      <td>2.88</td>\n",
       "      <td>29.80</td>\n",
       "      <td>Nintendo</td>\n",
       "    </tr>\n",
       "    <tr>\n",
       "      <th>7</th>\n",
       "      <td>Wii Play</td>\n",
       "      <td>Wii</td>\n",
       "      <td>2006.0</td>\n",
       "      <td>Misc</td>\n",
       "      <td>Nintendo</td>\n",
       "      <td>13.96</td>\n",
       "      <td>9.18</td>\n",
       "      <td>2.93</td>\n",
       "      <td>2.84</td>\n",
       "      <td>28.92</td>\n",
       "      <td>Nintendo</td>\n",
       "    </tr>\n",
       "    <tr>\n",
       "      <th>8</th>\n",
       "      <td>New Super Mario Bros. Wii</td>\n",
       "      <td>Wii</td>\n",
       "      <td>2009.0</td>\n",
       "      <td>Platform</td>\n",
       "      <td>Nintendo</td>\n",
       "      <td>14.44</td>\n",
       "      <td>6.94</td>\n",
       "      <td>4.70</td>\n",
       "      <td>2.24</td>\n",
       "      <td>28.32</td>\n",
       "      <td>Nintendo</td>\n",
       "    </tr>\n",
       "    <tr>\n",
       "      <th>9</th>\n",
       "      <td>Duck Hunt</td>\n",
       "      <td>NES</td>\n",
       "      <td>1984.0</td>\n",
       "      <td>Shooter</td>\n",
       "      <td>Nintendo</td>\n",
       "      <td>26.93</td>\n",
       "      <td>0.63</td>\n",
       "      <td>0.28</td>\n",
       "      <td>0.47</td>\n",
       "      <td>28.31</td>\n",
       "      <td>NaN</td>\n",
       "    </tr>\n",
       "    <tr>\n",
       "      <th>14</th>\n",
       "      <td>Kinect Adventures!</td>\n",
       "      <td>X360</td>\n",
       "      <td>2010.0</td>\n",
       "      <td>Misc</td>\n",
       "      <td>Microsoft Game Studios</td>\n",
       "      <td>15.00</td>\n",
       "      <td>4.89</td>\n",
       "      <td>0.24</td>\n",
       "      <td>1.69</td>\n",
       "      <td>21.81</td>\n",
       "      <td>Good Science Studio</td>\n",
       "    </tr>\n",
       "    <tr>\n",
       "      <th>18</th>\n",
       "      <td>Super Mario World</td>\n",
       "      <td>SNES</td>\n",
       "      <td>1990.0</td>\n",
       "      <td>Platform</td>\n",
       "      <td>Nintendo</td>\n",
       "      <td>12.78</td>\n",
       "      <td>3.75</td>\n",
       "      <td>3.54</td>\n",
       "      <td>0.55</td>\n",
       "      <td>20.61</td>\n",
       "      <td>NaN</td>\n",
       "    </tr>\n",
       "  </tbody>\n",
       "</table>\n",
       "</div>"
      ],
      "text/plain": [
       "                         Name Platform  Year_of_Release         Genre  \\\n",
       "0                  Wii Sports      Wii           2006.0        Sports   \n",
       "1           Super Mario Bros.      NES           1985.0      Platform   \n",
       "2              Mario Kart Wii      Wii           2008.0        Racing   \n",
       "3           Wii Sports Resort      Wii           2009.0        Sports   \n",
       "4    Pokemon Red/Pokemon Blue       GB           1996.0  Role-Playing   \n",
       "5                      Tetris       GB           1989.0        Puzzle   \n",
       "6       New Super Mario Bros.       DS           2006.0      Platform   \n",
       "7                    Wii Play      Wii           2006.0          Misc   \n",
       "8   New Super Mario Bros. Wii      Wii           2009.0      Platform   \n",
       "9                   Duck Hunt      NES           1984.0       Shooter   \n",
       "14         Kinect Adventures!     X360           2010.0          Misc   \n",
       "18          Super Mario World     SNES           1990.0      Platform   \n",
       "\n",
       "                 Publisher  NA_Sales  EU_Sales  JP_Sales  Other_Sales  \\\n",
       "0                 Nintendo     41.36     28.96      3.77         8.45   \n",
       "1                 Nintendo     29.08      3.58      6.81         0.77   \n",
       "2                 Nintendo     15.68     12.76      3.79         3.29   \n",
       "3                 Nintendo     15.61     10.93      3.28         2.95   \n",
       "4                 Nintendo     11.27      8.89     10.22         1.00   \n",
       "5                 Nintendo     23.20      2.26      4.22         0.58   \n",
       "6                 Nintendo     11.28      9.14      6.50         2.88   \n",
       "7                 Nintendo     13.96      9.18      2.93         2.84   \n",
       "8                 Nintendo     14.44      6.94      4.70         2.24   \n",
       "9                 Nintendo     26.93      0.63      0.28         0.47   \n",
       "14  Microsoft Game Studios     15.00      4.89      0.24         1.69   \n",
       "18                Nintendo     12.78      3.75      3.54         0.55   \n",
       "\n",
       "    Global_Sales            Developer  \n",
       "0          82.53             Nintendo  \n",
       "1          40.24                  NaN  \n",
       "2          35.52             Nintendo  \n",
       "3          32.77             Nintendo  \n",
       "4          31.37                  NaN  \n",
       "5          30.26                  NaN  \n",
       "6          29.80             Nintendo  \n",
       "7          28.92             Nintendo  \n",
       "8          28.32             Nintendo  \n",
       "9          28.31                  NaN  \n",
       "14         21.81  Good Science Studio  \n",
       "18         20.61                  NaN  "
      ]
     },
     "execution_count": 20,
     "metadata": {},
     "output_type": "execute_result"
    }
   ],
   "source": [
    "# Only look for games sold in north america that are greater than 11 million\n",
    "n_a = sales[sales['NA_Sales'] >= 11.0]\n",
    "n_a "
   ]
  },
  {
   "cell_type": "code",
   "execution_count": 21,
   "metadata": {},
   "outputs": [
    {
     "data": {
      "text/plain": [
       "Name\n",
       "Duck Hunt                    26.93\n",
       "Kinect Adventures!           15.00\n",
       "Mario Kart Wii               15.68\n",
       "New Super Mario Bros.        11.28\n",
       "New Super Mario Bros. Wii    14.44\n",
       "Pokemon Red/Pokemon Blue     11.27\n",
       "Super Mario Bros.            29.08\n",
       "Super Mario World            12.78\n",
       "Tetris                       23.20\n",
       "Wii Play                     13.96\n",
       "Wii Sports                   41.36\n",
       "Wii Sports Resort            15.61\n",
       "Name: NA_Sales, dtype: float64"
      ]
     },
     "execution_count": 21,
     "metadata": {},
     "output_type": "execute_result"
    }
   ],
   "source": [
    "# Group the north american sales by the names and sum the highest sold games\n",
    "america = n_a.groupby(['Name'])['NA_Sales'].sum()\n",
    "america"
   ]
  },
  {
   "cell_type": "code",
   "execution_count": 22,
   "metadata": {},
   "outputs": [
    {
     "data": {
      "text/plain": [
       "Text(0.5,1,'Highest North American Sale Game Names')"
      ]
     },
     "execution_count": 22,
     "metadata": {},
     "output_type": "execute_result"
    },
    {
     "data": {
      "image/png": "[encoded data removed]",
      "text/plain": [
       "<matplotlib.figure.Figure at 0x19ca23ff748>"
      ]
     },
     "metadata": {},
     "output_type": "display_data"
    }
   ],
   "source": [
    "ax = america.plot(kind='bar', figsize=(20,10))\n",
    "ax.set_xlabel(\"Game Name\", size=30)\n",
    "ax.set_ylabel(\"Sale Figure\", size= 30)\n",
    "ax.set_title(\"Highest North American Sale Game Names\", size = 30)"
   ]
  },
  {
   "cell_type": "markdown",
   "metadata": {},
   "source": [
    "As we can see the highest sold game in this region was WII sports which correlates to the EU Region and the global region. This means that this game performed best overall from 3 out of the 4 regions."
   ]
  },
  {
   "cell_type": "markdown",
   "metadata": {},
   "source": [
    "### Number of Genres released each year"
   ]
  },
  {
   "cell_type": "markdown",
   "metadata": {},
   "source": [
    "We have checked the highest overall genre category. But now we would like to analyse the highest Genre Category for each year. I will divide everything up into separate genres."
   ]
  },
  {
   "cell_type": "code",
   "execution_count": 23,
   "metadata": {},
   "outputs": [
    {
     "data": {
      "text/html": [
       "<div>\n",
       "<style>\n",
       "    .dataframe thead tr:only-child th {\n",
       "        text-align: right;\n",
       "    }\n",
       "\n",
       "    .dataframe thead th {\n",
       "        text-align: left;\n",
       "    }\n",
       "\n",
       "    .dataframe tbody tr th {\n",
       "        vertical-align: top;\n",
       "    }\n",
       "</style>\n",
       "<table border=\"1\" class=\"dataframe\">\n",
       "  <thead>\n",
       "    <tr style=\"text-align: right;\">\n",
       "      <th></th>\n",
       "      <th>Action</th>\n",
       "    </tr>\n",
       "    <tr>\n",
       "      <th>Year_of_Release</th>\n",
       "      <th></th>\n",
       "    </tr>\n",
       "  </thead>\n",
       "  <tbody>\n",
       "    <tr>\n",
       "      <th>1980.0</th>\n",
       "      <td>1</td>\n",
       "    </tr>\n",
       "    <tr>\n",
       "      <th>1981.0</th>\n",
       "      <td>25</td>\n",
       "    </tr>\n",
       "    <tr>\n",
       "      <th>1982.0</th>\n",
       "      <td>18</td>\n",
       "    </tr>\n",
       "    <tr>\n",
       "      <th>1983.0</th>\n",
       "      <td>7</td>\n",
       "    </tr>\n",
       "    <tr>\n",
       "      <th>1984.0</th>\n",
       "      <td>1</td>\n",
       "    </tr>\n",
       "  </tbody>\n",
       "</table>\n",
       "</div>"
      ],
      "text/plain": [
       "                 Action\n",
       "Year_of_Release        \n",
       "1980.0                1\n",
       "1981.0               25\n",
       "1982.0               18\n",
       "1983.0                7\n",
       "1984.0                1"
      ]
     },
     "execution_count": 23,
     "metadata": {},
     "output_type": "execute_result"
    }
   ],
   "source": [
    "# Look for action matches in genre in dataframe\n",
    "action = sales[sales['Genre'] == 'Action']\n",
    "# group by the release year an coun the genre\n",
    "yearly = action.groupby('Year_of_Release', as_index = False)['Genre'].count()\n",
    "# set years of release as the index\n",
    "yearly = yearly.set_index('Year_of_Release')\n",
    "# Action column gets renamed from Genre previously\n",
    "yearly.rename(columns={'Genre': 'Action'}, inplace=True)\n",
    "yearly.head()"
   ]
  },
  {
   "cell_type": "code",
   "execution_count": 24,
   "metadata": {
    "collapsed": true
   },
   "outputs": [],
   "source": [
    "# Look for adventure, group it by adventure and count number of adventure releases\n",
    "adventure = sales[sales['Genre'] == 'Adventure']\n",
    "tmp = adventure.groupby(['Year_of_Release'])['Genre'].count()\n",
    "yearly['Adventure'] = tmp"
   ]
  },
  {
   "cell_type": "code",
   "execution_count": 25,
   "metadata": {
    "collapsed": true
   },
   "outputs": [],
   "source": [
    "# look for fighting group it by fighting and count number of fighting releases\n",
    "fighting = sales[sales['Genre'] == 'Fighting']\n",
    "tmp = fighting.groupby(['Year_of_Release'])['Genre'].count()\n",
    "yearly['Fighting'] = tmp"
   ]
  },
  {
   "cell_type": "code",
   "execution_count": 26,
   "metadata": {
    "collapsed": true
   },
   "outputs": [],
   "source": [
    "# look for misc group and count number of misc releases\n",
    "misc = sales[sales['Genre'] == 'Misc']\n",
    "tmp = misc.groupby(['Year_of_Release'])['Genre'].count()\n",
    "yearly['Misc'] = tmp"
   ]
  },
  {
   "cell_type": "code",
   "execution_count": 27,
   "metadata": {
    "collapsed": true
   },
   "outputs": [],
   "source": [
    "# look for platform group and count number of platform releases\n",
    "platform = sales[sales['Genre'] == 'Platform']\n",
    "tmp = platform.groupby(['Year_of_Release'])['Genre'].count()\n",
    "yearly['Platform'] = tmp"
   ]
  },
  {
   "cell_type": "code",
   "execution_count": 28,
   "metadata": {
    "collapsed": true,
    "scrolled": true
   },
   "outputs": [],
   "source": [
    "# look for puzzle group and count number of puzzle releases\n",
    "puzzle = sales[sales['Genre'] == 'Puzzle']\n",
    "tmp = puzzle.groupby(['Year_of_Release'])['Genre'].count()\n",
    "yearly['Puzzle'] = tmp"
   ]
  },
  {
   "cell_type": "code",
   "execution_count": 29,
   "metadata": {
    "collapsed": true
   },
   "outputs": [],
   "source": [
    "\n",
    "# look for racing group and count number of releases\n",
    "racing = sales[sales['Genre'] == 'Racing']\n",
    "tmp = racing.groupby(['Year_of_Release'])['Genre'].count()\n",
    "yearly['Racing'] = tmp"
   ]
  },
  {
   "cell_type": "code",
   "execution_count": 30,
   "metadata": {
    "collapsed": true
   },
   "outputs": [],
   "source": [
    "# look for role playing and count number of releases\n",
    "roleplaying = sales[sales['Genre'] == 'Role-Playing']\n",
    "tmp = roleplaying.groupby(['Year_of_Release'])['Genre'].count()\n",
    "yearly['Role_Playing'] = tmp"
   ]
  },
  {
   "cell_type": "code",
   "execution_count": 31,
   "metadata": {
    "collapsed": true
   },
   "outputs": [],
   "source": [
    "# look for shooter and count number of releases\n",
    "shooter = sales[sales['Genre'] == 'Shooter']\n",
    "tmp = shooter.groupby(['Year_of_Release'])['Genre'].count()\n",
    "yearly['Shooter'] = tmp"
   ]
  },
  {
   "cell_type": "code",
   "execution_count": 32,
   "metadata": {
    "collapsed": true
   },
   "outputs": [],
   "source": [
    "# look for simulation and count releases\n",
    "simulation = sales[sales['Genre'] == 'Simulation']\n",
    "tmp = simulation.groupby(['Year_of_Release'])['Genre'].count()\n",
    "yearly['Simulation'] = tmp"
   ]
  },
  {
   "cell_type": "code",
   "execution_count": 33,
   "metadata": {
    "collapsed": true
   },
   "outputs": [],
   "source": [
    "# look for sports and count releases\n",
    "sports = sales[sales['Genre'] == 'Sports']\n",
    "tmp = sports.groupby(['Year_of_Release'])['Genre'].count()\n",
    "yearly['Sports'] = tmp"
   ]
  },
  {
   "cell_type": "code",
   "execution_count": 34,
   "metadata": {},
   "outputs": [
    {
     "data": {
      "text/html": [
       "<div>\n",
       "<style>\n",
       "    .dataframe thead tr:only-child th {\n",
       "        text-align: right;\n",
       "    }\n",
       "\n",
       "    .dataframe thead th {\n",
       "        text-align: left;\n",
       "    }\n",
       "\n",
       "    .dataframe tbody tr th {\n",
       "        vertical-align: top;\n",
       "    }\n",
       "</style>\n",
       "<table border=\"1\" class=\"dataframe\">\n",
       "  <thead>\n",
       "    <tr style=\"text-align: right;\">\n",
       "      <th></th>\n",
       "      <th>Action</th>\n",
       "      <th>Adventure</th>\n",
       "      <th>Fighting</th>\n",
       "      <th>Misc</th>\n",
       "      <th>Platform</th>\n",
       "      <th>Puzzle</th>\n",
       "      <th>Racing</th>\n",
       "      <th>Role_Playing</th>\n",
       "      <th>Shooter</th>\n",
       "      <th>Simulation</th>\n",
       "      <th>Sports</th>\n",
       "      <th>Strategy</th>\n",
       "    </tr>\n",
       "    <tr>\n",
       "      <th>Year_of_Release</th>\n",
       "      <th></th>\n",
       "      <th></th>\n",
       "      <th></th>\n",
       "      <th></th>\n",
       "      <th></th>\n",
       "      <th></th>\n",
       "      <th></th>\n",
       "      <th></th>\n",
       "      <th></th>\n",
       "      <th></th>\n",
       "      <th></th>\n",
       "      <th></th>\n",
       "    </tr>\n",
       "  </thead>\n",
       "  <tbody>\n",
       "    <tr>\n",
       "      <th>1980.0</th>\n",
       "      <td>1</td>\n",
       "      <td>0.0</td>\n",
       "      <td>1.0</td>\n",
       "      <td>4.0</td>\n",
       "      <td>0.0</td>\n",
       "      <td>0.0</td>\n",
       "      <td>0.0</td>\n",
       "      <td>0.0</td>\n",
       "      <td>2.0</td>\n",
       "      <td>0.0</td>\n",
       "      <td>1</td>\n",
       "      <td>0.0</td>\n",
       "    </tr>\n",
       "    <tr>\n",
       "      <th>1981.0</th>\n",
       "      <td>25</td>\n",
       "      <td>0.0</td>\n",
       "      <td>0.0</td>\n",
       "      <td>0.0</td>\n",
       "      <td>3.0</td>\n",
       "      <td>2.0</td>\n",
       "      <td>1.0</td>\n",
       "      <td>0.0</td>\n",
       "      <td>10.0</td>\n",
       "      <td>1.0</td>\n",
       "      <td>4</td>\n",
       "      <td>0.0</td>\n",
       "    </tr>\n",
       "    <tr>\n",
       "      <th>1982.0</th>\n",
       "      <td>18</td>\n",
       "      <td>0.0</td>\n",
       "      <td>0.0</td>\n",
       "      <td>1.0</td>\n",
       "      <td>5.0</td>\n",
       "      <td>3.0</td>\n",
       "      <td>2.0</td>\n",
       "      <td>0.0</td>\n",
       "      <td>5.0</td>\n",
       "      <td>0.0</td>\n",
       "      <td>2</td>\n",
       "      <td>0.0</td>\n",
       "    </tr>\n",
       "    <tr>\n",
       "      <th>1983.0</th>\n",
       "      <td>7</td>\n",
       "      <td>1.0</td>\n",
       "      <td>0.0</td>\n",
       "      <td>1.0</td>\n",
       "      <td>5.0</td>\n",
       "      <td>1.0</td>\n",
       "      <td>0.0</td>\n",
       "      <td>0.0</td>\n",
       "      <td>1.0</td>\n",
       "      <td>0.0</td>\n",
       "      <td>1</td>\n",
       "      <td>0.0</td>\n",
       "    </tr>\n",
       "    <tr>\n",
       "      <th>1984.0</th>\n",
       "      <td>1</td>\n",
       "      <td>0.0</td>\n",
       "      <td>0.0</td>\n",
       "      <td>1.0</td>\n",
       "      <td>1.0</td>\n",
       "      <td>3.0</td>\n",
       "      <td>3.0</td>\n",
       "      <td>0.0</td>\n",
       "      <td>3.0</td>\n",
       "      <td>0.0</td>\n",
       "      <td>2</td>\n",
       "      <td>0.0</td>\n",
       "    </tr>\n",
       "  </tbody>\n",
       "</table>\n",
       "</div>"
      ],
      "text/plain": [
       "                 Action  Adventure  Fighting  Misc  Platform  Puzzle  Racing  \\\n",
       "Year_of_Release                                                                \n",
       "1980.0                1        0.0       1.0   4.0       0.0     0.0     0.0   \n",
       "1981.0               25        0.0       0.0   0.0       3.0     2.0     1.0   \n",
       "1982.0               18        0.0       0.0   1.0       5.0     3.0     2.0   \n",
       "1983.0                7        1.0       0.0   1.0       5.0     1.0     0.0   \n",
       "1984.0                1        0.0       0.0   1.0       1.0     3.0     3.0   \n",
       "\n",
       "                 Role_Playing  Shooter  Simulation  Sports  Strategy  \n",
       "Year_of_Release                                                       \n",
       "1980.0                    0.0      2.0         0.0       1       0.0  \n",
       "1981.0                    0.0     10.0         1.0       4       0.0  \n",
       "1982.0                    0.0      5.0         0.0       2       0.0  \n",
       "1983.0                    0.0      1.0         0.0       1       0.0  \n",
       "1984.0                    0.0      3.0         0.0       2       0.0  "
      ]
     },
     "execution_count": 34,
     "metadata": {},
     "output_type": "execute_result"
    }
   ],
   "source": [
    "# look for strategy and count releases\n",
    "strategy = sales[sales['Genre'] == 'Strategy']\n",
    "tmp = strategy.groupby(['Year_of_Release'])['Genre'].count()\n",
    "yearly['Strategy'] = tmp\n",
    "# fill null values with 0 and print 5 lines of the new table\n",
    "yearly.fillna(value = 0, inplace = True)\n",
    "yearly.head()"
   ]
  },
  {
   "cell_type": "code",
   "execution_count": 35,
   "metadata": {},
   "outputs": [
    {
     "data": {
      "text/plain": [
       "2009.0"
      ]
     },
     "execution_count": 35,
     "metadata": {},
     "output_type": "execute_result"
    }
   ],
   "source": [
    "# best year for action\n",
    "yearly['Action'].argmax()"
   ]
  },
  {
   "cell_type": "code",
   "execution_count": 36,
   "metadata": {},
   "outputs": [
    {
     "data": {
      "text/plain": [
       "2008.0"
      ]
     },
     "execution_count": 36,
     "metadata": {},
     "output_type": "execute_result"
    }
   ],
   "source": [
    "# best year for adventure\n",
    "yearly['Adventure'].argmax()"
   ]
  },
  {
   "cell_type": "code",
   "execution_count": 37,
   "metadata": {},
   "outputs": [
    {
     "data": {
      "text/plain": [
       "2008.0"
      ]
     },
     "execution_count": 37,
     "metadata": {},
     "output_type": "execute_result"
    }
   ],
   "source": [
    "# best year for fighting\n",
    "yearly['Fighting'].argmax()"
   ]
  },
  {
   "cell_type": "code",
   "execution_count": 38,
   "metadata": {},
   "outputs": [
    {
     "data": {
      "text/plain": [
       "2008.0"
      ]
     },
     "execution_count": 38,
     "metadata": {},
     "output_type": "execute_result"
    }
   ],
   "source": [
    "# best year for misc\n",
    "yearly['Misc'].argmax()"
   ]
  },
  {
   "cell_type": "code",
   "execution_count": 39,
   "metadata": {},
   "outputs": [
    {
     "data": {
      "text/plain": [
       "2003.0"
      ]
     },
     "execution_count": 39,
     "metadata": {},
     "output_type": "execute_result"
    }
   ],
   "source": [
    "# best year for platform\n",
    "yearly['Platform'].argmax()"
   ]
  },
  {
   "cell_type": "code",
   "execution_count": 40,
   "metadata": {},
   "outputs": [
    {
     "data": {
      "text/plain": [
       "2009.0"
      ]
     },
     "execution_count": 40,
     "metadata": {},
     "output_type": "execute_result"
    }
   ],
   "source": [
    "# best year for puzzle\n",
    "yearly['Puzzle'].argmax()"
   ]
  },
  {
   "cell_type": "code",
   "execution_count": 41,
   "metadata": {},
   "outputs": [
    {
     "data": {
      "text/plain": [
       "2003.0"
      ]
     },
     "execution_count": 41,
     "metadata": {},
     "output_type": "execute_result"
    }
   ],
   "source": [
    "# best year for racing\n",
    "yearly['Racing'].argmax()"
   ]
  },
  {
   "cell_type": "code",
   "execution_count": 42,
   "metadata": {},
   "outputs": [
    {
     "data": {
      "text/plain": [
       "2008.0"
      ]
     },
     "execution_count": 42,
     "metadata": {},
     "output_type": "execute_result"
    }
   ],
   "source": [
    "# best year for role playing\n",
    "yearly['Role_Playing'].argmax()"
   ]
  },
  {
   "cell_type": "code",
   "execution_count": 43,
   "metadata": {},
   "outputs": [
    {
     "data": {
      "text/plain": [
       "2005.0"
      ]
     },
     "execution_count": 43,
     "metadata": {},
     "output_type": "execute_result"
    }
   ],
   "source": [
    "# best year for shooter\n",
    "yearly['Shooter'].argmax()"
   ]
  },
  {
   "cell_type": "code",
   "execution_count": 44,
   "metadata": {},
   "outputs": [
    {
     "data": {
      "text/plain": [
       "2009.0"
      ]
     },
     "execution_count": 44,
     "metadata": {},
     "output_type": "execute_result"
    }
   ],
   "source": [
    "# best year for simulation\n",
    "yearly['Simulation'].argmax()"
   ]
  },
  {
   "cell_type": "code",
   "execution_count": 45,
   "metadata": {},
   "outputs": [
    {
     "data": {
      "text/plain": [
       "2008.0"
      ]
     },
     "execution_count": 45,
     "metadata": {},
     "output_type": "execute_result"
    }
   ],
   "source": [
    "# best year for sports\n",
    "yearly['Sports'].argmax()"
   ]
  },
  {
   "cell_type": "code",
   "execution_count": 46,
   "metadata": {},
   "outputs": [
    {
     "data": {
      "text/plain": [
       "2007.0"
      ]
     },
     "execution_count": 46,
     "metadata": {},
     "output_type": "execute_result"
    }
   ],
   "source": [
    "# best year for strategy\n",
    "yearly['Strategy'].argmax()"
   ]
  },
  {
   "cell_type": "markdown",
   "metadata": {},
   "source": [
    "Above we have analysed each genre and checked in which year the most of that genre was released. As seen above 2008 and 2009 seem to be the more dominant years with them having the highest releases in most of the genres. "
   ]
  },
  {
   "cell_type": "markdown",
   "metadata": {},
   "source": [
    "## IGN Data Analyses"
   ]
  },
  {
   "cell_type": "markdown",
   "metadata": {},
   "source": [
    "Now that we have analysed the data and found our important analyses in terms of the industry of the golden year. We would now like to take the gamers perspective with the analysis and analyse the gamer side in terms of ratings numeically and also the score phrase"
   ]
  },
  {
   "cell_type": "code",
   "execution_count": 47,
   "metadata": {},
   "outputs": [
    {
     "data": {
      "text/html": [
       "<div>\n",
       "<style>\n",
       "    .dataframe thead tr:only-child th {\n",
       "        text-align: right;\n",
       "    }\n",
       "\n",
       "    .dataframe thead th {\n",
       "        text-align: left;\n",
       "    }\n",
       "\n",
       "    .dataframe tbody tr th {\n",
       "        vertical-align: top;\n",
       "    }\n",
       "</style>\n",
       "<table border=\"1\" class=\"dataframe\">\n",
       "  <thead>\n",
       "    <tr style=\"text-align: right;\">\n",
       "      <th></th>\n",
       "      <th>Name</th>\n",
       "      <th>Platform</th>\n",
       "      <th>Genre</th>\n",
       "      <th>Publisher</th>\n",
       "      <th>NA_Sales</th>\n",
       "      <th>EU_Sales</th>\n",
       "      <th>JP_Sales</th>\n",
       "      <th>Other_Sales</th>\n",
       "      <th>Global_Sales</th>\n",
       "      <th>score_phrase</th>\n",
       "      <th>score</th>\n",
       "      <th>editors_choice</th>\n",
       "    </tr>\n",
       "    <tr>\n",
       "      <th>Date</th>\n",
       "      <th></th>\n",
       "      <th></th>\n",
       "      <th></th>\n",
       "      <th></th>\n",
       "      <th></th>\n",
       "      <th></th>\n",
       "      <th></th>\n",
       "      <th></th>\n",
       "      <th></th>\n",
       "      <th></th>\n",
       "      <th></th>\n",
       "      <th></th>\n",
       "    </tr>\n",
       "  </thead>\n",
       "  <tbody>\n",
       "    <tr>\n",
       "      <th>2006-11-13</th>\n",
       "      <td>Wii Sports</td>\n",
       "      <td>Wii</td>\n",
       "      <td>Sports</td>\n",
       "      <td>Nintendo</td>\n",
       "      <td>41.36</td>\n",
       "      <td>28.96</td>\n",
       "      <td>3.77</td>\n",
       "      <td>8.45</td>\n",
       "      <td>82.53</td>\n",
       "      <td>Good</td>\n",
       "      <td>7.5</td>\n",
       "      <td>N</td>\n",
       "    </tr>\n",
       "    <tr>\n",
       "      <th>2008-04-20</th>\n",
       "      <td>Mario Kart Wii</td>\n",
       "      <td>Wii</td>\n",
       "      <td>Racing</td>\n",
       "      <td>Nintendo</td>\n",
       "      <td>15.68</td>\n",
       "      <td>12.76</td>\n",
       "      <td>3.79</td>\n",
       "      <td>3.29</td>\n",
       "      <td>35.52</td>\n",
       "      <td>Great</td>\n",
       "      <td>8.5</td>\n",
       "      <td>Y</td>\n",
       "    </tr>\n",
       "    <tr>\n",
       "      <th>2009-07-16</th>\n",
       "      <td>Wii Sports Resort</td>\n",
       "      <td>Wii</td>\n",
       "      <td>Sports</td>\n",
       "      <td>Nintendo</td>\n",
       "      <td>15.61</td>\n",
       "      <td>10.93</td>\n",
       "      <td>3.28</td>\n",
       "      <td>2.95</td>\n",
       "      <td>32.77</td>\n",
       "      <td>Good</td>\n",
       "      <td>7.7</td>\n",
       "      <td>N</td>\n",
       "    </tr>\n",
       "    <tr>\n",
       "      <th>2006-05-06</th>\n",
       "      <td>New Super Mario Bros.</td>\n",
       "      <td>DS</td>\n",
       "      <td>Platform</td>\n",
       "      <td>Nintendo</td>\n",
       "      <td>11.28</td>\n",
       "      <td>9.14</td>\n",
       "      <td>6.50</td>\n",
       "      <td>2.88</td>\n",
       "      <td>29.80</td>\n",
       "      <td>Amazing</td>\n",
       "      <td>9.5</td>\n",
       "      <td>Y</td>\n",
       "    </tr>\n",
       "    <tr>\n",
       "      <th>2009-11-13</th>\n",
       "      <td>New Super Mario Bros. Wii</td>\n",
       "      <td>Wii</td>\n",
       "      <td>Platform</td>\n",
       "      <td>Nintendo</td>\n",
       "      <td>14.44</td>\n",
       "      <td>6.94</td>\n",
       "      <td>4.70</td>\n",
       "      <td>2.24</td>\n",
       "      <td>28.32</td>\n",
       "      <td>Great</td>\n",
       "      <td>8.9</td>\n",
       "      <td>Y</td>\n",
       "    </tr>\n",
       "  </tbody>\n",
       "</table>\n",
       "</div>"
      ],
      "text/plain": [
       "                                 Name Platform     Genre Publisher  NA_Sales  \\\n",
       "Date                                                                           \n",
       "2006-11-13                 Wii Sports      Wii    Sports  Nintendo     41.36   \n",
       "2008-04-20             Mario Kart Wii      Wii    Racing  Nintendo     15.68   \n",
       "2009-07-16          Wii Sports Resort      Wii    Sports  Nintendo     15.61   \n",
       "2006-05-06      New Super Mario Bros.       DS  Platform  Nintendo     11.28   \n",
       "2009-11-13  New Super Mario Bros. Wii      Wii  Platform  Nintendo     14.44   \n",
       "\n",
       "            EU_Sales  JP_Sales  Other_Sales  Global_Sales score_phrase  score  \\\n",
       "Date                                                                            \n",
       "2006-11-13     28.96      3.77         8.45         82.53         Good    7.5   \n",
       "2008-04-20     12.76      3.79         3.29         35.52        Great    8.5   \n",
       "2009-07-16     10.93      3.28         2.95         32.77         Good    7.7   \n",
       "2006-05-06      9.14      6.50         2.88         29.80      Amazing    9.5   \n",
       "2009-11-13      6.94      4.70         2.24         28.32        Great    8.9   \n",
       "\n",
       "           editors_choice  \n",
       "Date                       \n",
       "2006-11-13              N  \n",
       "2008-04-20              Y  \n",
       "2009-07-16              N  \n",
       "2006-05-06              Y  \n",
       "2009-11-13              Y  "
      ]
     },
     "execution_count": 47,
     "metadata": {},
     "output_type": "execute_result"
    }
   ],
   "source": [
    "combined_data.head()"
   ]
  },
  {
   "cell_type": "markdown",
   "metadata": {},
   "source": [
    "## Analysis of the numeric score"
   ]
  },
  {
   "cell_type": "markdown",
   "metadata": {},
   "source": [
    "First lets analyse how many scores did each console receive. "
   ]
  },
  {
   "cell_type": "code",
   "execution_count": 48,
   "metadata": {},
   "outputs": [
    {
     "data": {
      "text/plain": [
       "Platform\n",
       "3DS       91\n",
       "DC        24\n",
       "DS       734\n",
       "GB         1\n",
       "GC       386\n",
       "N64      207\n",
       "PC       529\n",
       "PS       539\n",
       "PS2     1160\n",
       "PS3      650\n",
       "PS4      109\n",
       "PSV       51\n",
       "SNES       1\n",
       "Wii      552\n",
       "WiiU      58\n",
       "X360     736\n",
       "XB       606\n",
       "Name: score, dtype: int64"
      ]
     },
     "execution_count": 48,
     "metadata": {},
     "output_type": "execute_result"
    }
   ],
   "source": [
    "# find the amount of scores for each console and count them \n",
    "scores = combined_data.groupby(['Platform'])['score'].count()\n",
    "scores"
   ]
  },
  {
   "cell_type": "markdown",
   "metadata": {},
   "source": [
    "Lets analyse the amount of each score. (I.E)- see how many time each score was used to rate a game"
   ]
  },
  {
   "cell_type": "code",
   "execution_count": 49,
   "metadata": {},
   "outputs": [
    {
     "data": {
      "text/plain": [
       "score\n",
       "1.0    7\n",
       "1.1    1\n",
       "1.2    1\n",
       "1.3    1\n",
       "1.4    1\n",
       "Name: score, dtype: int64"
      ]
     },
     "execution_count": 49,
     "metadata": {},
     "output_type": "execute_result"
    }
   ],
   "source": [
    "# count the number of times a numeric value was used to score a game\n",
    "score_values = combined_data.groupby(['score'])['score'].count()\n",
    "score_values.head()"
   ]
  },
  {
   "cell_type": "markdown",
   "metadata": {},
   "source": [
    "#### Finding the highest score and number of occurences"
   ]
  },
  {
   "cell_type": "markdown",
   "metadata": {},
   "source": [
    "We will check how many times the highest score appeared throughout the ratings. We will also check what the highest score value itself was. As seen below the score 8.0 was the highest and it appeared a total of 497 times."
   ]
  },
  {
   "cell_type": "code",
   "execution_count": 50,
   "metadata": {},
   "outputs": [
    {
     "data": {
      "text/plain": [
       "497"
      ]
     },
     "execution_count": 50,
     "metadata": {},
     "output_type": "execute_result"
    }
   ],
   "source": [
    "# total times the highest score number was used \n",
    "combined_data['score'].value_counts().max()"
   ]
  },
  {
   "cell_type": "code",
   "execution_count": 51,
   "metadata": {},
   "outputs": [
    {
     "data": {
      "text/plain": [
       "0    8.0\n",
       "dtype: float64"
      ]
     },
     "execution_count": 51,
     "metadata": {},
     "output_type": "execute_result"
    }
   ],
   "source": [
    "# the most used number when scoring a game\n",
    "combined_data.score.mode()"
   ]
  },
  {
   "cell_type": "markdown",
   "metadata": {},
   "source": [
    "#### Finding the most common score phrase and occurences"
   ]
  },
  {
   "cell_type": "code",
   "execution_count": 52,
   "metadata": {},
   "outputs": [
    {
     "data": {
      "text/plain": [
       "score_phrase\n",
       "Amazing         729\n",
       "Awful           226\n",
       "Bad             448\n",
       "Good           1504\n",
       "Great          1723\n",
       "Masterpiece      14\n",
       "Mediocre        669\n",
       "Okay            986\n",
       "Painful         114\n",
       "Unbearable       21\n",
       "Name: score_phrase, dtype: int64"
      ]
     },
     "execution_count": 52,
     "metadata": {},
     "output_type": "execute_result"
    }
   ],
   "source": [
    "# Counting the number of times a score phrase is used \n",
    "score_phrase = combined_data.groupby(['score_phrase'])['score_phrase'].count()\n",
    "score_phrase"
   ]
  },
  {
   "cell_type": "markdown",
   "metadata": {},
   "source": [
    "We will check the most common score phrase from the reviews and the amount of times this score phrase appeared "
   ]
  },
  {
   "cell_type": "code",
   "execution_count": 53,
   "metadata": {},
   "outputs": [
    {
     "data": {
      "text/plain": [
       "1723"
      ]
     },
     "execution_count": 53,
     "metadata": {},
     "output_type": "execute_result"
    }
   ],
   "source": [
    "# how many times the most used score phrase appears\n",
    "combined_data['score_phrase'].value_counts().max()"
   ]
  },
  {
   "cell_type": "code",
   "execution_count": 54,
   "metadata": {},
   "outputs": [
    {
     "data": {
      "text/plain": [
       "0    Great\n",
       "dtype: object"
      ]
     },
     "execution_count": 54,
     "metadata": {},
     "output_type": "execute_result"
    }
   ],
   "source": [
    "# the most used score phrase\n",
    "combined_data['score_phrase'].mode()"
   ]
  },
  {
   "cell_type": "code",
   "execution_count": 55,
   "metadata": {},
   "outputs": [
    {
     "data": {
      "text/plain": [
       "1996     43\n",
       "1997    120\n",
       "1998    141\n",
       "1999    210\n",
       "2000    259\n",
       "2001    219\n",
       "2002    405\n",
       "2003    429\n",
       "2004    415\n",
       "2005    455\n",
       "2006    417\n",
       "2007    554\n",
       "2008    741\n",
       "2009    581\n",
       "2010    382\n",
       "2011    348\n",
       "2012    232\n",
       "2013    208\n",
       "2014    144\n",
       "2015     84\n",
       "2016     47\n",
       "Name: score_phrase, dtype: int64"
      ]
     },
     "execution_count": 55,
     "metadata": {},
     "output_type": "execute_result"
    }
   ],
   "source": [
    "# count the number of times score phrases are used each year and check the highest year in terms of score phrases\n",
    "combined_data.groupby(combined_data.index.strftime('%Y'))['score_phrase'].count()"
   ]
  },
  {
   "cell_type": "markdown",
   "metadata": {},
   "source": [
    "As seen above there are many different score phrases, however the most popular occurence is great which appears a total of 1723 times. "
   ]
  },
  {
   "cell_type": "markdown",
   "metadata": {},
   "source": [
    "### Lets check the best year in terms of reviews"
   ]
  },
  {
   "cell_type": "markdown",
   "metadata": {},
   "source": [
    "We would like to see what was the highest score per year. In order to anlyse the best year in terms of score reviews for the gamers perspective."
   ]
  },
  {
   "cell_type": "code",
   "execution_count": 56,
   "metadata": {},
   "outputs": [
    {
     "data": {
      "text/html": [
       "<div>\n",
       "<style>\n",
       "    .dataframe thead tr:only-child th {\n",
       "        text-align: right;\n",
       "    }\n",
       "\n",
       "    .dataframe thead th {\n",
       "        text-align: left;\n",
       "    }\n",
       "\n",
       "    .dataframe tbody tr th {\n",
       "        vertical-align: top;\n",
       "    }\n",
       "</style>\n",
       "<table border=\"1\" class=\"dataframe\">\n",
       "  <thead>\n",
       "    <tr style=\"text-align: right;\">\n",
       "      <th></th>\n",
       "      <th>NA_Sales</th>\n",
       "      <th>EU_Sales</th>\n",
       "      <th>JP_Sales</th>\n",
       "      <th>Other_Sales</th>\n",
       "      <th>Global_Sales</th>\n",
       "      <th>score</th>\n",
       "    </tr>\n",
       "    <tr>\n",
       "      <th>Date</th>\n",
       "      <th></th>\n",
       "      <th></th>\n",
       "      <th></th>\n",
       "      <th></th>\n",
       "      <th></th>\n",
       "      <th></th>\n",
       "    </tr>\n",
       "  </thead>\n",
       "  <tbody>\n",
       "    <tr>\n",
       "      <th>1996-12-31</th>\n",
       "      <td>30.44</td>\n",
       "      <td>13.82</td>\n",
       "      <td>7.11</td>\n",
       "      <td>1.92</td>\n",
       "      <td>53.28</td>\n",
       "      <td>290.8</td>\n",
       "    </tr>\n",
       "    <tr>\n",
       "      <th>1997-12-31</th>\n",
       "      <td>60.15</td>\n",
       "      <td>26.24</td>\n",
       "      <td>16.17</td>\n",
       "      <td>4.75</td>\n",
       "      <td>107.31</td>\n",
       "      <td>805.3</td>\n",
       "    </tr>\n",
       "    <tr>\n",
       "      <th>1998-12-31</th>\n",
       "      <td>67.21</td>\n",
       "      <td>30.52</td>\n",
       "      <td>16.40</td>\n",
       "      <td>4.82</td>\n",
       "      <td>118.91</td>\n",
       "      <td>1002.5</td>\n",
       "    </tr>\n",
       "    <tr>\n",
       "      <th>1999-12-31</th>\n",
       "      <td>95.03</td>\n",
       "      <td>44.35</td>\n",
       "      <td>21.72</td>\n",
       "      <td>6.68</td>\n",
       "      <td>168.00</td>\n",
       "      <td>1550.5</td>\n",
       "    </tr>\n",
       "    <tr>\n",
       "      <th>2000-12-31</th>\n",
       "      <td>78.30</td>\n",
       "      <td>41.78</td>\n",
       "      <td>23.42</td>\n",
       "      <td>8.09</td>\n",
       "      <td>151.59</td>\n",
       "      <td>1777.8</td>\n",
       "    </tr>\n",
       "  </tbody>\n",
       "</table>\n",
       "</div>"
      ],
      "text/plain": [
       "            NA_Sales  EU_Sales  JP_Sales  Other_Sales  Global_Sales   score\n",
       "Date                                                                       \n",
       "1996-12-31     30.44     13.82      7.11         1.92         53.28   290.8\n",
       "1997-12-31     60.15     26.24     16.17         4.75        107.31   805.3\n",
       "1998-12-31     67.21     30.52     16.40         4.82        118.91  1002.5\n",
       "1999-12-31     95.03     44.35     21.72         6.68        168.00  1550.5\n",
       "2000-12-31     78.30     41.78     23.42         8.09        151.59  1777.8"
      ]
     },
     "execution_count": 56,
     "metadata": {},
     "output_type": "execute_result"
    }
   ],
   "source": [
    "# sum the yearly sales and score for each business end year by using .resample(A)\n",
    "yearly_data = combined_data.resample(\"A\").sum()\n",
    "yearly_data.head()"
   ]
  },
  {
   "cell_type": "code",
   "execution_count": 57,
   "metadata": {},
   "outputs": [
    {
     "data": {
      "text/plain": [
       "Timestamp('2008-12-31 00:00:00', freq='A-DEC')"
      ]
     },
     "execution_count": 57,
     "metadata": {},
     "output_type": "execute_result"
    }
   ],
   "source": [
    "# Check the highest scored year\n",
    "yearly_data['score'].idxmax()"
   ]
  },
  {
   "cell_type": "markdown",
   "metadata": {},
   "source": [
    "As we can see from the result above after we found the max value of the index column. The highest year in terms of score reviews was in fact 2008. This means this is the sum of the scores across the whole year and 2008 was the highest scored year. Lets now analyse what was the best year for sale in all our regions also."
   ]
  },
  {
   "cell_type": "code",
   "execution_count": 58,
   "metadata": {},
   "outputs": [
    {
     "data": {
      "text/plain": [
       "Timestamp('2008-12-31 00:00:00', freq='A-DEC')"
      ]
     },
     "execution_count": 58,
     "metadata": {},
     "output_type": "execute_result"
    }
   ],
   "source": [
    "# Highest North American sales year\n",
    "yearly_data['NA_Sales'].idxmax()"
   ]
  },
  {
   "cell_type": "code",
   "execution_count": 59,
   "metadata": {},
   "outputs": [
    {
     "data": {
      "text/plain": [
       "Timestamp('2008-12-31 00:00:00', freq='A-DEC')"
      ]
     },
     "execution_count": 59,
     "metadata": {},
     "output_type": "execute_result"
    }
   ],
   "source": [
    "# check the higest EU sales year\n",
    "yearly_data['EU_Sales'].idxmax()"
   ]
  },
  {
   "cell_type": "code",
   "execution_count": 60,
   "metadata": {},
   "outputs": [
    {
     "data": {
      "text/plain": [
       "Timestamp('2006-12-31 00:00:00', freq='A-DEC')"
      ]
     },
     "execution_count": 60,
     "metadata": {},
     "output_type": "execute_result"
    }
   ],
   "source": [
    "# Check the highest JP sales year\n",
    "yearly_data['JP_Sales'].idxmax()"
   ]
  },
  {
   "cell_type": "code",
   "execution_count": 61,
   "metadata": {},
   "outputs": [
    {
     "data": {
      "text/plain": [
       "Timestamp('2008-12-31 00:00:00', freq='A-DEC')"
      ]
     },
     "execution_count": 61,
     "metadata": {},
     "output_type": "execute_result"
    }
   ],
   "source": [
    "# Check the highest global sales year\n",
    "yearly_data['Global_Sales'].idxmax()"
   ]
  },
  {
   "cell_type": "markdown",
   "metadata": {},
   "source": [
    "As we can see in terms of sales the 'golden year' for EU , North America and Global sales was 2008. The only differnce for the golden year in terms of sales was in the Japanese region. The golden year for Japanese sales was 2006. This is interesting to note that this year was the best across 4 out of our 5 columns especially because this was the time of the financial crisis."
   ]
  },
  {
   "cell_type": "markdown",
   "metadata": {},
   "source": [
    "#### Getting average rating per year"
   ]
  },
  {
   "cell_type": "markdown",
   "metadata": {},
   "source": [
    "We would like to see what year has the highest average scores. This is useful to analyse because of the gamers golden year. We need to know is 2008 also the highest average rated year or is the gamers golden year different. "
   ]
  },
  {
   "cell_type": "code",
   "execution_count": 62,
   "metadata": {},
   "outputs": [
    {
     "data": {
      "text/plain": [
       "Date\n",
       "1996-12-31    6.762791\n",
       "1997-12-31    6.710833\n",
       "1998-12-31    7.109929\n",
       "1999-12-31    7.383333\n",
       "2000-12-31    6.864093\n",
       "2001-12-31    7.328311\n",
       "2002-12-31    7.124691\n",
       "2003-12-31    7.512587\n",
       "2004-12-31    7.357349\n",
       "2005-12-31    7.251209\n",
       "2006-12-31    6.996163\n",
       "2007-12-31    6.661913\n",
       "2008-12-31    6.351822\n",
       "2009-12-31    6.822203\n",
       "2010-12-31    6.869110\n",
       "2011-12-31    7.048851\n",
       "2012-12-31    7.665948\n",
       "2013-12-31    7.562019\n",
       "2014-12-31    7.503472\n",
       "2015-12-31    7.815476\n",
       "2016-12-31    7.468085\n",
       "Freq: A-DEC, Name: score, dtype: float64"
      ]
     },
     "execution_count": 62,
     "metadata": {},
     "output_type": "execute_result"
    }
   ],
   "source": [
    "# Get average rating for each year by using .resample(A) and finding the mean of score\n",
    "avg_rating = combined_data.resample(\"A\").mean()\n",
    "avg_rating['score']"
   ]
  },
  {
   "cell_type": "markdown",
   "metadata": {},
   "source": [
    "As seen above the gamers golden year is 2015 infact. Where as the industries golden year is 2008. This is interesting to make note of as 2008 is actually the lowest scored average year. 2015 is the highest average scored year due to some great games being released during that period increasing the overall score. "
   ]
  },
  {
   "cell_type": "markdown",
   "metadata": {},
   "source": [
    "## Saving to a pickle  "
   ]
  },
  {
   "cell_type": "markdown",
   "metadata": {},
   "source": [
    "Saving the dataframe to a pickle file"
   ]
  },
  {
   "cell_type": "code",
   "execution_count": 63,
   "metadata": {
    "collapsed": true
   },
   "outputs": [],
   "source": [
    "yearly.to_pickle(\"../../data/analysis/100_Golden_year.pkl\")"
   ]
  },
  {
   "cell_type": "code",
   "execution_count": 64,
   "metadata": {
    "collapsed": true
   },
   "outputs": [
    {
     "data": {
      "text/plain": [
       "['builtins',\n",
       " 'builtins',\n",
       " 'os',\n",
       " 'sys',\n",
       " 'pandas',\n",
       " 'numpy',\n",
       " 'hashlib',\n",
       " 'matplotlib.pylab',\n",
       " 'seaborn',\n",
       " 'types']"
      ]
     },
     "execution_count": 64,
     "metadata": {},
     "output_type": "execute_result"
    }
   ],
   "source": [
    "import types\n",
    "def imports():\n",
    "    for name, val in globals().items():\n",
    "        if isinstance(val, types.ModuleType):\n",
    "            yield val.__name__\n",
    "list(imports())"
   ]
  },
  {
   "cell_type": "code",
   "execution_count": null,
   "metadata": {
    "collapsed": true
   },
   "outputs": [],
   "source": []
  },
  {
   "cell_type": "code",
   "execution_count": null,
   "metadata": {
    "collapsed": true
   },
   "outputs": [],
   "source": []
  }
 ],
 "metadata": {
  "kernelspec": {
   "display_name": "Python 3",
   "language": "python",
   "name": "python3"
  },
  "language_info": {
   "codemirror_mode": {
    "name": "ipython",
    "version": 3
   },
   "file_extension": ".py",
   "mimetype": "text/x-python",
   "name": "python",
   "nbconvert_exporter": "python",
   "pygments_lexer": "ipython3",
   "version": "3.6.3"
  }
 },
 "nbformat": 4,
 "nbformat_minor": 2
}
