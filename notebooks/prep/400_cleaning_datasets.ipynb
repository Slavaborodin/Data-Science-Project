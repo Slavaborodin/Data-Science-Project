{
 "cells": [
  {
   "cell_type": "markdown",
   "metadata": {},
   "source": [
    "# 400_load_videogame_datasets"
   ]
  },
  {
   "cell_type": "markdown",
   "metadata": {},
   "source": [
    "## Purpose"
   ]
  },
  {
   "cell_type": "markdown",
   "metadata": {},
   "source": [
    "In this notebook we will be loading both of our console datasets and saving them as pickle files. We will also get a brief overview of the data contaied in them."
   ]
  },
  {
   "cell_type": "markdown",
   "metadata": {},
   "source": [
    "## Datasets"
   ]
  },
  {
   "cell_type": "markdown",
   "metadata": {},
   "source": [
    "- Input: Console_Sales_2008-2017.csv && Console_Sales_All_Time.csv\n",
    "- Output: Console_Sales_2008-2017.pkl && Console_Sales-All-Time.pkl"
   ]
  },
  {
   "cell_type": "markdown",
   "metadata": {},
   "source": [
    "Importing the required libraries."
   ]
  },
  {
   "cell_type": "code",
   "execution_count": 1,
   "metadata": {
    "collapsed": true
   },
   "outputs": [],
   "source": [
    "import os\n",
    "import pandas as pd  "
   ]
  },
  {
   "cell_type": "code",
   "execution_count": 2,
   "metadata": {
    "collapsed": true
   },
   "outputs": [],
   "source": [
    "# check if paths exists otherwise error\n",
    "if not os.path.exists(\"../../data/raw/Console_Sales_2008-2017.csv\"):\n",
    "    print(\"Missing Dataset File\")"
   ]
  },
  {
   "cell_type": "code",
   "execution_count": 3,
   "metadata": {
    "collapsed": true
   },
   "outputs": [],
   "source": [
    "# check if paths exists otherwise error\n",
    "if not os.path.exists(\"../../data/raw/Console_Sales_All_Time.csv\"):\n",
    "    print(\"Missing Dataset File\")"
   ]
  },
  {
   "cell_type": "markdown",
   "metadata": {},
   "source": [
    "# Loading the datasets"
   ]
  },
  {
   "cell_type": "code",
   "execution_count": 4,
   "metadata": {},
   "outputs": [
    {
     "data": {
      "text/plain": [
       "(11, 12)"
      ]
     },
     "execution_count": 4,
     "metadata": {},
     "output_type": "execute_result"
    }
   ],
   "source": [
    "# check it loaded correctly\n",
    "consoles1 = pd.read_csv(\"../../data/raw/Console_Sales_2008-2017.csv\")\n",
    "consoles1.shape"
   ]
  },
  {
   "cell_type": "code",
   "execution_count": 5,
   "metadata": {},
   "outputs": [
    {
     "data": {
      "text/plain": [
       "(26, 9)"
      ]
     },
     "execution_count": 5,
     "metadata": {},
     "output_type": "execute_result"
    }
   ],
   "source": [
    "# check it loaded correctly\n",
    "consoles2 = pd.read_csv(\"../../data/raw/Console_Sales_All_Time.csv\")\n",
    "consoles2.shape"
   ]
  },
  {
   "cell_type": "markdown",
   "metadata": {},
   "source": [
    "## Getting an overview of the datasets."
   ]
  },
  {
   "cell_type": "markdown",
   "metadata": {},
   "source": [
    "Now that we have loaded both the datasets we are going to take a brief look at the data contained within the datasets."
   ]
  },
  {
   "cell_type": "code",
   "execution_count": 6,
   "metadata": {},
   "outputs": [
    {
     "data": {
      "text/html": [
       "<div>\n",
       "<style>\n",
       "    .dataframe thead tr:only-child th {\n",
       "        text-align: right;\n",
       "    }\n",
       "\n",
       "    .dataframe thead th {\n",
       "        text-align: left;\n",
       "    }\n",
       "\n",
       "    .dataframe tbody tr th {\n",
       "        vertical-align: top;\n",
       "    }\n",
       "</style>\n",
       "<table border=\"1\" class=\"dataframe\">\n",
       "  <thead>\n",
       "    <tr style=\"text-align: right;\">\n",
       "      <th></th>\n",
       "      <th>Console</th>\n",
       "      <th>Abbreviation</th>\n",
       "      <th>Sales_2008</th>\n",
       "      <th>Sales_2009</th>\n",
       "      <th>Sales_2010</th>\n",
       "      <th>Sales_2011</th>\n",
       "      <th>Sales_2012</th>\n",
       "      <th>Sales_2013</th>\n",
       "      <th>Sales_2014</th>\n",
       "      <th>Sales_2015</th>\n",
       "      <th>Sales_2016</th>\n",
       "      <th>Sales_2017</th>\n",
       "    </tr>\n",
       "  </thead>\n",
       "  <tbody>\n",
       "    <tr>\n",
       "      <th>0</th>\n",
       "      <td>Playstation 4</td>\n",
       "      <td>PS4</td>\n",
       "      <td>NaN</td>\n",
       "      <td>NaN</td>\n",
       "      <td>NaN</td>\n",
       "      <td>NaN</td>\n",
       "      <td>NaN</td>\n",
       "      <td>4.49</td>\n",
       "      <td>14.59</td>\n",
       "      <td>17.51</td>\n",
       "      <td>17.59</td>\n",
       "      <td>19.64</td>\n",
       "    </tr>\n",
       "    <tr>\n",
       "      <th>1</th>\n",
       "      <td>Nintendo switch</td>\n",
       "      <td>NS</td>\n",
       "      <td>NaN</td>\n",
       "      <td>NaN</td>\n",
       "      <td>NaN</td>\n",
       "      <td>NaN</td>\n",
       "      <td>NaN</td>\n",
       "      <td>NaN</td>\n",
       "      <td>NaN</td>\n",
       "      <td>NaN</td>\n",
       "      <td>NaN</td>\n",
       "      <td>11.85</td>\n",
       "    </tr>\n",
       "    <tr>\n",
       "      <th>2</th>\n",
       "      <td>Xbox one</td>\n",
       "      <td>XOne</td>\n",
       "      <td>NaN</td>\n",
       "      <td>NaN</td>\n",
       "      <td>NaN</td>\n",
       "      <td>NaN</td>\n",
       "      <td>NaN</td>\n",
       "      <td>3.08</td>\n",
       "      <td>7.91</td>\n",
       "      <td>8.63</td>\n",
       "      <td>8.37</td>\n",
       "      <td>8.21</td>\n",
       "    </tr>\n",
       "    <tr>\n",
       "      <th>3</th>\n",
       "      <td>Nintendo 3ds</td>\n",
       "      <td>3DS</td>\n",
       "      <td>NaN</td>\n",
       "      <td>NaN</td>\n",
       "      <td>NaN</td>\n",
       "      <td>12.56</td>\n",
       "      <td>13.48</td>\n",
       "      <td>14.31</td>\n",
       "      <td>9.74</td>\n",
       "      <td>7.33</td>\n",
       "      <td>7.59</td>\n",
       "      <td>6.19</td>\n",
       "    </tr>\n",
       "    <tr>\n",
       "      <th>4</th>\n",
       "      <td>Playstation vita</td>\n",
       "      <td>PSV</td>\n",
       "      <td>NaN</td>\n",
       "      <td>NaN</td>\n",
       "      <td>NaN</td>\n",
       "      <td>0.48</td>\n",
       "      <td>3.69</td>\n",
       "      <td>4.30</td>\n",
       "      <td>2.30</td>\n",
       "      <td>2.68</td>\n",
       "      <td>2.04</td>\n",
       "      <td>0.72</td>\n",
       "    </tr>\n",
       "  </tbody>\n",
       "</table>\n",
       "</div>"
      ],
      "text/plain": [
       "            Console Abbreviation  Sales_2008  Sales_2009  Sales_2010  \\\n",
       "0     Playstation 4          PS4         NaN         NaN         NaN   \n",
       "1   Nintendo switch           NS         NaN         NaN         NaN   \n",
       "2          Xbox one         XOne         NaN         NaN         NaN   \n",
       "3      Nintendo 3ds          3DS         NaN         NaN         NaN   \n",
       "4  Playstation vita          PSV         NaN         NaN         NaN   \n",
       "\n",
       "   Sales_2011  Sales_2012  Sales_2013  Sales_2014  Sales_2015  Sales_2016  \\\n",
       "0         NaN         NaN        4.49       14.59       17.51       17.59   \n",
       "1         NaN         NaN         NaN         NaN         NaN         NaN   \n",
       "2         NaN         NaN        3.08        7.91        8.63        8.37   \n",
       "3       12.56       13.48       14.31        9.74        7.33        7.59   \n",
       "4        0.48        3.69        4.30        2.30        2.68        2.04   \n",
       "\n",
       "   Sales_2017  \n",
       "0       19.64  \n",
       "1       11.85  \n",
       "2        8.21  \n",
       "3        6.19  \n",
       "4        0.72  "
      ]
     },
     "execution_count": 6,
     "metadata": {},
     "output_type": "execute_result"
    }
   ],
   "source": [
    "consoles1.head()"
   ]
  },
  {
   "cell_type": "code",
   "execution_count": 7,
   "metadata": {},
   "outputs": [
    {
     "data": {
      "text/plain": [
       "array(['Playstation 4', 'Nintendo switch', 'Xbox one', 'Nintendo 3ds',\n",
       "       'Playstation vita', 'Playstation 3', 'Nintendo wii u', 'Xbox 360',\n",
       "       'PSP', 'Nintendo wii', 'Nintendo ds'], dtype=object)"
      ]
     },
     "execution_count": 7,
     "metadata": {},
     "output_type": "execute_result"
    }
   ],
   "source": [
    "# unique console\n",
    "consoles1[\"Console\"].unique()"
   ]
  },
  {
   "cell_type": "code",
   "execution_count": 8,
   "metadata": {},
   "outputs": [
    {
     "data": {
      "text/html": [
       "<div>\n",
       "<style>\n",
       "    .dataframe thead tr:only-child th {\n",
       "        text-align: right;\n",
       "    }\n",
       "\n",
       "    .dataframe thead th {\n",
       "        text-align: left;\n",
       "    }\n",
       "\n",
       "    .dataframe tbody tr th {\n",
       "        vertical-align: top;\n",
       "    }\n",
       "</style>\n",
       "<table border=\"1\" class=\"dataframe\">\n",
       "  <thead>\n",
       "    <tr style=\"text-align: right;\">\n",
       "      <th></th>\n",
       "      <th>Console</th>\n",
       "      <th>Abbreviation</th>\n",
       "      <th>Sales_NA</th>\n",
       "      <th>Sales_Europe</th>\n",
       "      <th>Sales_Japan</th>\n",
       "      <th>Sales_Rest_Of_World</th>\n",
       "      <th>Sales_Total</th>\n",
       "      <th>Release_Year</th>\n",
       "      <th>Developer</th>\n",
       "    </tr>\n",
       "  </thead>\n",
       "  <tbody>\n",
       "    <tr>\n",
       "      <th>0</th>\n",
       "      <td>Playstation 2</td>\n",
       "      <td>PS2</td>\n",
       "      <td>53.65</td>\n",
       "      <td>55.28</td>\n",
       "      <td>23.18</td>\n",
       "      <td>25.57</td>\n",
       "      <td>157.68</td>\n",
       "      <td>2000</td>\n",
       "      <td>Sony</td>\n",
       "    </tr>\n",
       "    <tr>\n",
       "      <th>1</th>\n",
       "      <td>Nintendo DS</td>\n",
       "      <td>DS</td>\n",
       "      <td>57.39</td>\n",
       "      <td>52.07</td>\n",
       "      <td>33.01</td>\n",
       "      <td>12.43</td>\n",
       "      <td>154.90</td>\n",
       "      <td>2004</td>\n",
       "      <td>Nintendo</td>\n",
       "    </tr>\n",
       "    <tr>\n",
       "      <th>2</th>\n",
       "      <td>Game Boy</td>\n",
       "      <td>GB</td>\n",
       "      <td>43.18</td>\n",
       "      <td>40.05</td>\n",
       "      <td>32.47</td>\n",
       "      <td>2.99</td>\n",
       "      <td>118.69</td>\n",
       "      <td>1989</td>\n",
       "      <td>Nintendo</td>\n",
       "    </tr>\n",
       "    <tr>\n",
       "      <th>3</th>\n",
       "      <td>Playstation</td>\n",
       "      <td>PS</td>\n",
       "      <td>38.94</td>\n",
       "      <td>36.91</td>\n",
       "      <td>19.36</td>\n",
       "      <td>9.04</td>\n",
       "      <td>104.25</td>\n",
       "      <td>1994</td>\n",
       "      <td>Sony</td>\n",
       "    </tr>\n",
       "    <tr>\n",
       "      <th>4</th>\n",
       "      <td>Nintendo Wii</td>\n",
       "      <td>Wii</td>\n",
       "      <td>45.51</td>\n",
       "      <td>33.88</td>\n",
       "      <td>12.77</td>\n",
       "      <td>9.48</td>\n",
       "      <td>101.64</td>\n",
       "      <td>2006</td>\n",
       "      <td>Nintendo</td>\n",
       "    </tr>\n",
       "  </tbody>\n",
       "</table>\n",
       "</div>"
      ],
      "text/plain": [
       "         Console Abbreviation  Sales_NA  Sales_Europe  Sales_Japan  \\\n",
       "0  Playstation 2          PS2     53.65         55.28        23.18   \n",
       "1    Nintendo DS           DS     57.39         52.07        33.01   \n",
       "2       Game Boy           GB     43.18         40.05        32.47   \n",
       "3   Playstation            PS     38.94         36.91        19.36   \n",
       "4   Nintendo Wii          Wii     45.51         33.88        12.77   \n",
       "\n",
       "   Sales_Rest_Of_World  Sales_Total  Release_Year Developer  \n",
       "0                25.57       157.68          2000      Sony  \n",
       "1                12.43       154.90          2004  Nintendo  \n",
       "2                 2.99       118.69          1989  Nintendo  \n",
       "3                 9.04       104.25          1994      Sony  \n",
       "4                 9.48       101.64          2006  Nintendo  "
      ]
     },
     "execution_count": 8,
     "metadata": {},
     "output_type": "execute_result"
    }
   ],
   "source": [
    "consoles2.head()"
   ]
  },
  {
   "cell_type": "code",
   "execution_count": 9,
   "metadata": {},
   "outputs": [
    {
     "data": {
      "text/plain": [
       "array(['Playstation 2', 'Nintendo DS', 'Game Boy', 'Playstation ',\n",
       "       'Nintendo Wii', 'Playstation 3', 'Xbox 360', 'Game Boy Advance',\n",
       "       'Playstation Portable', 'Playstation 4', 'Nintendo 3DS',\n",
       "       'Nintendo Entertainment System',\n",
       "       'Super Nintendo Entertainment System', 'Xbox One', 'Nintendo 64',\n",
       "       'Sega Genesis', 'Atari 2600', 'Xbox', 'GameCube',\n",
       "       'Playstation Vita', 'Nintendo Switch', 'Wii U', 'Game Gear',\n",
       "       'Sega Saturn', 'Dreamcast', 'Atari 7800'], dtype=object)"
      ]
     },
     "execution_count": 9,
     "metadata": {},
     "output_type": "execute_result"
    }
   ],
   "source": [
    "# unique consoles\n",
    "consoles2[\"Console\"].unique()"
   ]
  },
  {
   "cell_type": "markdown",
   "metadata": {},
   "source": [
    "The above shows us a brief view of the data we have for each console and what consoles we have data for. This information will be useful when analysing the data."
   ]
  },
  {
   "cell_type": "markdown",
   "metadata": {},
   "source": [
    "## Cleaning the datasets"
   ]
  },
  {
   "cell_type": "markdown",
   "metadata": {},
   "source": [
    "Both datasets are small and are unlikely to have missing data but we will check just in case."
   ]
  },
  {
   "cell_type": "code",
   "execution_count": 10,
   "metadata": {},
   "outputs": [
    {
     "data": {
      "text/plain": [
       "Console         0\n",
       "Abbreviation    0\n",
       "Sales_2008      6\n",
       "Sales_2009      6\n",
       "Sales_2010      6\n",
       "Sales_2011      4\n",
       "Sales_2012      3\n",
       "Sales_2013      1\n",
       "Sales_2014      2\n",
       "Sales_2015      3\n",
       "Sales_2016      4\n",
       "Sales_2017      3\n",
       "dtype: int64"
      ]
     },
     "execution_count": 10,
     "metadata": {},
     "output_type": "execute_result"
    }
   ],
   "source": [
    "# null values\n",
    "consoles1.isnull().sum()"
   ]
  },
  {
   "cell_type": "code",
   "execution_count": 11,
   "metadata": {},
   "outputs": [
    {
     "data": {
      "text/plain": [
       "Console                0\n",
       "Abbreviation           0\n",
       "Sales_NA               0\n",
       "Sales_Europe           1\n",
       "Sales_Japan            2\n",
       "Sales_Rest_Of_World    1\n",
       "Sales_Total            0\n",
       "Release_Year           0\n",
       "Developer              0\n",
       "dtype: int64"
      ]
     },
     "execution_count": 11,
     "metadata": {},
     "output_type": "execute_result"
    }
   ],
   "source": [
    "# null values\n",
    "consoles2.isnull().sum()"
   ]
  },
  {
   "cell_type": "markdown",
   "metadata": {},
   "source": [
    "As thought there are no null values, therefore there is no cleaning needed to be done on these datasets."
   ]
  },
  {
   "cell_type": "markdown",
   "metadata": {},
   "source": [
    "## Saving the datasets"
   ]
  },
  {
   "cell_type": "code",
   "execution_count": 12,
   "metadata": {
    "collapsed": true
   },
   "outputs": [],
   "source": [
    "# columns to save\n",
    "cols = consoles1.columns\n",
    "cols1 = consoles2.columns"
   ]
  },
  {
   "cell_type": "markdown",
   "metadata": {},
   "source": [
    "Saving as pickle files."
   ]
  },
  {
   "cell_type": "code",
   "execution_count": 13,
   "metadata": {
    "collapsed": true
   },
   "outputs": [],
   "source": [
    "# pickle format saving\n",
    "consoles1[cols].to_pickle(\"../../data/prep/Console_Sales_2008-2017.pkl\")\n",
    "consoles2[cols1].to_pickle(\"../../data/prep/Console_Sales_All_Time.pkl\")"
   ]
  },
  {
   "cell_type": "code",
   "execution_count": null,
   "metadata": {
    "collapsed": true
   },
   "outputs": [],
   "source": []
  }
 ],
 "metadata": {
  "kernelspec": {
   "display_name": "Python 3",
   "language": "python",
   "name": "python3"
  },
  "language_info": {
   "codemirror_mode": {
    "name": "ipython",
    "version": 3
   },
   "file_extension": ".py",
   "mimetype": "text/x-python",
   "name": "python",
   "nbconvert_exporter": "python",
   "pygments_lexer": "ipython3",
   "version": "3.6.3"
  }
 },
 "nbformat": 4,
 "nbformat_minor": 2
}
